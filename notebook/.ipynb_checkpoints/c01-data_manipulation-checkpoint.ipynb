{
 "cells": [
  {
   "cell_type": "code",
   "execution_count": 12,
   "id": "b67ae131",
   "metadata": {},
   "outputs": [],
   "source": [
    "import pandas as pd\n",
    "import numpy as np\n",
    "import inflection\n",
    "import datetime\n",
    "pd.options.mode.chained_assignment = None "
   ]
  },
  {
   "cell_type": "markdown",
   "id": "dbe8c12c",
   "metadata": {},
   "source": [
    "# 0.0 Load Data"
   ]
  },
  {
   "cell_type": "code",
   "execution_count": 13,
   "id": "69ae744e",
   "metadata": {},
   "outputs": [],
   "source": [
    "xls = pd.ExcelFile('..\\data\\Indicadores_Economicos.xlsx')\n",
    "\n",
    "df1 = xls.parse('Taxa Selic', skiprows=3, index_col=None, na_values=['NA'])"
   ]
  },
  {
   "cell_type": "markdown",
   "id": "b58c7439",
   "metadata": {},
   "source": [
    "# 1.0 Selic"
   ]
  },
  {
   "cell_type": "code",
   "execution_count": 14,
   "id": "a1f83d3c",
   "metadata": {},
   "outputs": [
    {
     "data": {
      "text/html": [
       "<div>\n",
       "<style scoped>\n",
       "    .dataframe tbody tr th:only-of-type {\n",
       "        vertical-align: middle;\n",
       "    }\n",
       "\n",
       "    .dataframe tbody tr th {\n",
       "        vertical-align: top;\n",
       "    }\n",
       "\n",
       "    .dataframe thead th {\n",
       "        text-align: right;\n",
       "    }\n",
       "</style>\n",
       "<table border=\"1\" class=\"dataframe\">\n",
       "  <thead>\n",
       "    <tr style=\"text-align: right;\">\n",
       "      <th></th>\n",
       "      <th>reunião</th>\n",
       "      <th>data</th>\n",
       "      <th>período de vigência</th>\n",
       "      <th>meta selic</th>\n",
       "      <th>tban</th>\n",
       "      <th>retorno_mesal</th>\n",
       "      <th>taxa_selic</th>\n",
       "    </tr>\n",
       "  </thead>\n",
       "  <tbody>\n",
       "    <tr>\n",
       "      <th>3</th>\n",
       "      <td>238º</td>\n",
       "      <td>2021-05-05 00:00:00</td>\n",
       "      <td>06/05/2021 - 16/06/2021</td>\n",
       "      <td>3.5</td>\n",
       "      <td>NaN</td>\n",
       "      <td>0.39</td>\n",
       "      <td>3.4</td>\n",
       "    </tr>\n",
       "    <tr>\n",
       "      <th>4</th>\n",
       "      <td>237º</td>\n",
       "      <td>2021-03-17 00:00:00</td>\n",
       "      <td>18/03/2021 - 05/05/2021</td>\n",
       "      <td>2.75</td>\n",
       "      <td>NaN</td>\n",
       "      <td>0.34</td>\n",
       "      <td>2.65</td>\n",
       "    </tr>\n",
       "    <tr>\n",
       "      <th>5</th>\n",
       "      <td>236º</td>\n",
       "      <td>2021-01-20 00:00:00</td>\n",
       "      <td>21/01/2021 - 17/03/2021</td>\n",
       "      <td>2</td>\n",
       "      <td>NaN</td>\n",
       "      <td>0.28</td>\n",
       "      <td>1.9</td>\n",
       "    </tr>\n",
       "    <tr>\n",
       "      <th>6</th>\n",
       "      <td>235º</td>\n",
       "      <td>2020-12-09 00:00:00</td>\n",
       "      <td>10/12/2020 - 20/01/2021</td>\n",
       "      <td>2</td>\n",
       "      <td>NaN</td>\n",
       "      <td>0.21</td>\n",
       "      <td>1.9</td>\n",
       "    </tr>\n",
       "    <tr>\n",
       "      <th>7</th>\n",
       "      <td>234º</td>\n",
       "      <td>2020-10-28 00:00:00</td>\n",
       "      <td>29/10/2020 - 09/12/2020</td>\n",
       "      <td>2</td>\n",
       "      <td>NaN</td>\n",
       "      <td>0.22</td>\n",
       "      <td>1.9</td>\n",
       "    </tr>\n",
       "  </tbody>\n",
       "</table>\n",
       "</div>"
      ],
      "text/plain": [
       "  reunião                 data      período de vigência meta selic tban  \\\n",
       "3    238º  2021-05-05 00:00:00  06/05/2021 - 16/06/2021        3.5  NaN   \n",
       "4    237º  2021-03-17 00:00:00  18/03/2021 - 05/05/2021       2.75  NaN   \n",
       "5    236º  2021-01-20 00:00:00  21/01/2021 - 17/03/2021          2  NaN   \n",
       "6    235º  2020-12-09 00:00:00  10/12/2020 - 20/01/2021          2  NaN   \n",
       "7    234º  2020-10-28 00:00:00  29/10/2020 - 09/12/2020          2  NaN   \n",
       "\n",
       "  retorno_mesal taxa_selic  \n",
       "3          0.39        3.4  \n",
       "4          0.34       2.65  \n",
       "5          0.28        1.9  \n",
       "6          0.21        1.9  \n",
       "7          0.22        1.9  "
      ]
     },
     "execution_count": 14,
     "metadata": {},
     "output_type": "execute_result"
    }
   ],
   "source": [
    "def parse_selic(df):\n",
    "    df = df.iloc[3:]\n",
    "    df.drop(['Unnamed: 2'],axis=1, inplace=True)\n",
    "    df.rename(columns={'Unnamed: 1':'Data'}, inplace =True)\n",
    "    cols_old = df.columns.to_list()\n",
    "    snakecase = lambda x: inflection.underscore(x)\n",
    "    cols_new = list(map(snakecase, cols_old))\n",
    "\n",
    "\n",
    "    #rename\n",
    "    df.columns = cols_new\n",
    "    df.rename(columns={'taxa selic': 'retorno_mesal'}, inplace =True)\n",
    "    df.rename(columns={'unnamed: 7': 'taxa_selic'}, inplace =True)\n",
    "    return df\n",
    "selic = parse_selic(df1)\n",
    "selic.head()"
   ]
  },
  {
   "cell_type": "code",
   "execution_count": 15,
   "id": "69755b9a",
   "metadata": {},
   "outputs": [
    {
     "data": {
      "text/plain": [
       "reunião                  0\n",
       "data                     8\n",
       "período de vigência      0\n",
       "meta selic               0\n",
       "tban                   217\n",
       "retorno_mesal            0\n",
       "taxa_selic               0\n",
       "dtype: int64"
      ]
     },
     "execution_count": 15,
     "metadata": {},
     "output_type": "execute_result"
    }
   ],
   "source": [
    "selic.isna().sum()"
   ]
  },
  {
   "cell_type": "markdown",
   "id": "5f955842",
   "metadata": {},
   "source": [
    "# 2.0 Indice DI"
   ]
  },
  {
   "cell_type": "code",
   "execution_count": 16,
   "id": "9208bd82",
   "metadata": {},
   "outputs": [],
   "source": [
    "df2 = xls.parse('Indice DI', skiprows=2, index_col=None, na_values=['NA'])"
   ]
  },
  {
   "cell_type": "code",
   "execution_count": 17,
   "id": "a2cb0f29",
   "metadata": {
    "scrolled": false
   },
   "outputs": [
    {
     "data": {
      "text/html": [
       "<div>\n",
       "<style scoped>\n",
       "    .dataframe tbody tr th:only-of-type {\n",
       "        vertical-align: middle;\n",
       "    }\n",
       "\n",
       "    .dataframe tbody tr th {\n",
       "        vertical-align: top;\n",
       "    }\n",
       "\n",
       "    .dataframe thead th {\n",
       "        text-align: right;\n",
       "    }\n",
       "</style>\n",
       "<table border=\"1\" class=\"dataframe\">\n",
       "  <thead>\n",
       "    <tr style=\"text-align: right;\">\n",
       "      <th></th>\n",
       "      <th>Data</th>\n",
       "      <th>%</th>\n",
       "    </tr>\n",
       "  </thead>\n",
       "  <tbody>\n",
       "    <tr>\n",
       "      <th>0</th>\n",
       "      <td>1986-07-01 00:00:00</td>\n",
       "      <td>1.84</td>\n",
       "    </tr>\n",
       "    <tr>\n",
       "      <th>1</th>\n",
       "      <td>1986-08-01 00:00:00</td>\n",
       "      <td>2.3</td>\n",
       "    </tr>\n",
       "    <tr>\n",
       "      <th>2</th>\n",
       "      <td>1986-09-01 00:00:00</td>\n",
       "      <td>2.71</td>\n",
       "    </tr>\n",
       "    <tr>\n",
       "      <th>3</th>\n",
       "      <td>1986-10-01 00:00:00</td>\n",
       "      <td>2.87</td>\n",
       "    </tr>\n",
       "    <tr>\n",
       "      <th>4</th>\n",
       "      <td>1986-11-01 00:00:00</td>\n",
       "      <td>5.15</td>\n",
       "    </tr>\n",
       "    <tr>\n",
       "      <th>...</th>\n",
       "      <td>...</td>\n",
       "      <td>...</td>\n",
       "    </tr>\n",
       "    <tr>\n",
       "      <th>431</th>\n",
       "      <td>2021-02-01 00:00:00</td>\n",
       "      <td>0.13</td>\n",
       "    </tr>\n",
       "    <tr>\n",
       "      <th>432</th>\n",
       "      <td>2021-03-01 00:00:00</td>\n",
       "      <td>0.2</td>\n",
       "    </tr>\n",
       "    <tr>\n",
       "      <th>433</th>\n",
       "      <td>2021-04-01 00:00:00</td>\n",
       "      <td>0.21</td>\n",
       "    </tr>\n",
       "    <tr>\n",
       "      <th>434</th>\n",
       "      <td>2021-05-01 00:00:00</td>\n",
       "      <td>0.27</td>\n",
       "    </tr>\n",
       "    <tr>\n",
       "      <th>435</th>\n",
       "      <td>2021-06-01 00:00:00</td>\n",
       "      <td>0.31</td>\n",
       "    </tr>\n",
       "  </tbody>\n",
       "</table>\n",
       "<p>420 rows × 2 columns</p>\n",
       "</div>"
      ],
      "text/plain": [
       "                    Data     %\n",
       "0    1986-07-01 00:00:00  1.84\n",
       "1    1986-08-01 00:00:00   2.3\n",
       "2    1986-09-01 00:00:00  2.71\n",
       "3    1986-10-01 00:00:00  2.87\n",
       "4    1986-11-01 00:00:00  5.15\n",
       "..                   ...   ...\n",
       "431  2021-02-01 00:00:00  0.13\n",
       "432  2021-03-01 00:00:00   0.2\n",
       "433  2021-04-01 00:00:00  0.21\n",
       "434  2021-05-01 00:00:00  0.27\n",
       "435  2021-06-01 00:00:00  0.31\n",
       "\n",
       "[420 rows x 2 columns]"
      ]
     },
     "execution_count": 17,
     "metadata": {},
     "output_type": "execute_result"
    }
   ],
   "source": [
    "def parse_indiceDI(df2):\n",
    "    di0 = df2[['Data', '%']]\n",
    "    di1 = df2[['Data.1', '%.1']].rename(columns={'Data.1':'Data','%.1': '%'}).dropna()\n",
    "    di2 = df2[['Data.2', '%.2']].rename(columns={'Data.2':'Data','%.2': '%'}).dropna()\n",
    "    di3 = df2[['Data.3', '%.3']].rename(columns={'Data.3':'Data','%.3': '%'}).dropna()\n",
    "    # Merge into only one column\n",
    "    indice_di = pd.concat([di0,di1,di2, di3], ignore_index=True)\n",
    "    # Drop unecessary headers\n",
    "    indice_di = indice_di.loc[indice_di.Data != 'Data']\n",
    "    return indice_di\n",
    "\n",
    "indice_di = parse_indiceDI(df2)\n",
    "indice_di"
   ]
  },
  {
   "cell_type": "code",
   "execution_count": 18,
   "id": "1ed26694",
   "metadata": {},
   "outputs": [
    {
     "data": {
      "text/plain": [
       "Data    0\n",
       "%       0\n",
       "dtype: int64"
      ]
     },
     "execution_count": 18,
     "metadata": {},
     "output_type": "execute_result"
    }
   ],
   "source": [
    "indice_di.isna().sum()"
   ]
  },
  {
   "cell_type": "markdown",
   "id": "f5e0e4e5",
   "metadata": {},
   "source": [
    "# 3.0 Índice IPCA"
   ]
  },
  {
   "cell_type": "code",
   "execution_count": 19,
   "id": "34f23e8f",
   "metadata": {},
   "outputs": [
    {
     "data": {
      "text/plain": [
       "(486, 2)"
      ]
     },
     "execution_count": 19,
     "metadata": {},
     "output_type": "execute_result"
    }
   ],
   "source": [
    "df3 = xls.parse('Indice IPCA', skiprows=3, index_col=None, na_values=['NA'])\n",
    "# Drop unecessary headers\n",
    "ipca = df3.loc[(df3.Data!='IPCA (IBGE)')& (df3.Data!='Data')]\n",
    "ipca.shape"
   ]
  },
  {
   "cell_type": "code",
   "execution_count": 20,
   "id": "bd7276ae",
   "metadata": {},
   "outputs": [
    {
     "data": {
      "text/plain": [
       "Data    0\n",
       "%       0\n",
       "dtype: int64"
      ]
     },
     "execution_count": 20,
     "metadata": {},
     "output_type": "execute_result"
    }
   ],
   "source": [
    "ipca.isna().sum()"
   ]
  },
  {
   "cell_type": "markdown",
   "id": "0a0c1c6a",
   "metadata": {},
   "source": [
    "# 4.0 Dolar"
   ]
  },
  {
   "cell_type": "code",
   "execution_count": 21,
   "id": "6a3af5fb",
   "metadata": {
    "scrolled": true
   },
   "outputs": [
    {
     "data": {
      "text/plain": [
       "Data                  0\n",
       "Fechamento            0\n",
       "Variação              0\n",
       "Retorno Mensal (%)    0\n",
       "Abertura              0\n",
       "Máxima                0\n",
       "Mínima                0\n",
       "Volume                8\n",
       "dtype: int64"
      ]
     },
     "execution_count": 21,
     "metadata": {},
     "output_type": "execute_result"
    }
   ],
   "source": [
    "df4 = xls.parse('Dolar', skiprows=2, index_col=None, na_values=['NA'])\n",
    "dolar = df4.loc[~df4.Data.isna()]\n",
    "dolar.isna().sum()"
   ]
  },
  {
   "cell_type": "code",
   "execution_count": 39,
   "id": "57a0b107",
   "metadata": {},
   "outputs": [
    {
     "data": {
      "text/plain": [
       "1809"
      ]
     },
     "execution_count": 39,
     "metadata": {},
     "output_type": "execute_result"
    }
   ],
   "source": [
    "dolar.loc[dolar['Variação']==0].shape[0]"
   ]
  },
  {
   "cell_type": "markdown",
   "id": "97e731c4",
   "metadata": {},
   "source": [
    "# 5.0 BOVA11"
   ]
  },
  {
   "cell_type": "code",
   "execution_count": 23,
   "id": "525af1c6",
   "metadata": {},
   "outputs": [
    {
     "data": {
      "text/plain": [
       "Data                  0\n",
       "Fechamento            0\n",
       "Variação              0\n",
       "Retorno mensal (%)    0\n",
       "Abertura              0\n",
       "Máxima                0\n",
       "Mínima                0\n",
       "Volume                0\n",
       "dtype: int64"
      ]
     },
     "execution_count": 23,
     "metadata": {},
     "output_type": "execute_result"
    }
   ],
   "source": [
    "bova11 = xls.parse('Bova11', skiprows=2, index_col=None, na_values=['NA'])\n",
    "bova11.isna().sum()"
   ]
  },
  {
   "cell_type": "code",
   "execution_count": 24,
   "id": "d762da4b",
   "metadata": {
    "scrolled": false
   },
   "outputs": [
    {
     "data": {
      "text/html": [
       "<div>\n",
       "<style scoped>\n",
       "    .dataframe tbody tr th:only-of-type {\n",
       "        vertical-align: middle;\n",
       "    }\n",
       "\n",
       "    .dataframe tbody tr th {\n",
       "        vertical-align: top;\n",
       "    }\n",
       "\n",
       "    .dataframe thead th {\n",
       "        text-align: right;\n",
       "    }\n",
       "</style>\n",
       "<table border=\"1\" class=\"dataframe\">\n",
       "  <thead>\n",
       "    <tr style=\"text-align: right;\">\n",
       "      <th></th>\n",
       "      <th>Data</th>\n",
       "      <th>Fechamento</th>\n",
       "      <th>Variação</th>\n",
       "      <th>Retorno mensal (%)</th>\n",
       "      <th>Abertura</th>\n",
       "      <th>Máxima</th>\n",
       "      <th>Mínima</th>\n",
       "      <th>Volume</th>\n",
       "    </tr>\n",
       "  </thead>\n",
       "  <tbody>\n",
       "    <tr>\n",
       "      <th>0</th>\n",
       "      <td>2021-07-19</td>\n",
       "      <td>120.20</td>\n",
       "      <td>-0.95</td>\n",
       "      <td>-0.0078</td>\n",
       "      <td>119.50</td>\n",
       "      <td>120.20</td>\n",
       "      <td>118.64</td>\n",
       "      <td>6486683</td>\n",
       "    </tr>\n",
       "    <tr>\n",
       "      <th>1</th>\n",
       "      <td>2021-07-16</td>\n",
       "      <td>121.15</td>\n",
       "      <td>0.00</td>\n",
       "      <td>0.0000</td>\n",
       "      <td>123.01</td>\n",
       "      <td>123.14</td>\n",
       "      <td>121.04</td>\n",
       "      <td>0</td>\n",
       "    </tr>\n",
       "    <tr>\n",
       "      <th>2</th>\n",
       "      <td>2021-07-16</td>\n",
       "      <td>121.15</td>\n",
       "      <td>-1.30</td>\n",
       "      <td>-0.0106</td>\n",
       "      <td>123.01</td>\n",
       "      <td>123.14</td>\n",
       "      <td>121.04</td>\n",
       "      <td>5638173</td>\n",
       "    </tr>\n",
       "    <tr>\n",
       "      <th>3</th>\n",
       "      <td>2021-07-15</td>\n",
       "      <td>122.45</td>\n",
       "      <td>-0.88</td>\n",
       "      <td>-0.0071</td>\n",
       "      <td>123.23</td>\n",
       "      <td>124.07</td>\n",
       "      <td>122.08</td>\n",
       "      <td>3957784</td>\n",
       "    </tr>\n",
       "    <tr>\n",
       "      <th>4</th>\n",
       "      <td>2021-07-14</td>\n",
       "      <td>123.33</td>\n",
       "      <td>0.13</td>\n",
       "      <td>0.0011</td>\n",
       "      <td>124.30</td>\n",
       "      <td>124.71</td>\n",
       "      <td>123.20</td>\n",
       "      <td>6404311</td>\n",
       "    </tr>\n",
       "  </tbody>\n",
       "</table>\n",
       "</div>"
      ],
      "text/plain": [
       "        Data  Fechamento  Variação  Retorno mensal (%)  Abertura  Máxima  \\\n",
       "0 2021-07-19      120.20     -0.95             -0.0078    119.50  120.20   \n",
       "1 2021-07-16      121.15      0.00              0.0000    123.01  123.14   \n",
       "2 2021-07-16      121.15     -1.30             -0.0106    123.01  123.14   \n",
       "3 2021-07-15      122.45     -0.88             -0.0071    123.23  124.07   \n",
       "4 2021-07-14      123.33      0.13              0.0011    124.30  124.71   \n",
       "\n",
       "   Mínima   Volume  \n",
       "0  118.64  6486683  \n",
       "1  121.04        0  \n",
       "2  121.04  5638173  \n",
       "3  122.08  3957784  \n",
       "4  123.20  6404311  "
      ]
     },
     "execution_count": 24,
     "metadata": {},
     "output_type": "execute_result"
    }
   ],
   "source": [
    "bova11.head()"
   ]
  },
  {
   "cell_type": "code",
   "execution_count": 25,
   "id": "3e28261e",
   "metadata": {},
   "outputs": [
    {
     "data": {
      "text/plain": [
       "197"
      ]
     },
     "execution_count": 25,
     "metadata": {},
     "output_type": "execute_result"
    }
   ],
   "source": [
    "bova11.loc[bova11.Volume==0].shape[0]"
   ]
  },
  {
   "cell_type": "code",
   "execution_count": 40,
   "id": "0fc9de31",
   "metadata": {},
   "outputs": [
    {
     "data": {
      "text/plain": [
       "211"
      ]
     },
     "execution_count": 40,
     "metadata": {},
     "output_type": "execute_result"
    }
   ],
   "source": [
    "bova11.loc[bova11['Variação']==0].shape[0]"
   ]
  },
  {
   "cell_type": "markdown",
   "id": "1973044a",
   "metadata": {},
   "source": [
    "# 6.0 SMAL11"
   ]
  },
  {
   "cell_type": "code",
   "execution_count": 26,
   "id": "df29c84b",
   "metadata": {
    "scrolled": true
   },
   "outputs": [
    {
     "data": {
      "text/plain": [
       "Data                  0\n",
       "Fechamento            0\n",
       "Variação              0\n",
       "Retorno Mensal (%)    0\n",
       "Abertura              0\n",
       "Máxima                0\n",
       "Mínima                0\n",
       "Volume                0\n",
       "dtype: int64"
      ]
     },
     "execution_count": 26,
     "metadata": {},
     "output_type": "execute_result"
    }
   ],
   "source": [
    "smal11 = xls.parse('Smal11', skiprows=2, index_col=None, na_values=['NA'])\n",
    "smal11.isna().sum()"
   ]
  },
  {
   "cell_type": "code",
   "execution_count": 27,
   "id": "1ac2cdfc",
   "metadata": {
    "scrolled": true
   },
   "outputs": [
    {
     "data": {
      "text/html": [
       "<div>\n",
       "<style scoped>\n",
       "    .dataframe tbody tr th:only-of-type {\n",
       "        vertical-align: middle;\n",
       "    }\n",
       "\n",
       "    .dataframe tbody tr th {\n",
       "        vertical-align: top;\n",
       "    }\n",
       "\n",
       "    .dataframe thead th {\n",
       "        text-align: right;\n",
       "    }\n",
       "</style>\n",
       "<table border=\"1\" class=\"dataframe\">\n",
       "  <thead>\n",
       "    <tr style=\"text-align: right;\">\n",
       "      <th></th>\n",
       "      <th>Data</th>\n",
       "      <th>Fechamento</th>\n",
       "      <th>Variação</th>\n",
       "      <th>Retorno Mensal (%)</th>\n",
       "      <th>Abertura</th>\n",
       "      <th>Máxima</th>\n",
       "      <th>Mínima</th>\n",
       "      <th>Volume</th>\n",
       "    </tr>\n",
       "  </thead>\n",
       "  <tbody>\n",
       "    <tr>\n",
       "      <th>0</th>\n",
       "      <td>2021-07-19</td>\n",
       "      <td>3064.09</td>\n",
       "      <td>-43.25</td>\n",
       "      <td>-0.0139</td>\n",
       "      <td>3106.81</td>\n",
       "      <td>3106.81</td>\n",
       "      <td>3036.43</td>\n",
       "      <td>0</td>\n",
       "    </tr>\n",
       "    <tr>\n",
       "      <th>1</th>\n",
       "      <td>2021-07-16</td>\n",
       "      <td>3107.34</td>\n",
       "      <td>0.00</td>\n",
       "      <td>0.0000</td>\n",
       "      <td>3132.59</td>\n",
       "      <td>3147.94</td>\n",
       "      <td>3104.57</td>\n",
       "      <td>0</td>\n",
       "    </tr>\n",
       "    <tr>\n",
       "      <th>2</th>\n",
       "      <td>2021-07-16</td>\n",
       "      <td>3107.34</td>\n",
       "      <td>-25.18</td>\n",
       "      <td>-0.0080</td>\n",
       "      <td>3132.59</td>\n",
       "      <td>3147.94</td>\n",
       "      <td>3104.57</td>\n",
       "      <td>108981600</td>\n",
       "    </tr>\n",
       "    <tr>\n",
       "      <th>3</th>\n",
       "      <td>2021-07-15</td>\n",
       "      <td>3132.52</td>\n",
       "      <td>-22.95</td>\n",
       "      <td>-0.0073</td>\n",
       "      <td>3155.47</td>\n",
       "      <td>3163.66</td>\n",
       "      <td>3116.07</td>\n",
       "      <td>133373300</td>\n",
       "    </tr>\n",
       "    <tr>\n",
       "      <th>4</th>\n",
       "      <td>2021-07-14</td>\n",
       "      <td>3155.47</td>\n",
       "      <td>15.08</td>\n",
       "      <td>0.0048</td>\n",
       "      <td>3140.57</td>\n",
       "      <td>3174.22</td>\n",
       "      <td>3140.57</td>\n",
       "      <td>127793800</td>\n",
       "    </tr>\n",
       "  </tbody>\n",
       "</table>\n",
       "</div>"
      ],
      "text/plain": [
       "        Data  Fechamento  Variação  Retorno Mensal (%)  Abertura   Máxima  \\\n",
       "0 2021-07-19     3064.09    -43.25             -0.0139   3106.81  3106.81   \n",
       "1 2021-07-16     3107.34      0.00              0.0000   3132.59  3147.94   \n",
       "2 2021-07-16     3107.34    -25.18             -0.0080   3132.59  3147.94   \n",
       "3 2021-07-15     3132.52    -22.95             -0.0073   3155.47  3163.66   \n",
       "4 2021-07-14     3155.47     15.08              0.0048   3140.57  3174.22   \n",
       "\n",
       "    Mínima     Volume  \n",
       "0  3036.43          0  \n",
       "1  3104.57          0  \n",
       "2  3104.57  108981600  \n",
       "3  3116.07  133373300  \n",
       "4  3140.57  127793800  "
      ]
     },
     "execution_count": 27,
     "metadata": {},
     "output_type": "execute_result"
    }
   ],
   "source": [
    "smal11.head()"
   ]
  },
  {
   "cell_type": "code",
   "execution_count": 28,
   "id": "e520abca",
   "metadata": {},
   "outputs": [
    {
     "data": {
      "text/plain": [
       "387"
      ]
     },
     "execution_count": 28,
     "metadata": {},
     "output_type": "execute_result"
    }
   ],
   "source": [
    "smal11.loc[smal11.Volume==0].shape[0]"
   ]
  },
  {
   "cell_type": "code",
   "execution_count": 44,
   "id": "2a9cf4a4",
   "metadata": {},
   "outputs": [
    {
     "data": {
      "text/html": [
       "<div>\n",
       "<style scoped>\n",
       "    .dataframe tbody tr th:only-of-type {\n",
       "        vertical-align: middle;\n",
       "    }\n",
       "\n",
       "    .dataframe tbody tr th {\n",
       "        vertical-align: top;\n",
       "    }\n",
       "\n",
       "    .dataframe thead th {\n",
       "        text-align: right;\n",
       "    }\n",
       "</style>\n",
       "<table border=\"1\" class=\"dataframe\">\n",
       "  <thead>\n",
       "    <tr style=\"text-align: right;\">\n",
       "      <th></th>\n",
       "      <th>Data</th>\n",
       "      <th>Fechamento</th>\n",
       "      <th>Variação</th>\n",
       "      <th>Retorno Mensal (%)</th>\n",
       "      <th>Abertura</th>\n",
       "      <th>Máxima</th>\n",
       "      <th>Mínima</th>\n",
       "      <th>Volume</th>\n",
       "    </tr>\n",
       "  </thead>\n",
       "  <tbody>\n",
       "    <tr>\n",
       "      <th>1</th>\n",
       "      <td>2021-07-16</td>\n",
       "      <td>3107.34</td>\n",
       "      <td>0.0</td>\n",
       "      <td>0.0</td>\n",
       "      <td>3132.59</td>\n",
       "      <td>3147.94</td>\n",
       "      <td>3104.57</td>\n",
       "      <td>0</td>\n",
       "    </tr>\n",
       "    <tr>\n",
       "      <th>7</th>\n",
       "      <td>2021-07-09</td>\n",
       "      <td>3069.06</td>\n",
       "      <td>0.0</td>\n",
       "      <td>0.0</td>\n",
       "      <td>3114.70</td>\n",
       "      <td>3114.70</td>\n",
       "      <td>3040.43</td>\n",
       "      <td>0</td>\n",
       "    </tr>\n",
       "    <tr>\n",
       "      <th>33</th>\n",
       "      <td>2021-06-03</td>\n",
       "      <td>3156.92</td>\n",
       "      <td>0.0</td>\n",
       "      <td>0.0</td>\n",
       "      <td>3136.20</td>\n",
       "      <td>3160.16</td>\n",
       "      <td>3134.96</td>\n",
       "      <td>0</td>\n",
       "    </tr>\n",
       "    <tr>\n",
       "      <th>44</th>\n",
       "      <td>2021-05-19</td>\n",
       "      <td>2957.73</td>\n",
       "      <td>0.0</td>\n",
       "      <td>0.0</td>\n",
       "      <td>2977.79</td>\n",
       "      <td>2980.95</td>\n",
       "      <td>2947.51</td>\n",
       "      <td>0</td>\n",
       "    </tr>\n",
       "    <tr>\n",
       "      <th>77</th>\n",
       "      <td>2021-04-02</td>\n",
       "      <td>2774.92</td>\n",
       "      <td>0.0</td>\n",
       "      <td>0.0</td>\n",
       "      <td>2797.64</td>\n",
       "      <td>2817.51</td>\n",
       "      <td>2769.39</td>\n",
       "      <td>0</td>\n",
       "    </tr>\n",
       "  </tbody>\n",
       "</table>\n",
       "</div>"
      ],
      "text/plain": [
       "         Data  Fechamento  Variação  Retorno Mensal (%)  Abertura   Máxima  \\\n",
       "1  2021-07-16     3107.34       0.0                 0.0   3132.59  3147.94   \n",
       "7  2021-07-09     3069.06       0.0                 0.0   3114.70  3114.70   \n",
       "33 2021-06-03     3156.92       0.0                 0.0   3136.20  3160.16   \n",
       "44 2021-05-19     2957.73       0.0                 0.0   2977.79  2980.95   \n",
       "77 2021-04-02     2774.92       0.0                 0.0   2797.64  2817.51   \n",
       "\n",
       "     Mínima  Volume  \n",
       "1   3104.57       0  \n",
       "7   3040.43       0  \n",
       "33  3134.96       0  \n",
       "44  2947.51       0  \n",
       "77  2769.39       0  "
      ]
     },
     "execution_count": 44,
     "metadata": {},
     "output_type": "execute_result"
    }
   ],
   "source": [
    "smal11.loc[smal11['Variação']==0].head()"
   ]
  },
  {
   "cell_type": "markdown",
   "id": "2b6fe11c",
   "metadata": {},
   "source": [
    "# 7.0 Bitcoin"
   ]
  },
  {
   "cell_type": "code",
   "execution_count": 29,
   "id": "4d05b4ea",
   "metadata": {},
   "outputs": [
    {
     "data": {
      "text/plain": [
       "Data                  0\n",
       "Fechamento            0\n",
       "Variação              0\n",
       "Retorno Mensal (%)    0\n",
       "Abertura              0\n",
       "Máxima                0\n",
       "Mínima                0\n",
       "Volume                0\n",
       "dtype: int64"
      ]
     },
     "execution_count": 29,
     "metadata": {},
     "output_type": "execute_result"
    }
   ],
   "source": [
    "bitcoin = xls.parse('Bitcoin', skiprows=2, index_col=None, na_values=['NA'])\n",
    "bitcoin.isna().sum()"
   ]
  },
  {
   "cell_type": "code",
   "execution_count": 30,
   "id": "dea47aa8",
   "metadata": {
    "scrolled": false
   },
   "outputs": [
    {
     "data": {
      "text/html": [
       "<div>\n",
       "<style scoped>\n",
       "    .dataframe tbody tr th:only-of-type {\n",
       "        vertical-align: middle;\n",
       "    }\n",
       "\n",
       "    .dataframe tbody tr th {\n",
       "        vertical-align: top;\n",
       "    }\n",
       "\n",
       "    .dataframe thead th {\n",
       "        text-align: right;\n",
       "    }\n",
       "</style>\n",
       "<table border=\"1\" class=\"dataframe\">\n",
       "  <thead>\n",
       "    <tr style=\"text-align: right;\">\n",
       "      <th></th>\n",
       "      <th>Data</th>\n",
       "      <th>Fechamento</th>\n",
       "      <th>Variação</th>\n",
       "      <th>Retorno Mensal (%)</th>\n",
       "      <th>Abertura</th>\n",
       "      <th>Máxima</th>\n",
       "      <th>Mínima</th>\n",
       "      <th>Volume</th>\n",
       "    </tr>\n",
       "  </thead>\n",
       "  <tbody>\n",
       "    <tr>\n",
       "      <th>0</th>\n",
       "      <td>2021-07-19</td>\n",
       "      <td>30878.02</td>\n",
       "      <td>-989.05</td>\n",
       "      <td>-0.0310</td>\n",
       "      <td>31700.17</td>\n",
       "      <td>31887.82</td>\n",
       "      <td>30439.99</td>\n",
       "      <td>13590</td>\n",
       "    </tr>\n",
       "    <tr>\n",
       "      <th>1</th>\n",
       "      <td>2021-07-18</td>\n",
       "      <td>31867.07</td>\n",
       "      <td>327.06</td>\n",
       "      <td>0.0104</td>\n",
       "      <td>31598.60</td>\n",
       "      <td>32450.00</td>\n",
       "      <td>31200.00</td>\n",
       "      <td>7231</td>\n",
       "    </tr>\n",
       "    <tr>\n",
       "      <th>2</th>\n",
       "      <td>2021-07-17</td>\n",
       "      <td>31540.01</td>\n",
       "      <td>156.55</td>\n",
       "      <td>0.0050</td>\n",
       "      <td>31492.44</td>\n",
       "      <td>31949.99</td>\n",
       "      <td>31179.01</td>\n",
       "      <td>8385</td>\n",
       "    </tr>\n",
       "    <tr>\n",
       "      <th>3</th>\n",
       "      <td>2021-07-16</td>\n",
       "      <td>31383.46</td>\n",
       "      <td>-191.82</td>\n",
       "      <td>-0.0061</td>\n",
       "      <td>31676.67</td>\n",
       "      <td>32259.16</td>\n",
       "      <td>31025.42</td>\n",
       "      <td>14127</td>\n",
       "    </tr>\n",
       "    <tr>\n",
       "      <th>4</th>\n",
       "      <td>2021-07-15</td>\n",
       "      <td>31575.28</td>\n",
       "      <td>-1185.66</td>\n",
       "      <td>-0.0362</td>\n",
       "      <td>32803.98</td>\n",
       "      <td>33187.60</td>\n",
       "      <td>31064.77</td>\n",
       "      <td>14899</td>\n",
       "    </tr>\n",
       "  </tbody>\n",
       "</table>\n",
       "</div>"
      ],
      "text/plain": [
       "        Data  Fechamento  Variação  Retorno Mensal (%)  Abertura    Máxima  \\\n",
       "0 2021-07-19    30878.02   -989.05             -0.0310  31700.17  31887.82   \n",
       "1 2021-07-18    31867.07    327.06              0.0104  31598.60  32450.00   \n",
       "2 2021-07-17    31540.01    156.55              0.0050  31492.44  31949.99   \n",
       "3 2021-07-16    31383.46   -191.82             -0.0061  31676.67  32259.16   \n",
       "4 2021-07-15    31575.28  -1185.66             -0.0362  32803.98  33187.60   \n",
       "\n",
       "     Mínima  Volume  \n",
       "0  30439.99   13590  \n",
       "1  31200.00    7231  \n",
       "2  31179.01    8385  \n",
       "3  31025.42   14127  \n",
       "4  31064.77   14899  "
      ]
     },
     "execution_count": 30,
     "metadata": {},
     "output_type": "execute_result"
    }
   ],
   "source": [
    "bitcoin.head()"
   ]
  },
  {
   "cell_type": "code",
   "execution_count": 31,
   "id": "ee68fe02",
   "metadata": {},
   "outputs": [
    {
     "data": {
      "text/plain": [
       "19"
      ]
     },
     "execution_count": 31,
     "metadata": {},
     "output_type": "execute_result"
    }
   ],
   "source": [
    "bitcoin.loc[bitcoin.Volume==0].shape[0]"
   ]
  },
  {
   "cell_type": "markdown",
   "id": "d7c8b376",
   "metadata": {},
   "source": [
    "# 8.0 Ethereum"
   ]
  },
  {
   "cell_type": "code",
   "execution_count": 32,
   "id": "09268ad4",
   "metadata": {
    "scrolled": true
   },
   "outputs": [
    {
     "data": {
      "text/plain": [
       "Data                  0\n",
       "Fechamento            0\n",
       "Variação              0\n",
       "Retorno Mensal (%)    0\n",
       "Abertura              0\n",
       "Máxima                0\n",
       "Mínima                0\n",
       "Volume                0\n",
       "dtype: int64"
      ]
     },
     "execution_count": 32,
     "metadata": {},
     "output_type": "execute_result"
    }
   ],
   "source": [
    "ether = xls.parse('Ethereum', skiprows=2, index_col=None, na_values=['NA'])\n",
    "ether.isna().sum()"
   ]
  },
  {
   "cell_type": "code",
   "execution_count": 33,
   "id": "bbf0b886",
   "metadata": {
    "scrolled": true
   },
   "outputs": [
    {
     "data": {
      "text/html": [
       "<div>\n",
       "<style scoped>\n",
       "    .dataframe tbody tr th:only-of-type {\n",
       "        vertical-align: middle;\n",
       "    }\n",
       "\n",
       "    .dataframe tbody tr th {\n",
       "        vertical-align: top;\n",
       "    }\n",
       "\n",
       "    .dataframe thead th {\n",
       "        text-align: right;\n",
       "    }\n",
       "</style>\n",
       "<table border=\"1\" class=\"dataframe\">\n",
       "  <thead>\n",
       "    <tr style=\"text-align: right;\">\n",
       "      <th></th>\n",
       "      <th>Data</th>\n",
       "      <th>Fechamento</th>\n",
       "      <th>Variação</th>\n",
       "      <th>Retorno Mensal (%)</th>\n",
       "      <th>Abertura</th>\n",
       "      <th>Máxima</th>\n",
       "      <th>Mínima</th>\n",
       "      <th>Volume</th>\n",
       "    </tr>\n",
       "  </thead>\n",
       "  <tbody>\n",
       "    <tr>\n",
       "      <th>0</th>\n",
       "      <td>2015-08-21</td>\n",
       "      <td>1.38</td>\n",
       "      <td>-0.02</td>\n",
       "      <td>-0.0115</td>\n",
       "      <td>1.40</td>\n",
       "      <td>1.48</td>\n",
       "      <td>1.35</td>\n",
       "      <td>687564</td>\n",
       "    </tr>\n",
       "    <tr>\n",
       "      <th>1</th>\n",
       "      <td>2015-08-20</td>\n",
       "      <td>1.40</td>\n",
       "      <td>-0.07</td>\n",
       "      <td>-0.0475</td>\n",
       "      <td>1.48</td>\n",
       "      <td>1.56</td>\n",
       "      <td>1.35</td>\n",
       "      <td>1448422</td>\n",
       "    </tr>\n",
       "    <tr>\n",
       "      <th>2</th>\n",
       "      <td>2015-08-19</td>\n",
       "      <td>1.46</td>\n",
       "      <td>0.21</td>\n",
       "      <td>0.1637</td>\n",
       "      <td>1.25</td>\n",
       "      <td>1.53</td>\n",
       "      <td>1.25</td>\n",
       "      <td>1941239</td>\n",
       "    </tr>\n",
       "    <tr>\n",
       "      <th>3</th>\n",
       "      <td>2015-08-18</td>\n",
       "      <td>1.26</td>\n",
       "      <td>0.17</td>\n",
       "      <td>0.1581</td>\n",
       "      <td>1.17</td>\n",
       "      <td>1.32</td>\n",
       "      <td>1.17</td>\n",
       "      <td>1180623</td>\n",
       "    </tr>\n",
       "    <tr>\n",
       "      <th>4</th>\n",
       "      <td>2015-08-17</td>\n",
       "      <td>1.09</td>\n",
       "      <td>-0.12</td>\n",
       "      <td>-0.0968</td>\n",
       "      <td>1.22</td>\n",
       "      <td>1.33</td>\n",
       "      <td>1.09</td>\n",
       "      <td>1366708</td>\n",
       "    </tr>\n",
       "  </tbody>\n",
       "</table>\n",
       "</div>"
      ],
      "text/plain": [
       "        Data  Fechamento  Variação  Retorno Mensal (%)  Abertura  Máxima  \\\n",
       "0 2015-08-21        1.38     -0.02             -0.0115      1.40    1.48   \n",
       "1 2015-08-20        1.40     -0.07             -0.0475      1.48    1.56   \n",
       "2 2015-08-19        1.46      0.21              0.1637      1.25    1.53   \n",
       "3 2015-08-18        1.26      0.17              0.1581      1.17    1.32   \n",
       "4 2015-08-17        1.09     -0.12             -0.0968      1.22    1.33   \n",
       "\n",
       "   Mínima   Volume  \n",
       "0    1.35   687564  \n",
       "1    1.35  1448422  \n",
       "2    1.25  1941239  \n",
       "3    1.17  1180623  \n",
       "4    1.09  1366708  "
      ]
     },
     "execution_count": 33,
     "metadata": {},
     "output_type": "execute_result"
    }
   ],
   "source": [
    "ether.head()"
   ]
  },
  {
   "cell_type": "code",
   "execution_count": 34,
   "id": "9dbea23d",
   "metadata": {
    "scrolled": true
   },
   "outputs": [
    {
     "data": {
      "text/plain": [
       "14"
      ]
     },
     "execution_count": 34,
     "metadata": {},
     "output_type": "execute_result"
    }
   ],
   "source": [
    "ether.loc[ether.Volume==0].shape[0]"
   ]
  },
  {
   "cell_type": "markdown",
   "id": "8d76da54",
   "metadata": {},
   "source": [
    "**Notes**:\n",
    "\n",
    "* Selic faltando 8 datas\n",
    "* Dolar faltando 8 volumes\n",
    "* Volumes == 0 em todos os ativos (Dolar, Bova11, Smal1, Bitcoin, Ether)\n",
    "\n",
    "Questões a serem resolvidas já no ciclo padrão do CRISP"
   ]
  },
  {
   "cell_type": "markdown",
   "id": "dc0cd438",
   "metadata": {},
   "source": [
    " Próximos passos:\n",
    " \n",
    " 1. Passar as datas para tipo datetime\n",
    " 2. Descobrir a data min e max de cada indicador\n",
    " 3. Tentar reunir os dataframes em um dataframe único, adicionando uma coluna que com o nome do ativo"
   ]
  },
  {
   "cell_type": "code",
   "execution_count": 35,
   "id": "38e0a914",
   "metadata": {},
   "outputs": [],
   "source": [
    "selic['data'] = pd.to_datetime(selic['data'], dayfirst=True)#\n",
    "indice_di['Data'] = pd.to_datetime(indice_di['Data'],format= \"%d/%m/%Y\")\n",
    "ipca['Data'] = pd.to_datetime(ipca['Data'],format= \"%d/%m/%Y\")\n",
    "dolar['Data'] = pd.to_datetime(dolar['Data'],format= \"%d/%m/%Y\")\n",
    "bova11['Data'] = pd.to_datetime(bova11['Data'],format= \"%d/%m/%Y\")\n",
    "smal11['Data'] = pd.to_datetime(smal11['Data'],format= \"%d/%m/%Y\")\n",
    "bitcoin['Data'] = pd.to_datetime(bitcoin['Data'],format= \"%d/%m/%Y\")\n",
    "ether['Data'] = pd.to_datetime(ether['Data'],format= \"%d/%m/%Y\")\n"
   ]
  },
  {
   "cell_type": "code",
   "execution_count": 36,
   "id": "fcd546bb",
   "metadata": {},
   "outputs": [
    {
     "name": "stdout",
     "output_type": "stream",
     "text": [
      "Data mínima: 1996-06-26 00:00:00 // Data Máxima: 2021-05-05 00:00:00 \n",
      "Data mínima: 1986-07-01 00:00:00 // Data Máxima: 2021-06-01 00:00:00 \n",
      "Data mínima: 1981-01-01 00:00:00 // Data Máxima: 2021-06-01 00:00:00 \n",
      "Data mínima: 2010-01-02 00:00:00 // Data Máxima: 2021-07-19 00:00:00 \n",
      "Data mínima: 2011-01-03 00:00:00 // Data Máxima: 2021-07-19 00:00:00 \n",
      "Data mínima: 2011-01-03 00:00:00 // Data Máxima: 2021-07-19 00:00:00 \n",
      "Data mínima: 2010-12-31 00:00:00 // Data Máxima: 2021-07-19 00:00:00 \n",
      "Data mínima: 2015-08-07 00:00:00 // Data Máxima: 2021-07-19 00:00:00 \n"
     ]
    }
   ],
   "source": [
    "print('Data mínima: {} // Data Máxima: {} '.format(selic['data'].min(), selic['data'].max()))\n",
    "print('Data mínima: {} // Data Máxima: {} '.format(indice_di['Data'].min(), indice_di['Data'].max()))\n",
    "print('Data mínima: {} // Data Máxima: {} '.format(ipca['Data'].min(), ipca['Data'].max()))\n",
    "print('Data mínima: {} // Data Máxima: {} '.format(dolar['Data'].min(), dolar['Data'].max()))\n",
    "print('Data mínima: {} // Data Máxima: {} '.format(bova11['Data'].min(), bova11['Data'].max()))\n",
    "print('Data mínima: {} // Data Máxima: {} '.format(smal11['Data'].min(), smal11['Data'].max()))\n",
    "print('Data mínima: {} // Data Máxima: {} '.format(bitcoin['Data'].min(), bitcoin['Data'].max()))\n",
    "print('Data mínima: {} // Data Máxima: {} '.format(ether['Data'].min(), ether['Data'].max()))"
   ]
  },
  {
   "cell_type": "code",
   "execution_count": 37,
   "id": "15015e23",
   "metadata": {},
   "outputs": [
    {
     "name": "stdout",
     "output_type": "stream",
     "text": [
      "2220 4298\n",
      "1605 2846\n",
      "1602 2844\n",
      "2214 3922\n",
      "2211 2211\n"
     ]
    }
   ],
   "source": [
    "print(dolar.loc[dolar.Data >='2015-08-07 00:00:00'].shape[0], dolar.shape[0])\n",
    "print(bova11.loc[bova11.Data >='2015-08-07 00:00:00'].shape[0], bova11.shape[0])\n",
    "print(smal11.loc[smal11.Data >='2015-08-07 00:00:00'].shape[0], smal11.shape[0])\n",
    "print(bitcoin.loc[bitcoin.Data >='2015-08-07 00:00:00'].shape[0], bitcoin.shape[0])\n",
    "print(ether.loc[ether.Data >='2015-08-07 00:00:00'].shape[0], ether.shape[0])"
   ]
  },
  {
   "cell_type": "markdown",
   "id": "d82114e4",
   "metadata": {},
   "source": [
    "# Saving Dataframes"
   ]
  },
  {
   "cell_type": "code",
   "execution_count": 38,
   "id": "13d6d011",
   "metadata": {},
   "outputs": [],
   "source": [
    "selic.to_csv('..\\data\\selic.csv')\n",
    "indice_di.to_csv('..\\data\\indice_di.csv')\n",
    "ipca.to_csv('..\\data\\ipca.csv')\n",
    "dolar.to_csv('..\\data\\dolar.csv')\n",
    "bova11.to_csv('..\\data\\\\bova11.csv')\n",
    "smal11.to_csv('..\\data\\smal11.csv')\n",
    "bitcoin.to_csv('..\\data\\\\bitcoin.csv')\n",
    "ether.to_csv('..\\data\\ether.csv')"
   ]
  },
  {
   "cell_type": "code",
   "execution_count": null,
   "id": "340ad05c",
   "metadata": {},
   "outputs": [],
   "source": []
  }
 ],
 "metadata": {
  "kernelspec": {
   "display_name": "Python 3 (ipykernel)",
   "language": "python",
   "name": "python3"
  },
  "language_info": {
   "codemirror_mode": {
    "name": "ipython",
    "version": 3
   },
   "file_extension": ".py",
   "mimetype": "text/x-python",
   "name": "python",
   "nbconvert_exporter": "python",
   "pygments_lexer": "ipython3",
   "version": "3.7.6"
  }
 },
 "nbformat": 4,
 "nbformat_minor": 5
}
