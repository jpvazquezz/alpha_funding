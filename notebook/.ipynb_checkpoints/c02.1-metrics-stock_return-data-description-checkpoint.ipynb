{
 "cells": [
  {
   "cell_type": "markdown",
   "id": "2366f6b0",
   "metadata": {},
   "source": [
    "# 0.0 Imports"
   ]
  },
  {
   "cell_type": "code",
   "execution_count": 157,
   "id": "b84d2b14",
   "metadata": {},
   "outputs": [],
   "source": [
    "import pandas as pd\n",
    "import numpy as np\n",
    "import seaborn as sns\n",
    "import matplotlib.pyplot as plt\n",
    "import datetime\n",
    "import inflection\n",
    "\n",
    "from sklearn.linear_model import LinearRegression\n",
    "\n",
    "from sklearn.metrics import mean_absolute_error, mean_squared_error"
   ]
  },
  {
   "cell_type": "markdown",
   "id": "13b40d96",
   "metadata": {},
   "source": [
    "## 0.1 Helper Functions"
   ]
  },
  {
   "cell_type": "code",
   "execution_count": 158,
   "id": "11e4af36",
   "metadata": {},
   "outputs": [],
   "source": [
    "def mean_absolute_percentage_error(y,yhat):\n",
    "    return np.mean(np.abs((y-yhat) / y))\n",
    "\n",
    "def ml_error(model_name, y, yhat):\n",
    "    mae = mean_absolute_error(y,yhat)\n",
    "    mape = mean_absolute_percentage_error(y,yhat)\n",
    "    rmse = np.sqrt(mean_squared_error(y,yhat)) \n",
    "    \n",
    "    return pd.DataFrame({'Model Name': model_name,\n",
    "                         'MAE':mae,\n",
    "                        'MAPE':mape,\n",
    "                        'RMSE':rmse}, index=[0])\n",
    "def cross_validation(x_training, kfold, model_name, model, verbose=True):\n",
    "    mae_list = []\n",
    "    mape_list = []\n",
    "    rmse_list = []\n",
    "    for k in reversed(range(1,kfold+1)):\n",
    "        if verbose:\n",
    "            print('Kfold Number: {}'.format(k))\n",
    "        # start and end date for validation\n",
    "        validation_start_date = x_training['date'].max() - datetime.timedelta(days=k*90)\n",
    "        validation_end_date = x_training['date'].max() - datetime.timedelta(days=(k-1)*90)\n",
    "\n",
    "        # filtering dataset\n",
    "        training = x_training[x_training['date']< validation_start_date]\n",
    "        validation = x_training[(x_training['date'] >= validation_start_date) & (x_training['date'] <= validation_end_date)]\n",
    "\n",
    "        # training and validation dataset\n",
    "        xtraining = training.drop(['daily_return_pct','date', 'symbol'], axis=1)\n",
    "        ytraining = training['daily_return_pct']\n",
    "\n",
    "        xvalidation = validation.drop(['daily_return_pct','date','symbol'],axis=1)\n",
    "        yvalidation = validation['daily_return_pct']\n",
    "\n",
    "        # model\n",
    "        m = model.fit(xtraining, ytraining)\n",
    "\n",
    "        # prediction\n",
    "        yhat = m.predict(xvalidation)\n",
    "\n",
    "        # performance\n",
    "        m_result = ml_error(model_name, yvalidation, yhat) #np.expm1(yvalidation), np.expm1(yhat))\n",
    "\n",
    "        # store perfomance of each kfold iteration\n",
    "        mae_list.append(m_result['MAE'])\n",
    "        mape_list.append(m_result['MAPE'])\n",
    "        rmse_list.append(m_result['RMSE'])\n",
    "\n",
    "    return pd.DataFrame({'Model':model_name,\n",
    "        'MAE cv': np.round(np.mean(mae_list),2).astype(str) + '+/-' + np.round(np.std(mae_list),2).astype(str),\n",
    "        'MAPE cv': np.round(np.mean(mape_list),2).astype(str) + '+/-' + np.round(np.std(mape_list),2).astype(str),\n",
    "        'RMSE cv': np.round(np.mean(rmse_list),2).astype(str) + '+/-' + np.round(np.std(rmse_list),2).astype(str)}, index=[0])\n",
    "def descriptive_statistics(num):\n",
    "    # Central Tendency - mean, median\n",
    "\n",
    "    ct1 = pd.DataFrame(num.apply(np.mean)).T\n",
    "    ct2 = pd.DataFrame(num.apply(np.median)).T\n",
    "\n",
    "    # Dispersion - std, min, max, range, skew, curtosis\n",
    "    d1 = pd.DataFrame(num.apply(min)).T\n",
    "    d2 = pd.DataFrame(num.apply(max)).T\n",
    "    d3 = pd.DataFrame(num.apply(lambda x: x.max()-x.min())).T\n",
    "    d4 = pd.DataFrame(num.apply(np.std)).T\n",
    "    d5 = pd.DataFrame(num.apply(lambda x: x.skew())).T\n",
    "    d6 = pd.DataFrame(num.apply(lambda x: x.kurtosis())).T\n",
    "\n",
    "    ctd = pd.concat([ct1,ct2,d1,d2,d3,d4,d5,d6]).T.reset_index()\n",
    "    ctd.columns = ['features', 'mean','median','min','max','range','std','skew','kurtosis']\n",
    "    return ctd"
   ]
  },
  {
   "cell_type": "markdown",
   "id": "2d8183a4",
   "metadata": {},
   "source": [
    "## 0.2 Load Data"
   ]
  },
  {
   "cell_type": "code",
   "execution_count": 159,
   "id": "70dd8308",
   "metadata": {
    "scrolled": true
   },
   "outputs": [],
   "source": [
    "selic = pd.read_csv('..\\data\\selic.csv')\n",
    "selic.drop('Unnamed: 0', axis=1, inplace=True)\n",
    "indice_di = pd.read_csv('..\\data\\indice_di.csv')\n",
    "indice_di.drop('Unnamed: 0', axis=1, inplace=True)\n",
    "ipca = pd.read_csv('..\\data\\ipca.csv')\n",
    "ipca.drop('Unnamed: 0', axis=1, inplace=True)\n",
    "dolar = pd.read_csv('..\\data\\dolar.csv')\n",
    "dolar.drop('Unnamed: 0', axis=1, inplace=True)\n",
    "bova11 = pd.read_csv('..\\data\\\\bova11.csv')\n",
    "bova11.drop('Unnamed: 0', axis=1, inplace=True)\n",
    "smal11 = pd.read_csv('..\\data\\smal11.csv')\n",
    "smal11.drop('Unnamed: 0', axis=1, inplace=True)\n",
    "bitcoin = pd.read_csv('..\\data\\\\bitcoin.csv')\n",
    "bitcoin.drop('Unnamed: 0', axis=1, inplace=True)\n",
    "ether = pd.read_csv('..\\data\\ether.csv')\n",
    "ether.drop('Unnamed: 0', axis=1, inplace=True)\n",
    "\n",
    "# Add stock label\n",
    "dolar['Ativo'] = 'DOLAR'\n",
    "bova11['Ativo'] = 'BOVA11'\n",
    "smal11['Ativo'] = 'SMAL11'\n",
    "bitcoin['Ativo'] = 'BITCOIN'\n",
    "ether['Ativo'] = 'ETHER'\n",
    "\n",
    "# Rename columns\n",
    "new_cols = ['date','close', 'daily_variation','daily_return_pct', 'open', 'max', 'min', 'volume','symbol']\n",
    "\n",
    "for df in [dolar, bova11, smal11, bitcoin, ether]:\n",
    "    df.columns = new_cols"
   ]
  },
  {
   "cell_type": "markdown",
   "id": "3cf5c4b4",
   "metadata": {},
   "source": [
    "# 1.0 Data Description"
   ]
  },
  {
   "cell_type": "markdown",
   "id": "68be8f24",
   "metadata": {
    "heading_collapsed": true
   },
   "source": [
    "## 1.1 Data Dimensions"
   ]
  },
  {
   "cell_type": "code",
   "execution_count": 160,
   "id": "50c80450",
   "metadata": {
    "hidden": true,
    "scrolled": false
   },
   "outputs": [
    {
     "name": "stdout",
     "output_type": "stream",
     "text": [
      " Selic Dataframe has 246 rows and 7 columns\n",
      " IPCA Dataframe has 486 rows and 2 columns\n",
      " Indice DI Dataframe has 420 rows and 2 columns\n",
      " Dolar Dataframe has 4298 rows and 9 columns\n",
      " BOVA11 Dataframe has 2846 rows and 9 columns\n",
      " SMAL11 Dataframe has 2844 rows and 9 columns\n",
      " Bitcoin Dataframe has 3922 rows and 9 columns\n",
      " Ether Dataframe has 2211 rows and 9 columns\n"
     ]
    }
   ],
   "source": [
    "print(' Selic Dataframe has {} rows and {} columns'.format(selic.shape[0], selic.shape[1]))\n",
    "print(' IPCA Dataframe has {} rows and {} columns'.format(ipca.shape[0], ipca.shape[1]))\n",
    "print(' Indice DI Dataframe has {} rows and {} columns'.format(indice_di.shape[0], indice_di.shape[1]))\n",
    "print(' Dolar Dataframe has {} rows and {} columns'.format(dolar.shape[0], dolar.shape[1]))\n",
    "print(' BOVA11 Dataframe has {} rows and {} columns'.format(bova11.shape[0], bova11.shape[1]))\n",
    "print(' SMAL11 Dataframe has {} rows and {} columns'.format(smal11.shape[0], smal11.shape[1]))\n",
    "print(' Bitcoin Dataframe has {} rows and {} columns'.format(bitcoin.shape[0], bitcoin.shape[1]))\n",
    "print(' Ether Dataframe has {} rows and {} columns'.format(ether.shape[0], ether.shape[1]))\n"
   ]
  },
  {
   "cell_type": "markdown",
   "id": "b4c34d76",
   "metadata": {
    "heading_collapsed": true
   },
   "source": [
    "## 1.2 Data Types"
   ]
  },
  {
   "cell_type": "markdown",
   "id": "92dba6e6",
   "metadata": {
    "hidden": true
   },
   "source": [
    "Economic Indicators"
   ]
  },
  {
   "cell_type": "code",
   "execution_count": 161,
   "id": "f2187588",
   "metadata": {
    "hidden": true,
    "scrolled": true
   },
   "outputs": [
    {
     "name": "stdout",
     "output_type": "stream",
     "text": [
      "Taxa Selic\n",
      "reunião                 object\n",
      "data                    object\n",
      "período de vigência     object\n",
      "meta selic             float64\n",
      "tban                   float64\n",
      "retorno_mesal          float64\n",
      "taxa_selic             float64\n",
      "dtype: object\n",
      "\n",
      "\n",
      "IPCA\n",
      "Data     object\n",
      "%       float64\n",
      "dtype: object\n",
      "\n",
      "\n",
      "Indice DI\n",
      "Data     object\n",
      "%       float64\n",
      "dtype: object\n",
      "\n",
      "\n"
     ]
    }
   ],
   "source": [
    "for name,df in {'Taxa Selic': selic, 'IPCA': ipca, 'Indice DI':indice_di}.items():\n",
    "    print(name)\n",
    "    print(df.dtypes)\n",
    "    print('\\n')"
   ]
  },
  {
   "cell_type": "markdown",
   "id": "445798f0",
   "metadata": {
    "hidden": true
   },
   "source": [
    "Stock Assets"
   ]
  },
  {
   "cell_type": "code",
   "execution_count": 162,
   "id": "c8c6596a",
   "metadata": {
    "hidden": true,
    "scrolled": false
   },
   "outputs": [
    {
     "name": "stdout",
     "output_type": "stream",
     "text": [
      "Dolar\n",
      "date                 object\n",
      "close               float64\n",
      "daily_variation     float64\n",
      "daily_return_pct    float64\n",
      "open                float64\n",
      "max                 float64\n",
      "min                 float64\n",
      "volume              float64\n",
      "symbol               object\n",
      "dtype: object\n",
      "\n",
      "\n",
      "Bova11\n",
      "date                 object\n",
      "close               float64\n",
      "daily_variation     float64\n",
      "daily_return_pct    float64\n",
      "open                float64\n",
      "max                 float64\n",
      "min                 float64\n",
      "volume                int64\n",
      "symbol               object\n",
      "dtype: object\n",
      "\n",
      "\n",
      "Smal11\n",
      "date                 object\n",
      "close               float64\n",
      "daily_variation     float64\n",
      "daily_return_pct    float64\n",
      "open                float64\n",
      "max                 float64\n",
      "min                 float64\n",
      "volume                int64\n",
      "symbol               object\n",
      "dtype: object\n",
      "\n",
      "\n",
      "Bitcoin\n",
      "date                 object\n",
      "close               float64\n",
      "daily_variation     float64\n",
      "daily_return_pct    float64\n",
      "open                float64\n",
      "max                 float64\n",
      "min                 float64\n",
      "volume                int64\n",
      "symbol               object\n",
      "dtype: object\n",
      "\n",
      "\n",
      "Ether\n",
      "date                 object\n",
      "close               float64\n",
      "daily_variation     float64\n",
      "daily_return_pct    float64\n",
      "open                float64\n",
      "max                 float64\n",
      "min                 float64\n",
      "volume                int64\n",
      "symbol               object\n",
      "dtype: object\n",
      "\n",
      "\n"
     ]
    }
   ],
   "source": [
    "for name,df in {'Dolar': dolar, 'Bova11': bova11, 'Smal11':smal11, 'Bitcoin':bitcoin, 'Ether':ether}.items():\n",
    "    print(name)\n",
    "    print(df.dtypes)\n",
    "    print('\\n')"
   ]
  },
  {
   "cell_type": "markdown",
   "id": "8df3b668",
   "metadata": {
    "hidden": true
   },
   "source": [
    "### 1.2.1 Adjusting Data Types"
   ]
  },
  {
   "cell_type": "code",
   "execution_count": 163,
   "id": "d3008a75",
   "metadata": {
    "hidden": true
   },
   "outputs": [],
   "source": [
    "selic['data'] = pd.to_datetime(selic['data'])\n",
    "indice_di['Data'] = pd.to_datetime(indice_di['Data'])\n",
    "ipca['Data'] = pd.to_datetime(ipca['Data'])\n",
    "dolar['date'] = pd.to_datetime(dolar['date'])\n",
    "bova11['date'] = pd.to_datetime(bova11['date'])\n",
    "smal11['date'] = pd.to_datetime(smal11['date'])\n",
    "bitcoin['date'] = pd.to_datetime(bitcoin['date'])\n",
    "ether['date'] = pd.to_datetime(ether['date'])"
   ]
  },
  {
   "cell_type": "markdown",
   "id": "5ada608a",
   "metadata": {
    "heading_collapsed": true
   },
   "source": [
    "## 1.3 Null Values"
   ]
  },
  {
   "cell_type": "code",
   "execution_count": 164,
   "id": "257daa76",
   "metadata": {
    "hidden": true
   },
   "outputs": [
    {
     "name": "stdout",
     "output_type": "stream",
     "text": [
      "Taxa Selic\n",
      "data      8\n",
      "tban    217\n",
      "dtype: int64\n",
      "\n",
      "\n",
      "IPCA\n",
      "Series([], dtype: int64)\n",
      "\n",
      "\n",
      "Indice DI\n",
      "Series([], dtype: int64)\n",
      "\n",
      "\n"
     ]
    }
   ],
   "source": [
    "for name,df in {'Taxa Selic': selic, 'IPCA': ipca, 'Indice DI':indice_di}.items():\n",
    "    print(name)\n",
    "    print(df.isna().sum()[df.isna().sum()>0])\n",
    "    print('\\n')"
   ]
  },
  {
   "cell_type": "code",
   "execution_count": 165,
   "id": "8515f182",
   "metadata": {
    "hidden": true,
    "scrolled": false
   },
   "outputs": [
    {
     "name": "stdout",
     "output_type": "stream",
     "text": [
      "Dolar\n",
      "volume    8\n",
      "dtype: int64\n",
      "\n",
      "\n",
      "Bova11\n",
      "Series([], dtype: int64)\n",
      "\n",
      "\n",
      "Smal11\n",
      "Series([], dtype: int64)\n",
      "\n",
      "\n",
      "Bitcoin\n",
      "Series([], dtype: int64)\n",
      "\n",
      "\n",
      "Ether\n",
      "Series([], dtype: int64)\n",
      "\n",
      "\n"
     ]
    }
   ],
   "source": [
    "for name,df in {'Dolar': dolar, 'Bova11': bova11, 'Smal11':smal11, 'Bitcoin':bitcoin, 'Ether':ether}.items():\n",
    "    print(name)\n",
    "    print(df.isna().sum()[df.isna().sum()>0])\n",
    "    print('\\n')"
   ]
  },
  {
   "cell_type": "markdown",
   "id": "9a9e6fa0",
   "metadata": {},
   "source": [
    "## 1.4 Descriptive Statistics"
   ]
  },
  {
   "cell_type": "markdown",
   "id": "2fe733f1",
   "metadata": {},
   "source": [
    "### DOLAR"
   ]
  },
  {
   "cell_type": "code",
   "execution_count": 166,
   "id": "0028e20e",
   "metadata": {
    "cell_style": "center",
    "hide_input": false,
    "scrolled": true
   },
   "outputs": [
    {
     "data": {
      "text/html": [
       "<div>\n",
       "<style scoped>\n",
       "    .dataframe tbody tr th:only-of-type {\n",
       "        vertical-align: middle;\n",
       "    }\n",
       "\n",
       "    .dataframe tbody tr th {\n",
       "        vertical-align: top;\n",
       "    }\n",
       "\n",
       "    .dataframe thead th {\n",
       "        text-align: right;\n",
       "    }\n",
       "</style>\n",
       "<table border=\"1\" class=\"dataframe\">\n",
       "  <thead>\n",
       "    <tr style=\"text-align: right;\">\n",
       "      <th></th>\n",
       "      <th>features</th>\n",
       "      <th>mean</th>\n",
       "      <th>median</th>\n",
       "      <th>min</th>\n",
       "      <th>max</th>\n",
       "      <th>range</th>\n",
       "      <th>std</th>\n",
       "      <th>skew</th>\n",
       "      <th>kurtosis</th>\n",
       "    </tr>\n",
       "  </thead>\n",
       "  <tbody>\n",
       "    <tr>\n",
       "      <th>0</th>\n",
       "      <td>close</td>\n",
       "      <td>3.087062</td>\n",
       "      <td>3.14445</td>\n",
       "      <td>1.5385</td>\n",
       "      <td>5.88790</td>\n",
       "      <td>4.34940</td>\n",
       "      <td>1.160179</td>\n",
       "      <td>0.564900</td>\n",
       "      <td>-0.596936</td>\n",
       "    </tr>\n",
       "    <tr>\n",
       "      <th>1</th>\n",
       "      <td>daily_variation</td>\n",
       "      <td>0.000731</td>\n",
       "      <td>0.00000</td>\n",
       "      <td>-0.2500</td>\n",
       "      <td>0.34000</td>\n",
       "      <td>0.59000</td>\n",
       "      <td>0.030946</td>\n",
       "      <td>0.149032</td>\n",
       "      <td>11.914693</td>\n",
       "    </tr>\n",
       "    <tr>\n",
       "      <th>2</th>\n",
       "      <td>daily_return_pct</td>\n",
       "      <td>0.000290</td>\n",
       "      <td>0.00000</td>\n",
       "      <td>-0.0574</td>\n",
       "      <td>0.07420</td>\n",
       "      <td>0.13160</td>\n",
       "      <td>0.008329</td>\n",
       "      <td>0.273157</td>\n",
       "      <td>6.036260</td>\n",
       "    </tr>\n",
       "    <tr>\n",
       "      <th>3</th>\n",
       "      <td>open</td>\n",
       "      <td>3.086198</td>\n",
       "      <td>3.14470</td>\n",
       "      <td>1.5385</td>\n",
       "      <td>5.88780</td>\n",
       "      <td>4.34930</td>\n",
       "      <td>1.159738</td>\n",
       "      <td>0.564972</td>\n",
       "      <td>-0.596735</td>\n",
       "    </tr>\n",
       "    <tr>\n",
       "      <th>4</th>\n",
       "      <td>max</td>\n",
       "      <td>3.103608</td>\n",
       "      <td>3.15585</td>\n",
       "      <td>1.5495</td>\n",
       "      <td>5.97237</td>\n",
       "      <td>4.42287</td>\n",
       "      <td>1.168341</td>\n",
       "      <td>0.566760</td>\n",
       "      <td>-0.593941</td>\n",
       "    </tr>\n",
       "    <tr>\n",
       "      <th>5</th>\n",
       "      <td>min</td>\n",
       "      <td>3.070072</td>\n",
       "      <td>3.13335</td>\n",
       "      <td>1.5290</td>\n",
       "      <td>5.85667</td>\n",
       "      <td>4.32767</td>\n",
       "      <td>1.151816</td>\n",
       "      <td>0.560986</td>\n",
       "      <td>-0.603925</td>\n",
       "    </tr>\n",
       "    <tr>\n",
       "      <th>6</th>\n",
       "      <td>volume</td>\n",
       "      <td>2968.216783</td>\n",
       "      <td>NaN</td>\n",
       "      <td>0.0000</td>\n",
       "      <td>34144.00000</td>\n",
       "      <td>34144.00000</td>\n",
       "      <td>6012.881741</td>\n",
       "      <td>2.289402</td>\n",
       "      <td>4.519794</td>\n",
       "    </tr>\n",
       "  </tbody>\n",
       "</table>\n",
       "</div>"
      ],
      "text/plain": [
       "           features         mean   median     min          max        range  \\\n",
       "0             close     3.087062  3.14445  1.5385      5.88790      4.34940   \n",
       "1   daily_variation     0.000731  0.00000 -0.2500      0.34000      0.59000   \n",
       "2  daily_return_pct     0.000290  0.00000 -0.0574      0.07420      0.13160   \n",
       "3              open     3.086198  3.14470  1.5385      5.88780      4.34930   \n",
       "4               max     3.103608  3.15585  1.5495      5.97237      4.42287   \n",
       "5               min     3.070072  3.13335  1.5290      5.85667      4.32767   \n",
       "6            volume  2968.216783      NaN  0.0000  34144.00000  34144.00000   \n",
       "\n",
       "           std      skew   kurtosis  \n",
       "0     1.160179  0.564900  -0.596936  \n",
       "1     0.030946  0.149032  11.914693  \n",
       "2     0.008329  0.273157   6.036260  \n",
       "3     1.159738  0.564972  -0.596735  \n",
       "4     1.168341  0.566760  -0.593941  \n",
       "5     1.151816  0.560986  -0.603925  \n",
       "6  6012.881741  2.289402   4.519794  "
      ]
     },
     "execution_count": 166,
     "metadata": {},
     "output_type": "execute_result"
    }
   ],
   "source": [
    "descriptive_statistics(dolar.drop(['date','symbol'], axis=1))"
   ]
  },
  {
   "cell_type": "markdown",
   "id": "b806d76f",
   "metadata": {},
   "source": [
    "Pela avaliação da estatística descritiva, pode-se ver que a variação do movimento do dólar é baixa tendo em vista a alta `kurtosis` o que indica que há um concentração acentuada dos valores de `daily_variation` ao redor de zero, ponto reforçado pela baíxíssima média de `daily_return_pct`."
   ]
  },
  {
   "cell_type": "markdown",
   "id": "aabd19e3",
   "metadata": {},
   "source": [
    "### BOVA11"
   ]
  },
  {
   "cell_type": "code",
   "execution_count": 239,
   "id": "07485160",
   "metadata": {
    "scrolled": true
   },
   "outputs": [
    {
     "data": {
      "text/html": [
       "<div>\n",
       "<style scoped>\n",
       "    .dataframe tbody tr th:only-of-type {\n",
       "        vertical-align: middle;\n",
       "    }\n",
       "\n",
       "    .dataframe tbody tr th {\n",
       "        vertical-align: top;\n",
       "    }\n",
       "\n",
       "    .dataframe thead th {\n",
       "        text-align: right;\n",
       "    }\n",
       "</style>\n",
       "<table border=\"1\" class=\"dataframe\">\n",
       "  <thead>\n",
       "    <tr style=\"text-align: right;\">\n",
       "      <th></th>\n",
       "      <th>features</th>\n",
       "      <th>mean</th>\n",
       "      <th>median</th>\n",
       "      <th>min</th>\n",
       "      <th>max</th>\n",
       "      <th>range</th>\n",
       "      <th>std</th>\n",
       "      <th>skew</th>\n",
       "      <th>kurtosis</th>\n",
       "    </tr>\n",
       "  </thead>\n",
       "  <tbody>\n",
       "    <tr>\n",
       "      <th>0</th>\n",
       "      <td>close</td>\n",
       "      <td>68.48880</td>\n",
       "      <td>60.75000</td>\n",
       "      <td>36.45000</td>\n",
       "      <td>125.67000</td>\n",
       "      <td>89.22000</td>\n",
       "      <td>21.10802</td>\n",
       "      <td>0.90472</td>\n",
       "      <td>-0.27730</td>\n",
       "    </tr>\n",
       "    <tr>\n",
       "      <th>1</th>\n",
       "      <td>daily_variation</td>\n",
       "      <td>0.02194</td>\n",
       "      <td>0.00000</td>\n",
       "      <td>-11.96000</td>\n",
       "      <td>9.39000</td>\n",
       "      <td>21.35000</td>\n",
       "      <td>1.09367</td>\n",
       "      <td>-1.35780</td>\n",
       "      <td>18.57466</td>\n",
       "    </tr>\n",
       "    <tr>\n",
       "      <th>2</th>\n",
       "      <td>daily_return_pct</td>\n",
       "      <td>0.00038</td>\n",
       "      <td>0.00000</td>\n",
       "      <td>-0.14570</td>\n",
       "      <td>0.13400</td>\n",
       "      <td>0.27970</td>\n",
       "      <td>0.01560</td>\n",
       "      <td>-0.49618</td>\n",
       "      <td>10.69495</td>\n",
       "    </tr>\n",
       "    <tr>\n",
       "      <th>3</th>\n",
       "      <td>open</td>\n",
       "      <td>68.52664</td>\n",
       "      <td>60.80000</td>\n",
       "      <td>36.32000</td>\n",
       "      <td>125.57000</td>\n",
       "      <td>89.25000</td>\n",
       "      <td>21.10554</td>\n",
       "      <td>0.90219</td>\n",
       "      <td>-0.28392</td>\n",
       "    </tr>\n",
       "    <tr>\n",
       "      <th>4</th>\n",
       "      <td>max</td>\n",
       "      <td>69.11680</td>\n",
       "      <td>61.17000</td>\n",
       "      <td>36.61000</td>\n",
       "      <td>126.22000</td>\n",
       "      <td>89.61000</td>\n",
       "      <td>21.22290</td>\n",
       "      <td>0.90124</td>\n",
       "      <td>-0.29248</td>\n",
       "    </tr>\n",
       "    <tr>\n",
       "      <th>5</th>\n",
       "      <td>min</td>\n",
       "      <td>67.86566</td>\n",
       "      <td>60.31500</td>\n",
       "      <td>36.01000</td>\n",
       "      <td>124.71000</td>\n",
       "      <td>88.70000</td>\n",
       "      <td>20.96117</td>\n",
       "      <td>0.90785</td>\n",
       "      <td>-0.26571</td>\n",
       "    </tr>\n",
       "    <tr>\n",
       "      <th>6</th>\n",
       "      <td>volume</td>\n",
       "      <td>3310216.68833</td>\n",
       "      <td>2274495.00000</td>\n",
       "      <td>0.00000</td>\n",
       "      <td>45899510.00000</td>\n",
       "      <td>45899510.00000</td>\n",
       "      <td>3628650.01226</td>\n",
       "      <td>3.46034</td>\n",
       "      <td>20.61631</td>\n",
       "    </tr>\n",
       "  </tbody>\n",
       "</table>\n",
       "</div>"
      ],
      "text/plain": [
       "           features          mean        median       min            max  \\\n",
       "0             close      68.48880      60.75000  36.45000      125.67000   \n",
       "1   daily_variation       0.02194       0.00000 -11.96000        9.39000   \n",
       "2  daily_return_pct       0.00038       0.00000  -0.14570        0.13400   \n",
       "3              open      68.52664      60.80000  36.32000      125.57000   \n",
       "4               max      69.11680      61.17000  36.61000      126.22000   \n",
       "5               min      67.86566      60.31500  36.01000      124.71000   \n",
       "6            volume 3310216.68833 2274495.00000   0.00000 45899510.00000   \n",
       "\n",
       "           range           std     skew  kurtosis  \n",
       "0       89.22000      21.10802  0.90472  -0.27730  \n",
       "1       21.35000       1.09367 -1.35780  18.57466  \n",
       "2        0.27970       0.01560 -0.49618  10.69495  \n",
       "3       89.25000      21.10554  0.90219  -0.28392  \n",
       "4       89.61000      21.22290  0.90124  -0.29248  \n",
       "5       88.70000      20.96117  0.90785  -0.26571  \n",
       "6 45899510.00000 3628650.01226  3.46034  20.61631  "
      ]
     },
     "execution_count": 239,
     "metadata": {},
     "output_type": "execute_result"
    }
   ],
   "source": [
    "pd.options.display.float_format = '{:.5f}'.format\n",
    "descriptive_statistics(bova11.drop(['date','symbol'], axis=1))#.apply(lambda x: '%.5f' % x, axis=1)"
   ]
  },
  {
   "cell_type": "markdown",
   "id": "01bfae42",
   "metadata": {},
   "source": [
    "Tal qual o Dólar, o BOVA11 demonstra ser um ativo que apresenta pouca variação no agregado, tendo em vista sua média baixa, reforçada pela concentração de valores ao redor de zero apontada pela elevada `kurtosis`"
   ]
  },
  {
   "cell_type": "code",
   "execution_count": 242,
   "id": "07c37801",
   "metadata": {},
   "outputs": [
    {
     "data": {
      "image/png": "[encoded data removed]",
      "text/plain": [
       "<Figure size 432x288 with 1 Axes>"
      ]
     },
     "metadata": {
      "needs_background": "light"
     },
     "output_type": "display_data"
    }
   ],
   "source": [
    "sns.lineplot(y=bova11.close, x= bova11.date);"
   ]
  },
  {
   "cell_type": "markdown",
   "id": "ffebc673",
   "metadata": {},
   "source": [
    "### SMAL11"
   ]
  },
  {
   "cell_type": "code",
   "execution_count": 248,
   "id": "3e2ee93b",
   "metadata": {},
   "outputs": [
    {
     "data": {
      "text/html": [
       "<div>\n",
       "<style scoped>\n",
       "    .dataframe tbody tr th:only-of-type {\n",
       "        vertical-align: middle;\n",
       "    }\n",
       "\n",
       "    .dataframe tbody tr th {\n",
       "        vertical-align: top;\n",
       "    }\n",
       "\n",
       "    .dataframe thead th {\n",
       "        text-align: right;\n",
       "    }\n",
       "</style>\n",
       "<table border=\"1\" class=\"dataframe\">\n",
       "  <thead>\n",
       "    <tr style=\"text-align: right;\">\n",
       "      <th></th>\n",
       "      <th>features</th>\n",
       "      <th>mean</th>\n",
       "      <th>median</th>\n",
       "      <th>min</th>\n",
       "      <th>max</th>\n",
       "      <th>range</th>\n",
       "      <th>std</th>\n",
       "      <th>skew</th>\n",
       "      <th>kurtosis</th>\n",
       "    </tr>\n",
       "  </thead>\n",
       "  <tbody>\n",
       "    <tr>\n",
       "      <th>0</th>\n",
       "      <td>close</td>\n",
       "      <td>1560.09813</td>\n",
       "      <td>1394.01500</td>\n",
       "      <td>722.93000</td>\n",
       "      <td>3224.79000</td>\n",
       "      <td>2501.86000</td>\n",
       "      <td>557.92229</td>\n",
       "      <td>1.16163</td>\n",
       "      <td>0.57381</td>\n",
       "    </tr>\n",
       "    <tr>\n",
       "      <th>1</th>\n",
       "      <td>daily_variation</td>\n",
       "      <td>0.51370</td>\n",
       "      <td>0.00000</td>\n",
       "      <td>-363.51000</td>\n",
       "      <td>198.73000</td>\n",
       "      <td>562.24000</td>\n",
       "      <td>25.05839</td>\n",
       "      <td>-2.83410</td>\n",
       "      <td>40.35934</td>\n",
       "    </tr>\n",
       "    <tr>\n",
       "      <th>2</th>\n",
       "      <td>daily_return_pct</td>\n",
       "      <td>0.00033</td>\n",
       "      <td>0.00000</td>\n",
       "      <td>-0.16660</td>\n",
       "      <td>0.10930</td>\n",
       "      <td>0.27590</td>\n",
       "      <td>0.01405</td>\n",
       "      <td>-1.64178</td>\n",
       "      <td>21.44047</td>\n",
       "    </tr>\n",
       "    <tr>\n",
       "      <th>3</th>\n",
       "      <td>open</td>\n",
       "      <td>1559.44205</td>\n",
       "      <td>1394.08000</td>\n",
       "      <td>722.93000</td>\n",
       "      <td>3224.70000</td>\n",
       "      <td>2501.77000</td>\n",
       "      <td>557.24980</td>\n",
       "      <td>1.16263</td>\n",
       "      <td>0.57944</td>\n",
       "    </tr>\n",
       "    <tr>\n",
       "      <th>4</th>\n",
       "      <td>max</td>\n",
       "      <td>1572.41836</td>\n",
       "      <td>1401.53000</td>\n",
       "      <td>729.20000</td>\n",
       "      <td>3232.89000</td>\n",
       "      <td>2503.69000</td>\n",
       "      <td>562.81501</td>\n",
       "      <td>1.16070</td>\n",
       "      <td>0.55555</td>\n",
       "    </tr>\n",
       "    <tr>\n",
       "      <th>5</th>\n",
       "      <td>min</td>\n",
       "      <td>1546.39050</td>\n",
       "      <td>1385.53500</td>\n",
       "      <td>716.70000</td>\n",
       "      <td>3202.59000</td>\n",
       "      <td>2485.89000</td>\n",
       "      <td>551.26351</td>\n",
       "      <td>1.16242</td>\n",
       "      <td>0.59428</td>\n",
       "    </tr>\n",
       "    <tr>\n",
       "      <th>6</th>\n",
       "      <td>volume</td>\n",
       "      <td>111315540.24824</td>\n",
       "      <td>102993050.00000</td>\n",
       "      <td>0.00000</td>\n",
       "      <td>1184851500.00000</td>\n",
       "      <td>1184851500.00000</td>\n",
       "      <td>88479409.44992</td>\n",
       "      <td>3.33473</td>\n",
       "      <td>25.74554</td>\n",
       "    </tr>\n",
       "  </tbody>\n",
       "</table>\n",
       "</div>"
      ],
      "text/plain": [
       "           features            mean          median        min  \\\n",
       "0             close      1560.09813      1394.01500  722.93000   \n",
       "1   daily_variation         0.51370         0.00000 -363.51000   \n",
       "2  daily_return_pct         0.00033         0.00000   -0.16660   \n",
       "3              open      1559.44205      1394.08000  722.93000   \n",
       "4               max      1572.41836      1401.53000  729.20000   \n",
       "5               min      1546.39050      1385.53500  716.70000   \n",
       "6            volume 111315540.24824 102993050.00000    0.00000   \n",
       "\n",
       "               max            range            std     skew  kurtosis  \n",
       "0       3224.79000       2501.86000      557.92229  1.16163   0.57381  \n",
       "1        198.73000        562.24000       25.05839 -2.83410  40.35934  \n",
       "2          0.10930          0.27590        0.01405 -1.64178  21.44047  \n",
       "3       3224.70000       2501.77000      557.24980  1.16263   0.57944  \n",
       "4       3232.89000       2503.69000      562.81501  1.16070   0.55555  \n",
       "5       3202.59000       2485.89000      551.26351  1.16242   0.59428  \n",
       "6 1184851500.00000 1184851500.00000 88479409.44992  3.33473  25.74554  "
      ]
     },
     "execution_count": 248,
     "metadata": {},
     "output_type": "execute_result"
    }
   ],
   "source": [
    "pd.options.display.float_format = '{:.5f}'.format\n",
    "descriptive_statistics(smal11.drop(['date','symbol'], axis=1))"
   ]
  },
  {
   "cell_type": "markdown",
   "id": "8a2dcc7f",
   "metadata": {},
   "source": [
    "Ainda que tenha um desvio padrão de R$25, o SMAL11 também apresenta pouco percentual de variação diária, em que tanto sua média qaunto a média de variação diária bruta são próxima s de zero. "
   ]
  },
  {
   "cell_type": "markdown",
   "id": "a9c168d9",
   "metadata": {},
   "source": [
    "### BITCOIN"
   ]
  },
  {
   "cell_type": "code",
   "execution_count": 253,
   "id": "4aa46365",
   "metadata": {},
   "outputs": [
    {
     "data": {
      "text/html": [
       "<div>\n",
       "<style scoped>\n",
       "    .dataframe tbody tr th:only-of-type {\n",
       "        vertical-align: middle;\n",
       "    }\n",
       "\n",
       "    .dataframe tbody tr th {\n",
       "        vertical-align: top;\n",
       "    }\n",
       "\n",
       "    .dataframe thead th {\n",
       "        text-align: right;\n",
       "    }\n",
       "</style>\n",
       "<table border=\"1\" class=\"dataframe\">\n",
       "  <thead>\n",
       "    <tr style=\"text-align: right;\">\n",
       "      <th></th>\n",
       "      <th>features</th>\n",
       "      <th>mean</th>\n",
       "      <th>median</th>\n",
       "      <th>min</th>\n",
       "      <th>max</th>\n",
       "      <th>range</th>\n",
       "      <th>std</th>\n",
       "      <th>skew</th>\n",
       "      <th>kurtosis</th>\n",
       "    </tr>\n",
       "  </thead>\n",
       "  <tbody>\n",
       "    <tr>\n",
       "      <th>0</th>\n",
       "      <td>close</td>\n",
       "      <td>5301.68968</td>\n",
       "      <td>623.06000</td>\n",
       "      <td>0.29500</td>\n",
       "      <td>63431.38000</td>\n",
       "      <td>63431.08500</td>\n",
       "      <td>10420.60120</td>\n",
       "      <td>3.36229</td>\n",
       "      <td>12.12961</td>\n",
       "    </tr>\n",
       "    <tr>\n",
       "      <th>1</th>\n",
       "      <td>daily_variation</td>\n",
       "      <td>8.06649</td>\n",
       "      <td>0.06000</td>\n",
       "      <td>-5616.61000</td>\n",
       "      <td>7082.84000</td>\n",
       "      <td>12699.45000</td>\n",
       "      <td>510.28324</td>\n",
       "      <td>0.36029</td>\n",
       "      <td>44.41475</td>\n",
       "    </tr>\n",
       "    <tr>\n",
       "      <th>2</th>\n",
       "      <td>daily_return_pct</td>\n",
       "      <td>0.00436</td>\n",
       "      <td>0.00190</td>\n",
       "      <td>-0.38970</td>\n",
       "      <td>0.52890</td>\n",
       "      <td>0.91860</td>\n",
       "      <td>0.05166</td>\n",
       "      <td>0.74990</td>\n",
       "      <td>13.68581</td>\n",
       "    </tr>\n",
       "    <tr>\n",
       "      <th>3</th>\n",
       "      <td>open</td>\n",
       "      <td>5293.85802</td>\n",
       "      <td>622.47000</td>\n",
       "      <td>0.29500</td>\n",
       "      <td>63485.71000</td>\n",
       "      <td>63485.41500</td>\n",
       "      <td>10413.42114</td>\n",
       "      <td>3.36939</td>\n",
       "      <td>12.18748</td>\n",
       "    </tr>\n",
       "    <tr>\n",
       "      <th>4</th>\n",
       "      <td>max</td>\n",
       "      <td>5474.77531</td>\n",
       "      <td>629.27000</td>\n",
       "      <td>0.29900</td>\n",
       "      <td>64900.00000</td>\n",
       "      <td>64899.70100</td>\n",
       "      <td>10773.28271</td>\n",
       "      <td>3.35012</td>\n",
       "      <td>11.97356</td>\n",
       "    </tr>\n",
       "    <tr>\n",
       "      <th>5</th>\n",
       "      <td>min</td>\n",
       "      <td>5090.32858</td>\n",
       "      <td>610.23000</td>\n",
       "      <td>0.28900</td>\n",
       "      <td>62036.73000</td>\n",
       "      <td>62036.44100</td>\n",
       "      <td>9984.46290</td>\n",
       "      <td>3.38446</td>\n",
       "      <td>12.39580</td>\n",
       "    </tr>\n",
       "    <tr>\n",
       "      <th>6</th>\n",
       "      <td>volume</td>\n",
       "      <td>3948121.85033</td>\n",
       "      <td>38645.00000</td>\n",
       "      <td>0.00000</td>\n",
       "      <td>4057877677.00000</td>\n",
       "      <td>4057877677.00000</td>\n",
       "      <td>97217275.10138</td>\n",
       "      <td>30.59415</td>\n",
       "      <td>1051.30929</td>\n",
       "    </tr>\n",
       "  </tbody>\n",
       "</table>\n",
       "</div>"
      ],
      "text/plain": [
       "           features          mean      median         min              max  \\\n",
       "0             close    5301.68968   623.06000     0.29500      63431.38000   \n",
       "1   daily_variation       8.06649     0.06000 -5616.61000       7082.84000   \n",
       "2  daily_return_pct       0.00436     0.00190    -0.38970          0.52890   \n",
       "3              open    5293.85802   622.47000     0.29500      63485.71000   \n",
       "4               max    5474.77531   629.27000     0.29900      64900.00000   \n",
       "5               min    5090.32858   610.23000     0.28900      62036.73000   \n",
       "6            volume 3948121.85033 38645.00000     0.00000 4057877677.00000   \n",
       "\n",
       "             range            std     skew   kurtosis  \n",
       "0      63431.08500    10420.60120  3.36229   12.12961  \n",
       "1      12699.45000      510.28324  0.36029   44.41475  \n",
       "2          0.91860        0.05166  0.74990   13.68581  \n",
       "3      63485.41500    10413.42114  3.36939   12.18748  \n",
       "4      64899.70100    10773.28271  3.35012   11.97356  \n",
       "5      62036.44100     9984.46290  3.38446   12.39580  \n",
       "6 4057877677.00000 97217275.10138 30.59415 1051.30929  "
      ]
     },
     "execution_count": 253,
     "metadata": {},
     "output_type": "execute_result"
    }
   ],
   "source": [
    "pd.options.display.float_format = '{:.5f}'.format\n",
    "descriptive_statistics(bitcoin.drop(['date','symbol'], axis=1))"
   ]
  },
  {
   "cell_type": "markdown",
   "id": "e6466715",
   "metadata": {},
   "source": [
    "### ETHER"
   ]
  },
  {
   "cell_type": "code",
   "execution_count": 255,
   "id": "0b15f1be",
   "metadata": {},
   "outputs": [
    {
     "data": {
      "text/html": [
       "<div>\n",
       "<style scoped>\n",
       "    .dataframe tbody tr th:only-of-type {\n",
       "        vertical-align: middle;\n",
       "    }\n",
       "\n",
       "    .dataframe tbody tr th {\n",
       "        vertical-align: top;\n",
       "    }\n",
       "\n",
       "    .dataframe thead th {\n",
       "        text-align: right;\n",
       "    }\n",
       "</style>\n",
       "<table border=\"1\" class=\"dataframe\">\n",
       "  <thead>\n",
       "    <tr style=\"text-align: right;\">\n",
       "      <th></th>\n",
       "      <th>features</th>\n",
       "      <th>mean</th>\n",
       "      <th>median</th>\n",
       "      <th>min</th>\n",
       "      <th>max</th>\n",
       "      <th>range</th>\n",
       "      <th>std</th>\n",
       "      <th>skew</th>\n",
       "      <th>kurtosis</th>\n",
       "    </tr>\n",
       "  </thead>\n",
       "  <tbody>\n",
       "    <tr>\n",
       "      <th>0</th>\n",
       "      <td>close</td>\n",
       "      <td>391.24998</td>\n",
       "      <td>199.23000</td>\n",
       "      <td>0.43483</td>\n",
       "      <td>4154.58000</td>\n",
       "      <td>4154.14517</td>\n",
       "      <td>609.65001</td>\n",
       "      <td>2.85942</td>\n",
       "      <td>8.97753</td>\n",
       "    </tr>\n",
       "    <tr>\n",
       "      <th>1</th>\n",
       "      <td>daily_variation</td>\n",
       "      <td>0.82456</td>\n",
       "      <td>0.00004</td>\n",
       "      <td>-862.74000</td>\n",
       "      <td>525.67000</td>\n",
       "      <td>1388.41000</td>\n",
       "      <td>47.47102</td>\n",
       "      <td>-2.01547</td>\n",
       "      <td>76.28505</td>\n",
       "    </tr>\n",
       "    <tr>\n",
       "      <th>2</th>\n",
       "      <td>daily_return_pct</td>\n",
       "      <td>0.00528</td>\n",
       "      <td>0.00030</td>\n",
       "      <td>-0.72820</td>\n",
       "      <td>0.50730</td>\n",
       "      <td>1.23550</td>\n",
       "      <td>0.06564</td>\n",
       "      <td>0.14612</td>\n",
       "      <td>13.70557</td>\n",
       "    </tr>\n",
       "    <tr>\n",
       "      <th>3</th>\n",
       "      <td>open</td>\n",
       "      <td>389.88434</td>\n",
       "      <td>198.53000</td>\n",
       "      <td>0.00000</td>\n",
       "      <td>4176.25000</td>\n",
       "      <td>4176.25000</td>\n",
       "      <td>608.04538</td>\n",
       "      <td>2.85773</td>\n",
       "      <td>8.93355</td>\n",
       "    </tr>\n",
       "    <tr>\n",
       "      <th>4</th>\n",
       "      <td>max</td>\n",
       "      <td>407.89172</td>\n",
       "      <td>206.44000</td>\n",
       "      <td>0.00000</td>\n",
       "      <td>4384.43000</td>\n",
       "      <td>4384.43000</td>\n",
       "      <td>637.65513</td>\n",
       "      <td>2.87754</td>\n",
       "      <td>9.14333</td>\n",
       "    </tr>\n",
       "    <tr>\n",
       "      <th>5</th>\n",
       "      <td>min</td>\n",
       "      <td>369.41759</td>\n",
       "      <td>189.60000</td>\n",
       "      <td>0.00000</td>\n",
       "      <td>3934.01000</td>\n",
       "      <td>3934.01000</td>\n",
       "      <td>572.87044</td>\n",
       "      <td>2.84903</td>\n",
       "      <td>8.87248</td>\n",
       "    </tr>\n",
       "    <tr>\n",
       "      <th>6</th>\n",
       "      <td>volume</td>\n",
       "      <td>1750739.19674</td>\n",
       "      <td>586411.00000</td>\n",
       "      <td>0.00000</td>\n",
       "      <td>313233068.00000</td>\n",
       "      <td>313233068.00000</td>\n",
       "      <td>9629292.32245</td>\n",
       "      <td>23.10217</td>\n",
       "      <td>630.79912</td>\n",
       "    </tr>\n",
       "  </tbody>\n",
       "</table>\n",
       "</div>"
      ],
      "text/plain": [
       "           features          mean       median        min             max  \\\n",
       "0             close     391.24998    199.23000    0.43483      4154.58000   \n",
       "1   daily_variation       0.82456      0.00004 -862.74000       525.67000   \n",
       "2  daily_return_pct       0.00528      0.00030   -0.72820         0.50730   \n",
       "3              open     389.88434    198.53000    0.00000      4176.25000   \n",
       "4               max     407.89172    206.44000    0.00000      4384.43000   \n",
       "5               min     369.41759    189.60000    0.00000      3934.01000   \n",
       "6            volume 1750739.19674 586411.00000    0.00000 313233068.00000   \n",
       "\n",
       "            range           std     skew  kurtosis  \n",
       "0      4154.14517     609.65001  2.85942   8.97753  \n",
       "1      1388.41000      47.47102 -2.01547  76.28505  \n",
       "2         1.23550       0.06564  0.14612  13.70557  \n",
       "3      4176.25000     608.04538  2.85773   8.93355  \n",
       "4      4384.43000     637.65513  2.87754   9.14333  \n",
       "5      3934.01000     572.87044  2.84903   8.87248  \n",
       "6 313233068.00000 9629292.32245 23.10217 630.79912  "
      ]
     },
     "execution_count": 255,
     "metadata": {},
     "output_type": "execute_result"
    }
   ],
   "source": [
    "pd.options.display.float_format = '{:.5f}'.format\n",
    "descriptive_statistics(ether.drop(['date','symbol'], axis=1))"
   ]
  },
  {
   "cell_type": "markdown",
   "id": "2516d6de",
   "metadata": {},
   "source": [
    "# 2.0 Feature Filtering"
   ]
  },
  {
   "cell_type": "code",
   "execution_count": 168,
   "id": "0ea909aa",
   "metadata": {},
   "outputs": [],
   "source": [
    "dolar.dropna(inplace=True)"
   ]
  },
  {
   "cell_type": "code",
   "execution_count": 170,
   "id": "206d2bc1",
   "metadata": {},
   "outputs": [
    {
     "name": "stdout",
     "output_type": "stream",
     "text": [
      "dolar 891\n",
      "bova11 211\n",
      "smal11 223\n",
      "bitcoin 58\n",
      "ether 16\n"
     ]
    }
   ],
   "source": [
    "print('dolar', dolar.loc[dolar['daily_return_pct'] == 0].shape[0])\n",
    "print('bova11', bova11.loc[bova11['daily_return_pct'] == 0].shape[0])\n",
    "print('smal11', smal11.loc[smal11['daily_return_pct'] == 0].shape[0])\n",
    "print('bitcoin', bitcoin.loc[bitcoin['daily_return_pct'] == 0].shape[0])\n",
    "print('ether', ether.loc[ether['daily_return_pct'] == 0].shape[0])"
   ]
  },
  {
   "cell_type": "code",
   "execution_count": 172,
   "id": "bd25e1ca",
   "metadata": {},
   "outputs": [
    {
     "data": {
      "text/plain": [
       "False    851\n",
       "True      40\n",
       "Name: date, dtype: int64"
      ]
     },
     "execution_count": 172,
     "metadata": {},
     "output_type": "execute_result"
    }
   ],
   "source": [
    "dolar.loc[dolar['daily_return_pct'] == 0].date.isin(bova11.loc[bova11['daily_return_pct'] == 0].date).value_counts()"
   ]
  },
  {
   "cell_type": "markdown",
   "id": "c84ac2a6",
   "metadata": {},
   "source": [
    "**DROPAR OU NÃO OS VALORES DE RETURN COM 0**"
   ]
  },
  {
   "cell_type": "code",
   "execution_count": null,
   "id": "f8de2302",
   "metadata": {},
   "outputs": [],
   "source": []
  },
  {
   "cell_type": "markdown",
   "id": "7c466805",
   "metadata": {},
   "source": [
    "# 3.0 Feature Engineering"
   ]
  },
  {
   "cell_type": "code",
   "execution_count": null,
   "id": "02b6a3dc",
   "metadata": {},
   "outputs": [],
   "source": []
  },
  {
   "cell_type": "markdown",
   "id": "e7fbd08a",
   "metadata": {},
   "source": [
    "# 4.0 Exploratory Data Analysis"
   ]
  },
  {
   "cell_type": "code",
   "execution_count": null,
   "id": "a42e8939",
   "metadata": {},
   "outputs": [],
   "source": []
  },
  {
   "cell_type": "markdown",
   "id": "ba2ffd29",
   "metadata": {},
   "source": [
    "# 5.0 Data preparation"
   ]
  },
  {
   "cell_type": "code",
   "execution_count": null,
   "id": "390614a8",
   "metadata": {},
   "outputs": [],
   "source": []
  },
  {
   "cell_type": "markdown",
   "id": "0d2f3509",
   "metadata": {},
   "source": [
    "# 6.0 Feature Selection"
   ]
  },
  {
   "cell_type": "code",
   "execution_count": null,
   "id": "4a8dc490",
   "metadata": {},
   "outputs": [],
   "source": []
  },
  {
   "cell_type": "markdown",
   "id": "1c3586ba",
   "metadata": {},
   "source": [
    "# 7.0 Machine Learning Modelling"
   ]
  },
  {
   "cell_type": "code",
   "execution_count": 173,
   "id": "f4052b0e",
   "metadata": {},
   "outputs": [
    {
     "data": {
      "text/plain": [
       "Timestamp('2020-11-09 00:00:00')"
      ]
     },
     "execution_count": 173,
     "metadata": {},
     "output_type": "execute_result"
    }
   ],
   "source": [
    "## Define test size: ONE YEAR\n",
    "\n",
    "test_period = dolar.date.max() - datetime.timedelta(days=252)\n",
    "test_period"
   ]
  },
  {
   "cell_type": "code",
   "execution_count": 174,
   "id": "b0c3065e",
   "metadata": {},
   "outputs": [],
   "source": [
    "def cross_validation(x_training, kfold, model_name, model, verbose=True):\n",
    "    mae_list = []\n",
    "    mape_list = []\n",
    "    rmse_list = []\n",
    "    for k in reversed(range(1,kfold+1)):\n",
    "        if verbose:\n",
    "            print('Kfold Number: {}'.format(k))\n",
    "        # start and end date for validation\n",
    "        validation_start_date = x_training['date'].max() - datetime.timedelta(days=k*90)\n",
    "        validation_end_date = x_training['date'].max() - datetime.timedelta(days=(k-1)*90)\n",
    "\n",
    "        # filtering dataset\n",
    "        training = x_training[x_training['date']< validation_start_date]\n",
    "        validation = x_training[(x_training['date'] >= validation_start_date) & (x_training['date'] <= validation_end_date)]\n",
    "\n",
    "        # training and validation dataset\n",
    "        xtraining = training.drop(['daily_return_pct','date', 'symbol'], axis=1)\n",
    "        ytraining = training['daily_return_pct']\n",
    "\n",
    "        xvalidation = validation.drop(['daily_return_pct','date','symbol'],axis=1)\n",
    "        yvalidation = validation['daily_return_pct']\n",
    "\n",
    "        # model\n",
    "        m = model.fit(xtraining, ytraining)\n",
    "\n",
    "        # prediction\n",
    "        yhat = m.predict(xvalidation)\n",
    "\n",
    "        # performance\n",
    "        m_result = ml_error(model_name, yvalidation, yhat) #np.expm1(yvalidation), np.expm1(yhat))\n",
    "\n",
    "        # store perfomance of each kfold iteration\n",
    "        mae_list.append(m_result['MAE'])\n",
    "        mape_list.append(m_result['MAPE'])\n",
    "        rmse_list.append(m_result['RMSE'])\n",
    "\n",
    "    return pd.DataFrame({'Model':model_name,\n",
    "        'MAE cv': np.round(np.mean(mae_list),2).astype(str) + '+/-' + np.round(np.std(mae_list),2).astype(str),\n",
    "        'MAPE cv': np.round(np.mean(mape_list),2).astype(str) + '+/-' + np.round(np.std(mape_list),2).astype(str),\n",
    "        'RMSE cv': np.round(np.mean(rmse_list),2).astype(str) + '+/-' + np.round(np.std(rmse_list),2).astype(str)}, index=[0])\n"
   ]
  },
  {
   "cell_type": "markdown",
   "id": "2bafd2b8",
   "metadata": {},
   "source": [
    "## 7.1 Dolar"
   ]
  },
  {
   "cell_type": "code",
   "execution_count": 175,
   "id": "4d4ab497",
   "metadata": {},
   "outputs": [],
   "source": [
    "# Train Dataset\n",
    "X_train_dolar = dolar[dolar.date < test_period]\n",
    "y_train_dolar = X_train_dolar['daily_return_pct']\n",
    "\n",
    "# Test Dataset\n",
    "X_test_dolar = dolar[dolar.date >= test_period]\n",
    "y_test_dolar = X_test_dolar['daily_return_pct']\n"
   ]
  },
  {
   "cell_type": "markdown",
   "id": "165022c4",
   "metadata": {},
   "source": [
    "### Linear Regression"
   ]
  },
  {
   "cell_type": "code",
   "execution_count": 176,
   "id": "a2fcba18",
   "metadata": {},
   "outputs": [
    {
     "name": "stdout",
     "output_type": "stream",
     "text": [
      "Kfold Number: 10\n",
      "Kfold Number: 9\n",
      "Kfold Number: 8\n",
      "Kfold Number: 7\n",
      "Kfold Number: 6\n",
      "Kfold Number: 5\n",
      "Kfold Number: 4\n",
      "Kfold Number: 3\n",
      "Kfold Number: 2\n",
      "Kfold Number: 1\n"
     ]
    },
    {
     "name": "stderr",
     "output_type": "stream",
     "text": [
      "c:\\users\\dell\\desktop\\ciencia_de_dados\\cases_processos_seletivos\\case_dr\\case_dr\\lib\\site-packages\\numpy\\core\\_methods.py:230: RuntimeWarning: invalid value encountered in subtract\n",
      "  x = asanyarray(arr - arrmean)\n"
     ]
    },
    {
     "data": {
      "text/html": [
       "<div>\n",
       "<style scoped>\n",
       "    .dataframe tbody tr th:only-of-type {\n",
       "        vertical-align: middle;\n",
       "    }\n",
       "\n",
       "    .dataframe tbody tr th {\n",
       "        vertical-align: top;\n",
       "    }\n",
       "\n",
       "    .dataframe thead th {\n",
       "        text-align: right;\n",
       "    }\n",
       "</style>\n",
       "<table border=\"1\" class=\"dataframe\">\n",
       "  <thead>\n",
       "    <tr style=\"text-align: right;\">\n",
       "      <th></th>\n",
       "      <th>Model</th>\n",
       "      <th>MAE cv</th>\n",
       "      <th>MAPE cv</th>\n",
       "      <th>RMSE cv</th>\n",
       "    </tr>\n",
       "  </thead>\n",
       "  <tbody>\n",
       "    <tr>\n",
       "      <th>0</th>\n",
       "      <td>Linear Regression</td>\n",
       "      <td>0.0+/-0.0</td>\n",
       "      <td>inf+/-nan</td>\n",
       "      <td>0.0+/-0.0</td>\n",
       "    </tr>\n",
       "  </tbody>\n",
       "</table>\n",
       "</div>"
      ],
      "text/plain": [
       "               Model     MAE cv    MAPE cv    RMSE cv\n",
       "0  Linear Regression  0.0+/-0.0  inf+/-nan  0.0+/-0.0"
      ]
     },
     "execution_count": 176,
     "metadata": {},
     "output_type": "execute_result"
    }
   ],
   "source": [
    "# Model Definition\n",
    "lr_dolar = LinearRegression()\n",
    "\n",
    "dolar_lr = cross_validation(X_train_dolar, 10, 'Linear Regression', lr_dolar, verbose=True)\n",
    "dolar_lr"
   ]
  },
  {
   "cell_type": "code",
   "execution_count": 177,
   "id": "765742a6",
   "metadata": {
    "scrolled": true
   },
   "outputs": [
    {
     "data": {
      "text/html": [
       "<div>\n",
       "<style scoped>\n",
       "    .dataframe tbody tr th:only-of-type {\n",
       "        vertical-align: middle;\n",
       "    }\n",
       "\n",
       "    .dataframe tbody tr th {\n",
       "        vertical-align: top;\n",
       "    }\n",
       "\n",
       "    .dataframe thead th {\n",
       "        text-align: right;\n",
       "    }\n",
       "</style>\n",
       "<table border=\"1\" class=\"dataframe\">\n",
       "  <thead>\n",
       "    <tr style=\"text-align: right;\">\n",
       "      <th></th>\n",
       "      <th>Model Name</th>\n",
       "      <th>MAE</th>\n",
       "      <th>MAPE</th>\n",
       "      <th>RMSE</th>\n",
       "    </tr>\n",
       "  </thead>\n",
       "  <tbody>\n",
       "    <tr>\n",
       "      <th>0</th>\n",
       "      <td>Linear Regression</td>\n",
       "      <td>5.422784e-15</td>\n",
       "      <td>inf</td>\n",
       "      <td>5.451969e-15</td>\n",
       "    </tr>\n",
       "  </tbody>\n",
       "</table>\n",
       "</div>"
      ],
      "text/plain": [
       "          Model Name           MAE  MAPE          RMSE\n",
       "0  Linear Regression  5.422784e-15   inf  5.451969e-15"
      ]
     },
     "execution_count": 177,
     "metadata": {},
     "output_type": "execute_result"
    }
   ],
   "source": [
    "# Train Dataset\n",
    "X_train_dolar = dolar[dolar.date < test_period].drop(['date','symbol'], axis=1)\n",
    "y_train_dolar = X_train_dolar['daily_return_pct']\n",
    "\n",
    "# Test Dataset\n",
    "X_test_dolar = dolar[dolar.date >= test_period].drop(['date','symbol'], axis=1)\n",
    "y_test_dolar = X_test_dolar['daily_return_pct']\n",
    "\n",
    "# Model Training\n",
    "lr_dolar.fit(X_train_dolar, y_train_dolar)\n",
    "\n",
    "# Model prediction\n",
    "yhat_lr_dolar = lr_dolar.predict(X_test_dolar)\n",
    "\n",
    "# Model Performance\n",
    "lr_result_dolar = ml_error('Linear Regression', y_test_dolar, yhat_lr_dolar)\n",
    "lr_result_dolar"
   ]
  },
  {
   "cell_type": "code",
   "execution_count": null,
   "id": "4dbe2f10",
   "metadata": {
    "scrolled": true
   },
   "outputs": [],
   "source": [
    "# verbose =True\n",
    "# x_training  = X_train_dolar\n",
    "# kfold = 11\n",
    "# model_name = 'Linear Regression'\n",
    "# model = lr_dolar\n",
    "# for k in reversed(range(1,kfold+1)):\n",
    "#     if verbose:\n",
    "#         print('\\nKfold Number: {}'.format(k))\n",
    "#     # start and end date for validation\n",
    "#     validation_start_date = x_training['Data'].max() - datetime.timedelta(days=k*90)\n",
    "#     validation_end_date = x_training['Data'].max() - datetime.timedelta(days=(k-1)*90)\n",
    "\n",
    "#     # filtering dataset\n",
    "#     training = x_training[x_training['Data']< validation_start_date]\n",
    "#     validation = x_training[(x_training['Data'] >= validation_start_date) & (x_training['Data'] <= validation_end_date)]\n",
    "\n",
    "\n",
    "#     # training and validation dataset\n",
    "#     xtraining = training.drop(['Fechamento','Data', 'Ativo'], axis=1)\n",
    "#     ytraining = training['Fechamento']\n",
    "\n",
    "#     xvalidation = validation.drop(['Fechamento','Data','Ativo'], axis=1)\n",
    "#     yvalidation = validation['Fechamento']\n",
    "# #     print('training - min', training.Data.min())\n",
    "# #     print('training - max', training.Data.max())\n",
    "# #     print('validation - min', validation.Data.min())\n",
    "# #     print('validation - max', validation.Data.max())\n",
    "\n",
    "#     print('xtraining', xtraining.shape)\n",
    "#     print('ytraining', ytraining.shape)\n",
    "#     print('xvalidation', xvalidation.shape)\n",
    "#     print('yvalidation', yvalidation.shape)"
   ]
  },
  {
   "cell_type": "code",
   "execution_count": 178,
   "id": "e3edd596",
   "metadata": {
    "scrolled": false
   },
   "outputs": [
    {
     "data": {
      "image/png": "[encoded data removed]",
      "text/plain": [
       "<Figure size 432x288 with 1 Axes>"
      ]
     },
     "metadata": {
      "needs_background": "light"
     },
     "output_type": "display_data"
    }
   ],
   "source": [
    "yhat_lr_dolar = pd.Series(yhat_lr_dolar)\n",
    "plt.plot(yhat_lr_dolar, label='Predicted')\n",
    "plt.plot(y_test_dolar, label='Real')\n",
    "plt.legend();"
   ]
  },
  {
   "cell_type": "markdown",
   "id": "0739eb79",
   "metadata": {},
   "source": [
    "## 7.2 BOVA11"
   ]
  },
  {
   "cell_type": "code",
   "execution_count": 179,
   "id": "e7f9f74d",
   "metadata": {},
   "outputs": [],
   "source": [
    "# Train Dataset\n",
    "X_train_bova11 = bova11[bova11.date < test_period]\n",
    "y_train_bova11 = bova11[bova11.date < test_period]['daily_return_pct']\n",
    "\n",
    "# Test Dataset\n",
    "X_test_bova11 = bova11[bova11.date >= test_period]\n",
    "y_test_bova11 = bova11[bova11.date >= test_period]['daily_return_pct']"
   ]
  },
  {
   "cell_type": "markdown",
   "id": "423e88ca",
   "metadata": {},
   "source": [
    "### Linear Regression"
   ]
  },
  {
   "cell_type": "code",
   "execution_count": 180,
   "id": "2f892298",
   "metadata": {
    "scrolled": true
   },
   "outputs": [
    {
     "name": "stdout",
     "output_type": "stream",
     "text": [
      "Kfold Number: 10\n",
      "Kfold Number: 9\n",
      "Kfold Number: 8\n",
      "Kfold Number: 7\n",
      "Kfold Number: 6\n",
      "Kfold Number: 5\n",
      "Kfold Number: 4\n",
      "Kfold Number: 3\n",
      "Kfold Number: 2\n",
      "Kfold Number: 1\n"
     ]
    },
    {
     "name": "stderr",
     "output_type": "stream",
     "text": [
      "c:\\users\\dell\\desktop\\ciencia_de_dados\\cases_processos_seletivos\\case_dr\\case_dr\\lib\\site-packages\\numpy\\core\\_methods.py:230: RuntimeWarning: invalid value encountered in subtract\n",
      "  x = asanyarray(arr - arrmean)\n"
     ]
    },
    {
     "data": {
      "text/html": [
       "<div>\n",
       "<style scoped>\n",
       "    .dataframe tbody tr th:only-of-type {\n",
       "        vertical-align: middle;\n",
       "    }\n",
       "\n",
       "    .dataframe tbody tr th {\n",
       "        vertical-align: top;\n",
       "    }\n",
       "\n",
       "    .dataframe thead th {\n",
       "        text-align: right;\n",
       "    }\n",
       "</style>\n",
       "<table border=\"1\" class=\"dataframe\">\n",
       "  <thead>\n",
       "    <tr style=\"text-align: right;\">\n",
       "      <th></th>\n",
       "      <th>Model</th>\n",
       "      <th>MAE cv</th>\n",
       "      <th>MAPE cv</th>\n",
       "      <th>RMSE cv</th>\n",
       "    </tr>\n",
       "  </thead>\n",
       "  <tbody>\n",
       "    <tr>\n",
       "      <th>0</th>\n",
       "      <td>Linear Regression</td>\n",
       "      <td>0.01+/-0.0</td>\n",
       "      <td>inf+/-nan</td>\n",
       "      <td>0.01+/-0.0</td>\n",
       "    </tr>\n",
       "  </tbody>\n",
       "</table>\n",
       "</div>"
      ],
      "text/plain": [
       "               Model      MAE cv    MAPE cv     RMSE cv\n",
       "0  Linear Regression  0.01+/-0.0  inf+/-nan  0.01+/-0.0"
      ]
     },
     "execution_count": 180,
     "metadata": {},
     "output_type": "execute_result"
    }
   ],
   "source": [
    "# Model Definition\n",
    "lr_bova11 = LinearRegression()\n",
    "\n",
    "lr_cv_bova11 = cross_validation(X_train_bova11, 10, 'Linear Regression', lr_bova11, verbose=True)\n",
    "lr_cv_bova11"
   ]
  },
  {
   "cell_type": "code",
   "execution_count": 182,
   "id": "01cc6f86",
   "metadata": {},
   "outputs": [
    {
     "data": {
      "text/html": [
       "<div>\n",
       "<style scoped>\n",
       "    .dataframe tbody tr th:only-of-type {\n",
       "        vertical-align: middle;\n",
       "    }\n",
       "\n",
       "    .dataframe tbody tr th {\n",
       "        vertical-align: top;\n",
       "    }\n",
       "\n",
       "    .dataframe thead th {\n",
       "        text-align: right;\n",
       "    }\n",
       "</style>\n",
       "<table border=\"1\" class=\"dataframe\">\n",
       "  <thead>\n",
       "    <tr style=\"text-align: right;\">\n",
       "      <th></th>\n",
       "      <th>Model Name</th>\n",
       "      <th>MAE</th>\n",
       "      <th>MAPE</th>\n",
       "      <th>RMSE</th>\n",
       "    </tr>\n",
       "  </thead>\n",
       "  <tbody>\n",
       "    <tr>\n",
       "      <th>0</th>\n",
       "      <td>Linear Regression</td>\n",
       "      <td>0.005856</td>\n",
       "      <td>inf</td>\n",
       "      <td>0.00768</td>\n",
       "    </tr>\n",
       "  </tbody>\n",
       "</table>\n",
       "</div>"
      ],
      "text/plain": [
       "          Model Name       MAE  MAPE     RMSE\n",
       "0  Linear Regression  0.005856   inf  0.00768"
      ]
     },
     "execution_count": 182,
     "metadata": {},
     "output_type": "execute_result"
    }
   ],
   "source": [
    "# Train Dataset\n",
    "X_train_bova11 = bova11[bova11.date < test_period].drop(['date', 'daily_return_pct', 'symbol'], axis=1)\n",
    "y_train_bova11 = bova11[bova11.date < test_period]['daily_return_pct']\n",
    "\n",
    "# Test Dataset\n",
    "X_test_bova11 = bova11[bova11.date >= test_period].drop(['date', 'daily_return_pct', 'symbol'], axis=1)\n",
    "y_test_bova11 = bova11[bova11.date >= test_period]['daily_return_pct']\n",
    "\n",
    "# Model training\n",
    "lr_bova11.fit(X_train_bova11, y_train_bova11)\n",
    "\n",
    "# Model Prediction\n",
    "yhat_lr_bova11 = lr_bova11.predict(X_test_bova11)\n",
    "\n",
    "# Model Performance\n",
    "lr_result_bova11 = ml_error('Linear Regression', y_test_bova11, yhat_lr_bova11)\n",
    "lr_result_bova11"
   ]
  },
  {
   "cell_type": "code",
   "execution_count": 183,
   "id": "5d52ba06",
   "metadata": {
    "scrolled": true
   },
   "outputs": [
    {
     "data": {
      "image/png": "[encoded data removed]",
      "text/plain": [
       "<Figure size 432x288 with 1 Axes>"
      ]
     },
     "metadata": {
      "needs_background": "light"
     },
     "output_type": "display_data"
    }
   ],
   "source": [
    "yhat_lr_dolar = pd.Series(yhat_lr_bova11)\n",
    "plt.plot(yhat_lr_bova11, label='Predicted')\n",
    "plt.plot(y_test_bova11, label='Real')\n",
    "plt.legend();"
   ]
  },
  {
   "cell_type": "markdown",
   "id": "20efead2",
   "metadata": {},
   "source": [
    "## 7.3 SMAL11"
   ]
  },
  {
   "cell_type": "code",
   "execution_count": 195,
   "id": "672670ab",
   "metadata": {},
   "outputs": [],
   "source": [
    "# Train Dataset\n",
    "X_train_smal11 = smal11[smal11.date < test_period]\n",
    "y_train_smal11 = X_train_smal11['daily_return_pct']\n",
    "\n",
    "# Test Dataset\n",
    "X_test_smal11 = smal11[smal11.date >= test_period]\n",
    "y_test_smal11 = X_test_smal11['daily_return_pct']"
   ]
  },
  {
   "cell_type": "markdown",
   "id": "c5fdbef7",
   "metadata": {},
   "source": [
    "### Linear Regression"
   ]
  },
  {
   "cell_type": "code",
   "execution_count": 196,
   "id": "e7b466fd",
   "metadata": {},
   "outputs": [
    {
     "name": "stdout",
     "output_type": "stream",
     "text": [
      "Kfold Number: 10\n",
      "Kfold Number: 9\n",
      "Kfold Number: 8\n",
      "Kfold Number: 7\n",
      "Kfold Number: 6\n",
      "Kfold Number: 5\n",
      "Kfold Number: 4\n",
      "Kfold Number: 3\n",
      "Kfold Number: 2\n",
      "Kfold Number: 1\n"
     ]
    },
    {
     "name": "stderr",
     "output_type": "stream",
     "text": [
      "c:\\users\\dell\\desktop\\ciencia_de_dados\\cases_processos_seletivos\\case_dr\\case_dr\\lib\\site-packages\\numpy\\core\\_methods.py:230: RuntimeWarning: invalid value encountered in subtract\n",
      "  x = asanyarray(arr - arrmean)\n"
     ]
    },
    {
     "data": {
      "text/html": [
       "<div>\n",
       "<style scoped>\n",
       "    .dataframe tbody tr th:only-of-type {\n",
       "        vertical-align: middle;\n",
       "    }\n",
       "\n",
       "    .dataframe tbody tr th {\n",
       "        vertical-align: top;\n",
       "    }\n",
       "\n",
       "    .dataframe thead th {\n",
       "        text-align: right;\n",
       "    }\n",
       "</style>\n",
       "<table border=\"1\" class=\"dataframe\">\n",
       "  <thead>\n",
       "    <tr style=\"text-align: right;\">\n",
       "      <th></th>\n",
       "      <th>Model</th>\n",
       "      <th>MAE cv</th>\n",
       "      <th>MAPE cv</th>\n",
       "      <th>RMSE cv</th>\n",
       "    </tr>\n",
       "  </thead>\n",
       "  <tbody>\n",
       "    <tr>\n",
       "      <th>0</th>\n",
       "      <td>Linear Regression</td>\n",
       "      <td>0.01+/-0.0</td>\n",
       "      <td>inf+/-nan</td>\n",
       "      <td>0.01+/-0.01</td>\n",
       "    </tr>\n",
       "  </tbody>\n",
       "</table>\n",
       "</div>"
      ],
      "text/plain": [
       "               Model      MAE cv    MAPE cv      RMSE cv\n",
       "0  Linear Regression  0.01+/-0.0  inf+/-nan  0.01+/-0.01"
      ]
     },
     "execution_count": 196,
     "metadata": {},
     "output_type": "execute_result"
    }
   ],
   "source": [
    "# Model Definition\n",
    "lr_smal11 = LinearRegression()\n",
    "\n",
    "smal11_lr = cross_validation(X_train_smal11, 10, 'Linear Regression', lr_smal11, verbose=True)\n",
    "smal11_lr"
   ]
  },
  {
   "cell_type": "code",
   "execution_count": 190,
   "id": "86bb0b3f",
   "metadata": {},
   "outputs": [
    {
     "data": {
      "text/html": [
       "<div>\n",
       "<style scoped>\n",
       "    .dataframe tbody tr th:only-of-type {\n",
       "        vertical-align: middle;\n",
       "    }\n",
       "\n",
       "    .dataframe tbody tr th {\n",
       "        vertical-align: top;\n",
       "    }\n",
       "\n",
       "    .dataframe thead th {\n",
       "        text-align: right;\n",
       "    }\n",
       "</style>\n",
       "<table border=\"1\" class=\"dataframe\">\n",
       "  <thead>\n",
       "    <tr style=\"text-align: right;\">\n",
       "      <th></th>\n",
       "      <th>Model Name</th>\n",
       "      <th>MAE</th>\n",
       "      <th>MAPE</th>\n",
       "      <th>RMSE</th>\n",
       "    </tr>\n",
       "  </thead>\n",
       "  <tbody>\n",
       "    <tr>\n",
       "      <th>0</th>\n",
       "      <td>Linear Regression</td>\n",
       "      <td>0.376279</td>\n",
       "      <td>inf</td>\n",
       "      <td>0.502981</td>\n",
       "    </tr>\n",
       "  </tbody>\n",
       "</table>\n",
       "</div>"
      ],
      "text/plain": [
       "          Model Name       MAE  MAPE      RMSE\n",
       "0  Linear Regression  0.376279   inf  0.502981"
      ]
     },
     "execution_count": 190,
     "metadata": {},
     "output_type": "execute_result"
    }
   ],
   "source": [
    "# Train Dataset\n",
    "X_train_smal11 = smal11[smal11.date < test_period].drop(['date', 'daily_return_pct', 'symbol'], axis=1)\n",
    "y_train_smal11 = smal11[smal11.date < test_period]['daily_return_pct']\n",
    "\n",
    "# Test Dataset\n",
    "X_test_smal11 = smal11[smal11.date >= test_period].drop(['date', 'daily_return_pct', 'symbol'], axis=1)\n",
    "y_test_smal11 = smal11[smal11.date >= test_period]['daily_return_pct']\n",
    "\n",
    "# Model training\n",
    "lr_smal11.fit(X_train_smal11, y_train_smal11)\n",
    "\n",
    "# Model Prediction\n",
    "yhat_lr_smal11 = lr_bova11.predict(X_test_smal11)\n",
    "\n",
    "# Model Performance\n",
    "lr_result_smal11 = ml_error('Linear Regression', y_test_smal11, yhat_lr_smal11)\n",
    "lr_result_smal11"
   ]
  },
  {
   "cell_type": "code",
   "execution_count": 191,
   "id": "ae8f45a2",
   "metadata": {
    "scrolled": true
   },
   "outputs": [
    {
     "data": {
      "image/png": "[encoded data removed]",
      "text/plain": [
       "<Figure size 432x288 with 1 Axes>"
      ]
     },
     "metadata": {
      "needs_background": "light"
     },
     "output_type": "display_data"
    }
   ],
   "source": [
    "yhat_lr_smal11 = pd.Series(yhat_lr_smal11)\n",
    "plt.plot(yhat_lr_smal11, label='Predicted')\n",
    "plt.plot(y_test_smal11, label='Real')\n",
    "plt.legend();"
   ]
  },
  {
   "cell_type": "markdown",
   "id": "5132cc35",
   "metadata": {},
   "source": [
    "## 7.4 Bitcoin"
   ]
  },
  {
   "cell_type": "code",
   "execution_count": 218,
   "id": "e6174d49",
   "metadata": {},
   "outputs": [],
   "source": [
    "# Train Dataset\n",
    "X_train_bitcoin = bitcoin[bitcoin.date < test_period]\n",
    "y_train_bitcoin1 = bitcoin[bitcoin.date < test_period]['daily_return_pct']\n",
    "\n",
    "# Test Dataset\n",
    "X_test_bitcoin = bitcoin[bitcoin.date >= test_period]\n",
    "y_test_bitcoin = bitcoin[bitcoin.date >= test_period]['daily_return_pct']"
   ]
  },
  {
   "cell_type": "markdown",
   "id": "efd30931",
   "metadata": {},
   "source": [
    "### Linear Regression"
   ]
  },
  {
   "cell_type": "code",
   "execution_count": 197,
   "id": "731bb18d",
   "metadata": {
    "scrolled": true
   },
   "outputs": [
    {
     "name": "stdout",
     "output_type": "stream",
     "text": [
      "Kfold Number: 10\n",
      "Kfold Number: 9\n",
      "Kfold Number: 8\n",
      "Kfold Number: 7\n",
      "Kfold Number: 6\n",
      "Kfold Number: 5\n",
      "Kfold Number: 4\n",
      "Kfold Number: 3\n",
      "Kfold Number: 2\n",
      "Kfold Number: 1\n"
     ]
    },
    {
     "name": "stderr",
     "output_type": "stream",
     "text": [
      "c:\\users\\dell\\desktop\\ciencia_de_dados\\cases_processos_seletivos\\case_dr\\case_dr\\lib\\site-packages\\numpy\\core\\_methods.py:230: RuntimeWarning: invalid value encountered in subtract\n",
      "  x = asanyarray(arr - arrmean)\n"
     ]
    },
    {
     "data": {
      "text/html": [
       "<div>\n",
       "<style scoped>\n",
       "    .dataframe tbody tr th:only-of-type {\n",
       "        vertical-align: middle;\n",
       "    }\n",
       "\n",
       "    .dataframe tbody tr th {\n",
       "        vertical-align: top;\n",
       "    }\n",
       "\n",
       "    .dataframe thead th {\n",
       "        text-align: right;\n",
       "    }\n",
       "</style>\n",
       "<table border=\"1\" class=\"dataframe\">\n",
       "  <thead>\n",
       "    <tr style=\"text-align: right;\">\n",
       "      <th></th>\n",
       "      <th>Model</th>\n",
       "      <th>MAE cv</th>\n",
       "      <th>MAPE cv</th>\n",
       "      <th>RMSE cv</th>\n",
       "    </tr>\n",
       "  </thead>\n",
       "  <tbody>\n",
       "    <tr>\n",
       "      <th>0</th>\n",
       "      <td>Linear Regression</td>\n",
       "      <td>0.04+/-0.1</td>\n",
       "      <td>inf+/-nan</td>\n",
       "      <td>0.14+/-0.4</td>\n",
       "    </tr>\n",
       "  </tbody>\n",
       "</table>\n",
       "</div>"
      ],
      "text/plain": [
       "               Model      MAE cv    MAPE cv     RMSE cv\n",
       "0  Linear Regression  0.04+/-0.1  inf+/-nan  0.14+/-0.4"
      ]
     },
     "execution_count": 197,
     "metadata": {},
     "output_type": "execute_result"
    }
   ],
   "source": [
    "# Model Definition\n",
    "lr_bit = LinearRegression()\n",
    "\n",
    "lr_cv_bit = cross_validation(X_train_bitcoin, 10, 'Linear Regression', lr_bit, verbose=True )\n",
    "lr_cv_bit"
   ]
  },
  {
   "cell_type": "code",
   "execution_count": 200,
   "id": "930a1bdb",
   "metadata": {
    "scrolled": true
   },
   "outputs": [
    {
     "data": {
      "text/html": [
       "<div>\n",
       "<style scoped>\n",
       "    .dataframe tbody tr th:only-of-type {\n",
       "        vertical-align: middle;\n",
       "    }\n",
       "\n",
       "    .dataframe tbody tr th {\n",
       "        vertical-align: top;\n",
       "    }\n",
       "\n",
       "    .dataframe thead th {\n",
       "        text-align: right;\n",
       "    }\n",
       "</style>\n",
       "<table border=\"1\" class=\"dataframe\">\n",
       "  <thead>\n",
       "    <tr style=\"text-align: right;\">\n",
       "      <th></th>\n",
       "      <th>Model Name</th>\n",
       "      <th>MAE</th>\n",
       "      <th>MAPE</th>\n",
       "      <th>RMSE</th>\n",
       "    </tr>\n",
       "  </thead>\n",
       "  <tbody>\n",
       "    <tr>\n",
       "      <th>0</th>\n",
       "      <td>Linear Regression</td>\n",
       "      <td>18.650468</td>\n",
       "      <td>643.624004</td>\n",
       "      <td>25.979035</td>\n",
       "    </tr>\n",
       "  </tbody>\n",
       "</table>\n",
       "</div>"
      ],
      "text/plain": [
       "          Model Name        MAE        MAPE       RMSE\n",
       "0  Linear Regression  18.650468  643.624004  25.979035"
      ]
     },
     "execution_count": 200,
     "metadata": {},
     "output_type": "execute_result"
    }
   ],
   "source": [
    "# Train Dataset\n",
    "X_train_bitcoin = bitcoin[bitcoin.date < test_period].drop(['date', 'daily_return_pct', 'symbol'], axis=1)\n",
    "y_train_bitcoin = bitcoin[bitcoin.date < test_period]['daily_return_pct']\n",
    "\n",
    "# Test Dataset\n",
    "X_test_bitcoin = bitcoin[bitcoin.date >= test_period].drop(['date', 'daily_return_pct', 'symbol'], axis=1)\n",
    "y_test_bitcoin = bitcoin[bitcoin.date >= test_period]['daily_return_pct']\n",
    "\n",
    "# Model training\n",
    "lr_bit.fit(X_train_bitcoin, y_train_bitcoin)\n",
    "\n",
    "# Model Prediction\n",
    "yhat_lr_bitcoin = lr_bova11.predict(X_test_bitcoin)\n",
    "\n",
    "# Model Performance\n",
    "lr_result_bitcoin = ml_error('Linear Regression', y_test_bitcoin, yhat_lr_bitcoin)\n",
    "lr_result_bitcoin"
   ]
  },
  {
   "cell_type": "code",
   "execution_count": 201,
   "id": "0875d47c",
   "metadata": {
    "scrolled": true
   },
   "outputs": [
    {
     "data": {
      "image/png": "[encoded data removed]",
      "text/plain": [
       "<Figure size 432x288 with 1 Axes>"
      ]
     },
     "metadata": {
      "needs_background": "light"
     },
     "output_type": "display_data"
    }
   ],
   "source": [
    "yhat_lr_bitcoin = pd.Series(yhat_lr_bitcoin)\n",
    "plt.plot(yhat_lr_bitcoin, label='Predicted')\n",
    "plt.plot(y_test_bitcoin, label='Real')\n",
    "plt.legend();"
   ]
  },
  {
   "cell_type": "markdown",
   "id": "e86fc3fe",
   "metadata": {},
   "source": [
    "## 7.5 Ether"
   ]
  },
  {
   "cell_type": "code",
   "execution_count": 212,
   "id": "a28b5b30",
   "metadata": {},
   "outputs": [],
   "source": [
    "# Train Dataset\n",
    "X_train_ether = ether[ether.date < test_period]\n",
    "y_train_ether = ether[ether.date < test_period]['daily_return_pct']\n",
    "\n",
    "# Test Dataset\n",
    "X_test_ether = ether[ether.date >= test_period]\n",
    "y_test_ether = ether[ether.date >= test_period]['daily_return_pct']"
   ]
  },
  {
   "cell_type": "markdown",
   "id": "d4f913c1",
   "metadata": {},
   "source": [
    "### Linear Regression"
   ]
  },
  {
   "cell_type": "code",
   "execution_count": 206,
   "id": "00b68740",
   "metadata": {
    "scrolled": true
   },
   "outputs": [
    {
     "name": "stdout",
     "output_type": "stream",
     "text": [
      "Kfold Number: 10\n",
      "Kfold Number: 9\n",
      "Kfold Number: 8\n",
      "Kfold Number: 7\n",
      "Kfold Number: 6\n",
      "Kfold Number: 5\n",
      "Kfold Number: 4\n",
      "Kfold Number: 3\n",
      "Kfold Number: 2\n",
      "Kfold Number: 1\n"
     ]
    },
    {
     "name": "stderr",
     "output_type": "stream",
     "text": [
      "c:\\users\\dell\\desktop\\ciencia_de_dados\\cases_processos_seletivos\\case_dr\\case_dr\\lib\\site-packages\\numpy\\core\\_methods.py:230: RuntimeWarning: invalid value encountered in subtract\n",
      "  x = asanyarray(arr - arrmean)\n"
     ]
    },
    {
     "data": {
      "text/html": [
       "<div>\n",
       "<style scoped>\n",
       "    .dataframe tbody tr th:only-of-type {\n",
       "        vertical-align: middle;\n",
       "    }\n",
       "\n",
       "    .dataframe tbody tr th {\n",
       "        vertical-align: top;\n",
       "    }\n",
       "\n",
       "    .dataframe thead th {\n",
       "        text-align: right;\n",
       "    }\n",
       "</style>\n",
       "<table border=\"1\" class=\"dataframe\">\n",
       "  <thead>\n",
       "    <tr style=\"text-align: right;\">\n",
       "      <th></th>\n",
       "      <th>Model</th>\n",
       "      <th>MAE cv</th>\n",
       "      <th>MAPE cv</th>\n",
       "      <th>RMSE cv</th>\n",
       "    </tr>\n",
       "  </thead>\n",
       "  <tbody>\n",
       "    <tr>\n",
       "      <th>0</th>\n",
       "      <td>Linear Regression</td>\n",
       "      <td>0.02+/-0.01</td>\n",
       "      <td>inf+/-nan</td>\n",
       "      <td>0.04+/-0.03</td>\n",
       "    </tr>\n",
       "  </tbody>\n",
       "</table>\n",
       "</div>"
      ],
      "text/plain": [
       "               Model       MAE cv    MAPE cv      RMSE cv\n",
       "0  Linear Regression  0.02+/-0.01  inf+/-nan  0.04+/-0.03"
      ]
     },
     "execution_count": 206,
     "metadata": {},
     "output_type": "execute_result"
    }
   ],
   "source": [
    "lr_ether = LinearRegression()\n",
    "\n",
    "lr_cv_ether = cross_validation(X_train_ether, 10, 'Linear Regression', lr_ether, verbose=True)\n",
    "lr_cv_ether"
   ]
  },
  {
   "cell_type": "code",
   "execution_count": 207,
   "id": "40a41ee7",
   "metadata": {},
   "outputs": [
    {
     "data": {
      "text/html": [
       "<div>\n",
       "<style scoped>\n",
       "    .dataframe tbody tr th:only-of-type {\n",
       "        vertical-align: middle;\n",
       "    }\n",
       "\n",
       "    .dataframe tbody tr th {\n",
       "        vertical-align: top;\n",
       "    }\n",
       "\n",
       "    .dataframe thead th {\n",
       "        text-align: right;\n",
       "    }\n",
       "</style>\n",
       "<table border=\"1\" class=\"dataframe\">\n",
       "  <thead>\n",
       "    <tr style=\"text-align: right;\">\n",
       "      <th></th>\n",
       "      <th>Model Name</th>\n",
       "      <th>MAE</th>\n",
       "      <th>MAPE</th>\n",
       "      <th>RMSE</th>\n",
       "    </tr>\n",
       "  </thead>\n",
       "  <tbody>\n",
       "    <tr>\n",
       "      <th>0</th>\n",
       "      <td>Linear Regression</td>\n",
       "      <td>0.120286</td>\n",
       "      <td>8.070703</td>\n",
       "      <td>0.196639</td>\n",
       "    </tr>\n",
       "  </tbody>\n",
       "</table>\n",
       "</div>"
      ],
      "text/plain": [
       "          Model Name       MAE      MAPE      RMSE\n",
       "0  Linear Regression  0.120286  8.070703  0.196639"
      ]
     },
     "execution_count": 207,
     "metadata": {},
     "output_type": "execute_result"
    }
   ],
   "source": [
    "# Train Dataset\n",
    "X_train_ether = ether[ether.date < test_period].drop(['date', 'daily_return_pct', 'symbol'], axis=1)\n",
    "y_train_ether = ether[ether.date < test_period]['daily_return_pct']\n",
    "\n",
    "# Test Dataset\n",
    "X_test_ether = ether[ether.date >= test_period].drop(['date', 'daily_return_pct', 'symbol'], axis=1)\n",
    "y_test_ether = ether[ether.date >= test_period]['daily_return_pct']\n",
    "\n",
    "# Model training\n",
    "lr_ether.fit(X_train_ether, y_train_ether)\n",
    "\n",
    "# Model Prediction\n",
    "yhat_lr_ether = lr_ether.predict(X_test_ether)\n",
    "\n",
    "# Model Performance\n",
    "lr_result_ether = ml_error('Linear Regression', y_test_ether, yhat_lr_ether)\n",
    "lr_result_ether"
   ]
  },
  {
   "cell_type": "code",
   "execution_count": 229,
   "id": "686bf4c5",
   "metadata": {},
   "outputs": [
    {
     "data": {
      "image/png": "[encoded data removed]",
      "text/plain": [
       "<Figure size 432x288 with 1 Axes>"
      ]
     },
     "metadata": {
      "needs_background": "light"
     },
     "output_type": "display_data"
    }
   ],
   "source": [
    "yhat_lr_ether = pd.Series(yhat_lr_ether)\n",
    "plt.plot(yhat_lr_ether, label='Predicted')\n",
    "plt.plot(y_test_ether.reset_index().drop('index', axis=1), label='Real')\n",
    "plt.legend();"
   ]
  },
  {
   "cell_type": "markdown",
   "id": "710dbb78",
   "metadata": {},
   "source": [
    "# 8.0 Hyperparameter Fine-Tunning"
   ]
  },
  {
   "cell_type": "code",
   "execution_count": null,
   "id": "56a24638",
   "metadata": {},
   "outputs": [],
   "source": []
  },
  {
   "cell_type": "markdown",
   "id": "db9ddc3e",
   "metadata": {},
   "source": [
    "# 9.0 Business Report"
   ]
  },
  {
   "cell_type": "code",
   "execution_count": null,
   "id": "ee3b4179",
   "metadata": {},
   "outputs": [],
   "source": []
  },
  {
   "cell_type": "markdown",
   "id": "29bd6a40",
   "metadata": {},
   "source": [
    "# 10.0 Deploy"
   ]
  },
  {
   "cell_type": "code",
   "execution_count": null,
   "id": "9945a251",
   "metadata": {},
   "outputs": [],
   "source": []
  }
 ],
 "metadata": {
  "kernelspec": {
   "display_name": "Python 3 (ipykernel)",
   "language": "python",
   "name": "python3"
  },
  "language_info": {
   "codemirror_mode": {
    "name": "ipython",
    "version": 3
   },
   "file_extension": ".py",
   "mimetype": "text/x-python",
   "name": "python",
   "nbconvert_exporter": "python",
   "pygments_lexer": "ipython3",
   "version": "3.7.6"
  }
 },
 "nbformat": 4,
 "nbformat_minor": 5
}
