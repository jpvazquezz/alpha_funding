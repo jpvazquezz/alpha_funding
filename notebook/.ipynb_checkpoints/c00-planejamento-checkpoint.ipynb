{
 "cells": [
  {
   "cell_type": "markdown",
   "id": "93a77e97",
   "metadata": {},
   "source": [
    "# Case DR -  Alpha Funding"
   ]
  },
  {
   "cell_type": "markdown",
   "id": "a7b3689c",
   "metadata": {},
   "source": [
    "## Inputs (Entradas)"
   ]
  },
  {
   "cell_type": "markdown",
   "id": "39e17776",
   "metadata": {},
   "source": [
    "* **Problema de Negócio**: a análise exploratória de dados, a validação de hipóteses e um plano de ação para melhorar seu processo de oferta de investimentos aos clientes.\n",
    "* **Conjunto de Dados**: arquivo csv com 8 planilhas (indicadores econômicos)em que 3 possuem variáveis distintas e 5 planilhas possuem as mesmas variáveis\n",
    "    * Taxa Selic, Indice DI, Indice IPCA, Dólar, Bova11, Smal11, Bitcoin, Ethereum"
   ]
  },
  {
   "cell_type": "markdown",
   "id": "0dea1a53",
   "metadata": {},
   "source": [
    "## Outputs (Saídas)"
   ]
  },
  {
   "cell_type": "markdown",
   "id": "5954baf0",
   "metadata": {},
   "source": [
    "* Análise Exploratória de Dados\n",
    "* Validação de hipóteses por meio de Modelos Estatísticos\n",
    "* Modelo de predição de rentabilidade (time-series)\n",
    "* Plano de ação para melhora da rentabilidade"
   ]
  },
  {
   "cell_type": "markdown",
   "id": "034fba69",
   "metadata": {},
   "source": [
    "## Tasks (Tarefas)"
   ]
  },
  {
   "cell_type": "markdown",
   "id": "dc346333",
   "metadata": {},
   "source": [
    "* **Realizar uma EDA e elaborar hipóteses:**\n",
    "    * MindMap de hipóteses (só com as variáveis ou não)\n",
    "    * Análise Univariada, Bivariada e Multivariada\n",
    "* **Validar as hpóteses com bases em modelos estatísticos:**\n",
    "    * Correlação?\n",
    "    * Quais modelos?\n",
    "* **Propor ao menos 1 algoritmo de Machine Learning capaz de projetar rentabilidade dos indicadores**\n",
    "    * Regressão Linear, SVM, XGBoost, RandomForest Regressor\n",
    "* **Propor um portfólio de investimento (Mix de indicadores) ideal conforme projeções do algoritmo de ML**\n",
    "    * SIMULAÇÃO DE MONTE CARLO\n",
    "    * FRONTEIRA EFICIENTE\n",
    "* **Apresentar resultados aplicados do algoritmo desenvolvido e criérios de avalição para estabelecer se está pronto para uso ou se necessita aprimoramento**:\n",
    "    * Adotar uma ou mais métrica(s) de performance\n",
    "    * MAE, MAPE,RSME\n",
    "* **Definir plano de ação para implantação do algoritmo pela Alpha Funding**:\n",
    "    * Traduzir o resultado técnico em alavancas de negócio (quais métricas devem compor o portfólio de investimentos, qual a expectativa de rentabilidade em 1 mês ou 1 trimestre, quais setores da economia monitorar com mais atenção com base no indicador)\n",
    "* **Criar um app para fazer o deploy do Modelo????**"
   ]
  },
  {
   "cell_type": "markdown",
   "id": "29c0394f",
   "metadata": {},
   "source": [
    "## Atividades"
   ]
  },
  {
   "cell_type": "markdown",
   "id": "76080a13",
   "metadata": {},
   "source": [
    "* **Manipulação dos dados**:\n",
    "    1. Concaternar todos os indicadores nas linhas de acordo com a mesma data\n",
    "    2. Adicionar IPCA, DI e SELIC como colunas de acordo com a data\n",
    "    3. Intervalo de tempo do dataset: a depender da feature com o menor intervalo para priorizar a presença de todas as features.\n",
    "    \n",
    "* **Análise Exploratória de Dados**:\n",
    "    1. Plotar gráfico de vela (min, max, abertura e fechamento) >> [função aqui](https://www.wrighters.io/financial-market-data-analysis-with-pandas/)\n",
    "    2. Criar o plot do retorno médio diário ao longo dos anos para identificar se há tendência de  comportamento dos ativos ao longo do ano\n",
    "    3. Criar plot do retorno médio por mês para identficar se há tendências de comportamento ao longo dos meses dos anos.\n",
    "    4. Usar MÉDIA e MEDIANA\n",
    "    \n",
    "* **Modelo de Machine Learning**:\n",
    "    1. Variável Alvo: Fechamento do dia\n",
    "    2. Rentabilidade: calcular a variação desses ativos em terminado período de tempo\n",
    "    3. Período de tempo da predição (a depender do dataset): 3 meses, 6 meses, 1 ano\n",
    "    4. Delimitar um intervalo de confiança\n",
    "    5. Criar cenários de clientes hipotéticos (CNPJ, CPF, pequeno investidor, etc.)\n",
    "    6. Métricas de Avaliação: MAE, Porcentagem das vezes em que se acertou a direção da variação de preço e a Porcentagem das vezes em que o valor real caiu dentro do intervalo de confiança de 80%"
   ]
  },
  {
   "cell_type": "markdown",
   "id": "deac0cef",
   "metadata": {},
   "source": [
    "## Research Desk"
   ]
  },
  {
   "cell_type": "markdown",
   "id": "880c18de",
   "metadata": {},
   "source": [
    "* **Estudar os indicadores**:\n",
    "    * Taxa Selic, **Indice DI**, Indice IPCA, Dólar, **Bova11**, **Smal11**, Bitcoin, **Ethereum**\n",
    "* **Como concatenar todos as planilhas e as variáveis?**\n",
    "    * Adicionar os Índices Di, Selic e IPCA como novas colunas?\n",
    "* **Quais modelos estatísticos são esses para validação de hipóteses?**"
   ]
  },
  {
   "cell_type": "markdown",
   "id": "b5edc2aa",
   "metadata": {},
   "source": [
    "**SÉRIES TEMPORÁRAIS**\n",
    "1. Estacionária\n",
    "    * Média Móvel Constante\n",
    "    * Variância constante\n",
    "    * Auto covariância independente\n",
    "2. Não Estacionária\n",
    "    * Tendência: tende a subir ou descer\n",
    "    * Sazonalidade: variações na Série Temporal que se repete em determinado período de tempo\n",
    "    \n",
    "    \n",
    "    * Esses dois fatores dificultam bastante a análise, fazendo com que muitas pessoas transformem a série temporal não estacionária em estacionária. Como se faz essa transformação:\n",
    "        * Remover a tendência e sazonalidade: substrair a média móvel dos preços do ativos (BVSP_NOTREND\n",
    "    * Nem toda série é óbvia\n",
    "    * **USA-SE O RETORNO PORQUE ELE TEM ASPECTOS MAIS CONSTANTE**, ao contrário do preço do ativo em si\n",
    "    "
   ]
  }
 ],
 "metadata": {
  "kernelspec": {
   "display_name": "Python 3 (ipykernel)",
   "language": "python",
   "name": "python3"
  },
  "language_info": {
   "codemirror_mode": {
    "name": "ipython",
    "version": 3
   },
   "file_extension": ".py",
   "mimetype": "text/x-python",
   "name": "python",
   "nbconvert_exporter": "python",
   "pygments_lexer": "ipython3",
   "version": "3.7.6"
  }
 },
 "nbformat": 4,
 "nbformat_minor": 5
}
