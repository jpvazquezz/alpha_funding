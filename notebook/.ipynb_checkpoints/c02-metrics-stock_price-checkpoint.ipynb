{
 "cells": [
  {
   "cell_type": "markdown",
   "id": "2366f6b0",
   "metadata": {},
   "source": [
    "# 0.0 Imports"
   ]
  },
  {
   "cell_type": "code",
   "execution_count": 1,
   "id": "b84d2b14",
   "metadata": {},
   "outputs": [],
   "source": [
    "import pandas as pd\n",
    "import numpy as np\n",
    "import seaborn as sns\n",
    "import matplotlib.pyplot as plt\n",
    "import datetime\n",
    "\n",
    "from sklearn.linear_model import LinearRegression\n",
    "\n",
    "from sklearn.metrics import mean_absolute_error, mean_squared_error"
   ]
  },
  {
   "cell_type": "markdown",
   "id": "13b40d96",
   "metadata": {},
   "source": [
    "## 0.1 Helper Functions"
   ]
  },
  {
   "cell_type": "code",
   "execution_count": 2,
   "id": "11e4af36",
   "metadata": {},
   "outputs": [],
   "source": [
    "def mean_absolute_percentage_error(y,yhat):\n",
    "    return np.mean(np.abs((y-yhat) / y))\n",
    "\n",
    "def ml_error(model_name, y, yhat):\n",
    "    mae = mean_absolute_error(y,yhat)\n",
    "    mape = mean_absolute_percentage_error(y,yhat)\n",
    "    rmse = np.sqrt(mean_squared_error(y,yhat)) \n",
    "    \n",
    "    return pd.DataFrame({'Model Name': model_name,\n",
    "                         'MAE':mae,\n",
    "                        'MAPE':mape,\n",
    "                        'RMSE':rmse}, index=[0])\n",
    "def cross_validation(x_training, kfold, model_name, model, verbose=True):\n",
    "    mae_list = []\n",
    "    mape_list = []\n",
    "    rmse_list = []\n",
    "    for k in reversed(range(1,kfold+1)):\n",
    "        if verbose:\n",
    "            print('\\nKfold Number: {}'.format(k))\n",
    "        # start and end date for validation\n",
    "        validation_start_date = x_training['Data'].max() - datetime.timedelta(days=k*90)\n",
    "        validation_end_date = x_training['Data'].max() - datetime.timedelta(days=(k-1)*90)\n",
    "\n",
    "        # filtering dataset\n",
    "        training = x_training[x_training['Data']< validation_start_date]\n",
    "        validation = x_training[(x_training['Data'] >= validation_start_date) & (x_training['Data'] <= validation_end_date)]\n",
    "\n",
    "        # training and validation dataset\n",
    "        xtraining = training.drop(['Fechamento','Data', 'Ativo'], axis=1)\n",
    "        ytraining = training['Fechamento']\n",
    "\n",
    "        xvalidation = validation.drop(['Fechamento','Data','Ativo'], axis=1)\n",
    "        yvalidation = validation['Fechamento']\n",
    "\n",
    "        # model\n",
    "        m = model.fit(xtraining, ytraining)\n",
    "\n",
    "        # prediction\n",
    "        yhat = m.predict(xvalidation)\n",
    "\n",
    "        # performance\n",
    "        m_result = ml_error(model_name, yvalidation, yhat) #np.expm1(yvalidation), np.expm1(yhat))\n",
    "\n",
    "        # store perfomance of each kfold iteration\n",
    "        mae_list.append(m_result['MAE'])\n",
    "        mape_list.append(m_result['MAPE'])\n",
    "        rmse_list.append(m_result['RMSE'])\n",
    "\n",
    "    return pd.DataFrame({'Model':model_name,\n",
    "        'MAE cv': np.round(np.mean(mae_list),2).astype(str) + '+/-' + np.round(np.std(mae_list),2).astype(str),\n",
    "        'MAPE cv': np.round(np.mean(mape_list),2).astype(str) + '+/-' + np.round(np.std(mape_list),2).astype(str),\n",
    "        'RMSE cv': np.round(np.mean(rmse_list),2).astype(str) + '+/-' + np.round(np.std(rmse_list),2).astype(str)}, index=[0])"
   ]
  },
  {
   "cell_type": "markdown",
   "id": "2d8183a4",
   "metadata": {},
   "source": [
    "## 0.2 Load Data"
   ]
  },
  {
   "cell_type": "code",
   "execution_count": 3,
   "id": "70dd8308",
   "metadata": {},
   "outputs": [],
   "source": [
    "selic = pd.read_csv('..\\data\\selic.csv')\n",
    "selic.drop('Unnamed: 0', axis=1, inplace=True)\n",
    "indice_di = pd.read_csv('..\\data\\indice_di.csv')\n",
    "indice_di.drop('Unnamed: 0', axis=1, inplace=True)\n",
    "ipca = pd.read_csv('..\\data\\ipca.csv')\n",
    "ipca.drop('Unnamed: 0', axis=1, inplace=True)\n",
    "dolar = pd.read_csv('..\\data\\dolar.csv')\n",
    "dolar.drop('Unnamed: 0', axis=1, inplace=True)\n",
    "bova11 = pd.read_csv('..\\data\\\\bova11.csv')\n",
    "bova11.drop('Unnamed: 0', axis=1, inplace=True)\n",
    "smal11 = pd.read_csv('..\\data\\smal11.csv')\n",
    "smal11.drop('Unnamed: 0', axis=1, inplace=True)\n",
    "bitcoin = pd.read_csv('..\\data\\\\bitcoin.csv')\n",
    "bitcoin.drop('Unnamed: 0', axis=1, inplace=True)\n",
    "ether = pd.read_csv('..\\data\\ether.csv')\n",
    "ether.drop('Unnamed: 0', axis=1, inplace=True)\n"
   ]
  },
  {
   "cell_type": "markdown",
   "id": "3cf5c4b4",
   "metadata": {},
   "source": [
    "# 1.0 Data Description"
   ]
  },
  {
   "cell_type": "markdown",
   "id": "68be8f24",
   "metadata": {
    "heading_collapsed": true
   },
   "source": [
    "## 1.1 Data Dimensions"
   ]
  },
  {
   "cell_type": "code",
   "execution_count": 4,
   "id": "50c80450",
   "metadata": {
    "hidden": true,
    "scrolled": false
   },
   "outputs": [
    {
     "name": "stdout",
     "output_type": "stream",
     "text": [
      " Selic Dataframe has 246 rows and 7 columns\n",
      " IPCA Dataframe has 486 rows and 2 columns\n",
      " Indice DI Dataframe has 420 rows and 2 columns\n",
      " Dolar Dataframe has 4298 rows and 9 columns\n",
      " BOVA11 Dataframe has 2846 rows and 9 columns\n",
      " SMAL11 Dataframe has 2844 rows and 9 columns\n",
      " Bitcoin Dataframe has 3922 rows and 8 columns\n",
      " Ether Dataframe has 2211 rows and 8 columns\n"
     ]
    }
   ],
   "source": [
    "print(' Selic Dataframe has {} rows and {} columns'.format(selic.shape[0], selic.shape[1]))\n",
    "print(' IPCA Dataframe has {} rows and {} columns'.format(ipca.shape[0], ipca.shape[1]))\n",
    "print(' Indice DI Dataframe has {} rows and {} columns'.format(indice_di.shape[0], indice_di.shape[1]))\n",
    "print(' Dolar Dataframe has {} rows and {} columns'.format(dolar.shape[0], dolar.shape[1]))\n",
    "print(' BOVA11 Dataframe has {} rows and {} columns'.format(bova11.shape[0], bova11.shape[1]))\n",
    "print(' SMAL11 Dataframe has {} rows and {} columns'.format(smal11.shape[0], smal11.shape[1]))\n",
    "print(' Bitcoin Dataframe has {} rows and {} columns'.format(bitcoin.shape[0], bitcoin.shape[1]))\n",
    "print(' Ether Dataframe has {} rows and {} columns'.format(ether.shape[0], ether.shape[1]))\n"
   ]
  },
  {
   "cell_type": "markdown",
   "id": "b4c34d76",
   "metadata": {
    "heading_collapsed": true
   },
   "source": [
    "## 1.2 Data Types"
   ]
  },
  {
   "cell_type": "markdown",
   "id": "92dba6e6",
   "metadata": {
    "hidden": true
   },
   "source": [
    "Economic Indicators"
   ]
  },
  {
   "cell_type": "code",
   "execution_count": 5,
   "id": "f2187588",
   "metadata": {
    "hidden": true,
    "scrolled": true
   },
   "outputs": [
    {
     "name": "stdout",
     "output_type": "stream",
     "text": [
      "Taxa Selic\n",
      "reunião                 object\n",
      "data                    object\n",
      "período de vigência     object\n",
      "meta selic             float64\n",
      "tban                   float64\n",
      "retorno_mesal          float64\n",
      "taxa_selic             float64\n",
      "dtype: object\n",
      "\n",
      "\n",
      "IPCA\n",
      "Data     object\n",
      "%       float64\n",
      "dtype: object\n",
      "\n",
      "\n",
      "Indice DI\n",
      "Data     object\n",
      "%       float64\n",
      "dtype: object\n",
      "\n",
      "\n"
     ]
    }
   ],
   "source": [
    "for name,df in {'Taxa Selic': selic, 'IPCA': ipca, 'Indice DI':indice_di}.items():\n",
    "    print(name)\n",
    "    print(df.dtypes)\n",
    "    print('\\n')"
   ]
  },
  {
   "cell_type": "markdown",
   "id": "445798f0",
   "metadata": {
    "hidden": true
   },
   "source": [
    "Stock Assets"
   ]
  },
  {
   "cell_type": "code",
   "execution_count": 6,
   "id": "c8c6596a",
   "metadata": {
    "hidden": true,
    "scrolled": false
   },
   "outputs": [
    {
     "name": "stdout",
     "output_type": "stream",
     "text": [
      "Dolar\n",
      "Data                   object\n",
      "Fechamento            float64\n",
      "Variação              float64\n",
      "Retorno Mensal (%)    float64\n",
      "Abertura              float64\n",
      "Máxima                float64\n",
      "Mínima                float64\n",
      "Volume                float64\n",
      "Ativo                  object\n",
      "dtype: object\n",
      "\n",
      "\n",
      "Bova11\n",
      "Data                   object\n",
      "Fechamento            float64\n",
      "Variação              float64\n",
      "Retorno Mensal (%)    float64\n",
      "Abertura              float64\n",
      "Máxima                float64\n",
      "Mínima                float64\n",
      "Volume                  int64\n",
      "Ativo                  object\n",
      "dtype: object\n",
      "\n",
      "\n",
      "Smal11\n",
      "Data                   object\n",
      "Fechamento            float64\n",
      "Variação              float64\n",
      "Retorno Mensal (%)    float64\n",
      "Abertura              float64\n",
      "Máxima                float64\n",
      "Mínima                float64\n",
      "Volume                  int64\n",
      "Ativo                  object\n",
      "dtype: object\n",
      "\n",
      "\n",
      "Bitcoin\n",
      "Data                   object\n",
      "Fechamento            float64\n",
      "Variação              float64\n",
      "Retorno Mensal (%)    float64\n",
      "Abertura              float64\n",
      "Máxima                float64\n",
      "Mínima                float64\n",
      "Volume                  int64\n",
      "dtype: object\n",
      "\n",
      "\n",
      "Ether\n",
      "Data                   object\n",
      "Fechamento            float64\n",
      "Variação              float64\n",
      "Retorno Mensal (%)    float64\n",
      "Abertura              float64\n",
      "Máxima                float64\n",
      "Mínima                float64\n",
      "Volume                  int64\n",
      "dtype: object\n",
      "\n",
      "\n"
     ]
    }
   ],
   "source": [
    "for name,df in {'Dolar': dolar, 'Bova11': bova11, 'Smal11':smal11, 'Bitcoin':bitcoin, 'Ether':ether}.items():\n",
    "    print(name)\n",
    "    print(df.dtypes)\n",
    "    print('\\n')"
   ]
  },
  {
   "cell_type": "markdown",
   "id": "8df3b668",
   "metadata": {
    "hidden": true
   },
   "source": [
    "### 1.2.1 Adjusting Data Types"
   ]
  },
  {
   "cell_type": "code",
   "execution_count": 7,
   "id": "d3008a75",
   "metadata": {
    "hidden": true
   },
   "outputs": [],
   "source": [
    "selic['data'] = pd.to_datetime(selic['data'])\n",
    "indice_di['Data'] = pd.to_datetime(indice_di['Data'])\n",
    "ipca['Data'] = pd.to_datetime(ipca['Data'])\n",
    "dolar['Data'] = pd.to_datetime(dolar['Data'])\n",
    "bova11['Data'] = pd.to_datetime(bova11['Data'])\n",
    "smal11['Data'] = pd.to_datetime(smal11['Data'])\n",
    "bitcoin['Data'] = pd.to_datetime(bitcoin['Data'])\n",
    "ether['Data'] = pd.to_datetime(ether['Data'])"
   ]
  },
  {
   "cell_type": "markdown",
   "id": "5ada608a",
   "metadata": {
    "heading_collapsed": true
   },
   "source": [
    "## 1.3 Null Values"
   ]
  },
  {
   "cell_type": "code",
   "execution_count": 8,
   "id": "257daa76",
   "metadata": {
    "hidden": true
   },
   "outputs": [
    {
     "name": "stdout",
     "output_type": "stream",
     "text": [
      "Taxa Selic\n",
      "data      8\n",
      "tban    217\n",
      "dtype: int64\n",
      "\n",
      "\n",
      "IPCA\n",
      "Series([], dtype: int64)\n",
      "\n",
      "\n",
      "Indice DI\n",
      "Series([], dtype: int64)\n",
      "\n",
      "\n"
     ]
    }
   ],
   "source": [
    "for name,df in {'Taxa Selic': selic, 'IPCA': ipca, 'Indice DI':indice_di}.items():\n",
    "    print(name)\n",
    "    print(df.isna().sum()[df.isna().sum()>0])\n",
    "    print('\\n')"
   ]
  },
  {
   "cell_type": "code",
   "execution_count": 9,
   "id": "8515f182",
   "metadata": {
    "hidden": true,
    "scrolled": false
   },
   "outputs": [
    {
     "name": "stdout",
     "output_type": "stream",
     "text": [
      "Dolar\n",
      "Volume    8\n",
      "dtype: int64\n",
      "\n",
      "\n",
      "Bova11\n",
      "Series([], dtype: int64)\n",
      "\n",
      "\n",
      "Smal11\n",
      "Series([], dtype: int64)\n",
      "\n",
      "\n",
      "Bitcoin\n",
      "Series([], dtype: int64)\n",
      "\n",
      "\n",
      "Ether\n",
      "Series([], dtype: int64)\n",
      "\n",
      "\n"
     ]
    }
   ],
   "source": [
    "for name,df in {'Dolar': dolar, 'Bova11': bova11, 'Smal11':smal11, 'Bitcoin':bitcoin, 'Ether':ether}.items():\n",
    "    print(name)\n",
    "    print(df.isna().sum()[df.isna().sum()>0])\n",
    "    print('\\n')"
   ]
  },
  {
   "cell_type": "markdown",
   "id": "9a9e6fa0",
   "metadata": {},
   "source": [
    "## 1.4 Descriptive Statistics"
   ]
  },
  {
   "cell_type": "code",
   "execution_count": 66,
   "id": "0028e20e",
   "metadata": {
    "cell_style": "center",
    "hide_input": false,
    "scrolled": true
   },
   "outputs": [
    {
     "data": {
      "text/html": [
       "<div>\n",
       "<style scoped>\n",
       "    .dataframe tbody tr th:only-of-type {\n",
       "        vertical-align: middle;\n",
       "    }\n",
       "\n",
       "    .dataframe tbody tr th {\n",
       "        vertical-align: top;\n",
       "    }\n",
       "\n",
       "    .dataframe thead th {\n",
       "        text-align: right;\n",
       "    }\n",
       "</style>\n",
       "<table border=\"1\" class=\"dataframe\">\n",
       "  <thead>\n",
       "    <tr style=\"text-align: right;\">\n",
       "      <th></th>\n",
       "      <th>features</th>\n",
       "      <th>mean</th>\n",
       "      <th>median</th>\n",
       "      <th>min</th>\n",
       "      <th>max</th>\n",
       "      <th>range</th>\n",
       "      <th>std</th>\n",
       "      <th>skew</th>\n",
       "      <th>kurtosis</th>\n",
       "    </tr>\n",
       "  </thead>\n",
       "  <tbody>\n",
       "    <tr>\n",
       "      <th>0</th>\n",
       "      <td>Fechamento</td>\n",
       "      <td>3.086279</td>\n",
       "      <td>3.143650</td>\n",
       "      <td>1.5385</td>\n",
       "      <td>5.88790</td>\n",
       "      <td>4.34940</td>\n",
       "      <td>1.160946</td>\n",
       "      <td>0.566453</td>\n",
       "      <td>-0.597617</td>\n",
       "    </tr>\n",
       "    <tr>\n",
       "      <th>1</th>\n",
       "      <td>Variação</td>\n",
       "      <td>0.000746</td>\n",
       "      <td>0.000000</td>\n",
       "      <td>-0.2500</td>\n",
       "      <td>0.34000</td>\n",
       "      <td>0.59000</td>\n",
       "      <td>0.030969</td>\n",
       "      <td>0.147794</td>\n",
       "      <td>11.897192</td>\n",
       "    </tr>\n",
       "    <tr>\n",
       "      <th>2</th>\n",
       "      <td>Retorno Mensal (%)</td>\n",
       "      <td>0.000293</td>\n",
       "      <td>0.000000</td>\n",
       "      <td>-0.0574</td>\n",
       "      <td>0.07420</td>\n",
       "      <td>0.13160</td>\n",
       "      <td>0.008335</td>\n",
       "      <td>0.271933</td>\n",
       "      <td>6.025091</td>\n",
       "    </tr>\n",
       "    <tr>\n",
       "      <th>3</th>\n",
       "      <td>Abertura</td>\n",
       "      <td>3.085401</td>\n",
       "      <td>3.144050</td>\n",
       "      <td>1.5385</td>\n",
       "      <td>5.88780</td>\n",
       "      <td>4.34930</td>\n",
       "      <td>1.160497</td>\n",
       "      <td>0.566562</td>\n",
       "      <td>-0.597337</td>\n",
       "    </tr>\n",
       "    <tr>\n",
       "      <th>4</th>\n",
       "      <td>Máxima</td>\n",
       "      <td>3.102835</td>\n",
       "      <td>3.155500</td>\n",
       "      <td>1.5495</td>\n",
       "      <td>5.97237</td>\n",
       "      <td>4.42287</td>\n",
       "      <td>1.169121</td>\n",
       "      <td>0.568278</td>\n",
       "      <td>-0.594701</td>\n",
       "    </tr>\n",
       "    <tr>\n",
       "      <th>5</th>\n",
       "      <td>Mínima</td>\n",
       "      <td>3.069272</td>\n",
       "      <td>3.132875</td>\n",
       "      <td>1.5290</td>\n",
       "      <td>5.85667</td>\n",
       "      <td>4.32767</td>\n",
       "      <td>1.152562</td>\n",
       "      <td>0.562592</td>\n",
       "      <td>-0.604478</td>\n",
       "    </tr>\n",
       "    <tr>\n",
       "      <th>6</th>\n",
       "      <td>Volume</td>\n",
       "      <td>2968.216783</td>\n",
       "      <td>170.000000</td>\n",
       "      <td>0.0000</td>\n",
       "      <td>34144.00000</td>\n",
       "      <td>34144.00000</td>\n",
       "      <td>6012.881741</td>\n",
       "      <td>2.289402</td>\n",
       "      <td>4.519794</td>\n",
       "    </tr>\n",
       "  </tbody>\n",
       "</table>\n",
       "</div>"
      ],
      "text/plain": [
       "             features         mean      median     min          max  \\\n",
       "0          Fechamento     3.086279    3.143650  1.5385      5.88790   \n",
       "1            Variação     0.000746    0.000000 -0.2500      0.34000   \n",
       "2  Retorno Mensal (%)     0.000293    0.000000 -0.0574      0.07420   \n",
       "3            Abertura     3.085401    3.144050  1.5385      5.88780   \n",
       "4              Máxima     3.102835    3.155500  1.5495      5.97237   \n",
       "5              Mínima     3.069272    3.132875  1.5290      5.85667   \n",
       "6              Volume  2968.216783  170.000000  0.0000  34144.00000   \n",
       "\n",
       "         range          std      skew   kurtosis  \n",
       "0      4.34940     1.160946  0.566453  -0.597617  \n",
       "1      0.59000     0.030969  0.147794  11.897192  \n",
       "2      0.13160     0.008335  0.271933   6.025091  \n",
       "3      4.34930     1.160497  0.566562  -0.597337  \n",
       "4      4.42287     1.169121  0.568278  -0.594701  \n",
       "5      4.32767     1.152562  0.562592  -0.604478  \n",
       "6  34144.00000  6012.881741  2.289402   4.519794  "
      ]
     },
     "execution_count": 66,
     "metadata": {},
     "output_type": "execute_result"
    }
   ],
   "source": [
    "descriptive_statistics(dolar.drop(['Data','Ativo'], axis=1))"
   ]
  },
  {
   "cell_type": "code",
   "execution_count": 67,
   "id": "07485160",
   "metadata": {
    "scrolled": true
   },
   "outputs": [
    {
     "data": {
      "text/html": [
       "<div>\n",
       "<style scoped>\n",
       "    .dataframe tbody tr th:only-of-type {\n",
       "        vertical-align: middle;\n",
       "    }\n",
       "\n",
       "    .dataframe tbody tr th {\n",
       "        vertical-align: top;\n",
       "    }\n",
       "\n",
       "    .dataframe thead th {\n",
       "        text-align: right;\n",
       "    }\n",
       "</style>\n",
       "<table border=\"1\" class=\"dataframe\">\n",
       "  <thead>\n",
       "    <tr style=\"text-align: right;\">\n",
       "      <th></th>\n",
       "      <th>features</th>\n",
       "      <th>mean</th>\n",
       "      <th>median</th>\n",
       "      <th>min</th>\n",
       "      <th>max</th>\n",
       "      <th>range</th>\n",
       "      <th>std</th>\n",
       "      <th>skew</th>\n",
       "      <th>kurtosis</th>\n",
       "    </tr>\n",
       "  </thead>\n",
       "  <tbody>\n",
       "    <tr>\n",
       "      <th>0</th>\n",
       "      <td>Fechamento</td>\n",
       "      <td>6.848880e+01</td>\n",
       "      <td>60.750</td>\n",
       "      <td>36.4500</td>\n",
       "      <td>1.256700e+02</td>\n",
       "      <td>8.922000e+01</td>\n",
       "      <td>2.110802e+01</td>\n",
       "      <td>0.904717</td>\n",
       "      <td>-0.277305</td>\n",
       "    </tr>\n",
       "    <tr>\n",
       "      <th>1</th>\n",
       "      <td>Variação</td>\n",
       "      <td>2.193956e-02</td>\n",
       "      <td>0.000</td>\n",
       "      <td>-11.9600</td>\n",
       "      <td>9.390000e+00</td>\n",
       "      <td>2.135000e+01</td>\n",
       "      <td>1.093672e+00</td>\n",
       "      <td>-1.357796</td>\n",
       "      <td>18.574658</td>\n",
       "    </tr>\n",
       "    <tr>\n",
       "      <th>2</th>\n",
       "      <td>Retorno Mensal (%)</td>\n",
       "      <td>3.809909e-04</td>\n",
       "      <td>0.000</td>\n",
       "      <td>-0.1457</td>\n",
       "      <td>1.340000e-01</td>\n",
       "      <td>2.797000e-01</td>\n",
       "      <td>1.560215e-02</td>\n",
       "      <td>-0.496184</td>\n",
       "      <td>10.694951</td>\n",
       "    </tr>\n",
       "    <tr>\n",
       "      <th>3</th>\n",
       "      <td>Abertura</td>\n",
       "      <td>6.852664e+01</td>\n",
       "      <td>60.800</td>\n",
       "      <td>36.3200</td>\n",
       "      <td>1.255700e+02</td>\n",
       "      <td>8.925000e+01</td>\n",
       "      <td>2.110554e+01</td>\n",
       "      <td>0.902193</td>\n",
       "      <td>-0.283919</td>\n",
       "    </tr>\n",
       "    <tr>\n",
       "      <th>4</th>\n",
       "      <td>Máxima</td>\n",
       "      <td>6.911680e+01</td>\n",
       "      <td>61.170</td>\n",
       "      <td>36.6100</td>\n",
       "      <td>1.262200e+02</td>\n",
       "      <td>8.961000e+01</td>\n",
       "      <td>2.122290e+01</td>\n",
       "      <td>0.901244</td>\n",
       "      <td>-0.292480</td>\n",
       "    </tr>\n",
       "    <tr>\n",
       "      <th>5</th>\n",
       "      <td>Mínima</td>\n",
       "      <td>6.786566e+01</td>\n",
       "      <td>60.315</td>\n",
       "      <td>36.0100</td>\n",
       "      <td>1.247100e+02</td>\n",
       "      <td>8.870000e+01</td>\n",
       "      <td>2.096117e+01</td>\n",
       "      <td>0.907849</td>\n",
       "      <td>-0.265707</td>\n",
       "    </tr>\n",
       "    <tr>\n",
       "      <th>6</th>\n",
       "      <td>Volume</td>\n",
       "      <td>3.310217e+06</td>\n",
       "      <td>2274495.000</td>\n",
       "      <td>0.0000</td>\n",
       "      <td>4.589951e+07</td>\n",
       "      <td>4.589951e+07</td>\n",
       "      <td>3.628650e+06</td>\n",
       "      <td>3.460335</td>\n",
       "      <td>20.616308</td>\n",
       "    </tr>\n",
       "  </tbody>\n",
       "</table>\n",
       "</div>"
      ],
      "text/plain": [
       "             features          mean       median      min           max  \\\n",
       "0          Fechamento  6.848880e+01       60.750  36.4500  1.256700e+02   \n",
       "1            Variação  2.193956e-02        0.000 -11.9600  9.390000e+00   \n",
       "2  Retorno Mensal (%)  3.809909e-04        0.000  -0.1457  1.340000e-01   \n",
       "3            Abertura  6.852664e+01       60.800  36.3200  1.255700e+02   \n",
       "4              Máxima  6.911680e+01       61.170  36.6100  1.262200e+02   \n",
       "5              Mínima  6.786566e+01       60.315  36.0100  1.247100e+02   \n",
       "6              Volume  3.310217e+06  2274495.000   0.0000  4.589951e+07   \n",
       "\n",
       "          range           std      skew   kurtosis  \n",
       "0  8.922000e+01  2.110802e+01  0.904717  -0.277305  \n",
       "1  2.135000e+01  1.093672e+00 -1.357796  18.574658  \n",
       "2  2.797000e-01  1.560215e-02 -0.496184  10.694951  \n",
       "3  8.925000e+01  2.110554e+01  0.902193  -0.283919  \n",
       "4  8.961000e+01  2.122290e+01  0.901244  -0.292480  \n",
       "5  8.870000e+01  2.096117e+01  0.907849  -0.265707  \n",
       "6  4.589951e+07  3.628650e+06  3.460335  20.616308  "
      ]
     },
     "execution_count": 67,
     "metadata": {},
     "output_type": "execute_result"
    }
   ],
   "source": [
    "descriptive_statistics(bova11.drop(['Data','Ativo'], axis=1))"
   ]
  },
  {
   "cell_type": "markdown",
   "id": "2516d6de",
   "metadata": {},
   "source": [
    "# 2.0 Feature Filtering"
   ]
  },
  {
   "cell_type": "code",
   "execution_count": 14,
   "id": "0ea909aa",
   "metadata": {},
   "outputs": [],
   "source": [
    "dolar.dropna(inplace=True)"
   ]
  },
  {
   "cell_type": "markdown",
   "id": "7c466805",
   "metadata": {},
   "source": [
    "# 3.0 Feature Engineering"
   ]
  },
  {
   "cell_type": "code",
   "execution_count": 15,
   "id": "02b6a3dc",
   "metadata": {},
   "outputs": [],
   "source": [
    "bitcoin['Ativo'] = 'BITCOIN'\n",
    "ether['Ativo'] = 'ETHER'"
   ]
  },
  {
   "cell_type": "markdown",
   "id": "e7fbd08a",
   "metadata": {},
   "source": [
    "# 4.0 Exploratory Data Analysis"
   ]
  },
  {
   "cell_type": "code",
   "execution_count": null,
   "id": "a42e8939",
   "metadata": {},
   "outputs": [],
   "source": []
  },
  {
   "cell_type": "markdown",
   "id": "ba2ffd29",
   "metadata": {},
   "source": [
    "# 5.0 Data preparation"
   ]
  },
  {
   "cell_type": "code",
   "execution_count": null,
   "id": "390614a8",
   "metadata": {},
   "outputs": [],
   "source": []
  },
  {
   "cell_type": "markdown",
   "id": "0d2f3509",
   "metadata": {},
   "source": [
    "# 6.0 Feature Selection"
   ]
  },
  {
   "cell_type": "code",
   "execution_count": null,
   "id": "4a8dc490",
   "metadata": {},
   "outputs": [],
   "source": []
  },
  {
   "cell_type": "markdown",
   "id": "1c3586ba",
   "metadata": {},
   "source": [
    "# 7.0 Machine Learning Modelling"
   ]
  },
  {
   "cell_type": "code",
   "execution_count": 39,
   "id": "f4052b0e",
   "metadata": {},
   "outputs": [
    {
     "data": {
      "text/plain": [
       "Timestamp('2020-11-09 00:00:00')"
      ]
     },
     "execution_count": 39,
     "metadata": {},
     "output_type": "execute_result"
    }
   ],
   "source": [
    "## Define test size: ONE YEAR\n",
    "\n",
    "test_period = dolar.Data.max() - datetime.timedelta(days=252)\n",
    "test_period"
   ]
  },
  {
   "cell_type": "markdown",
   "id": "2bafd2b8",
   "metadata": {},
   "source": [
    "## 7.1 Dolar"
   ]
  },
  {
   "cell_type": "code",
   "execution_count": 41,
   "id": "4d4ab497",
   "metadata": {},
   "outputs": [],
   "source": [
    "# Train Dataset\n",
    "X_train_dolar = dolar[dolar.Data < test_period]\n",
    "y_train_dolar = X_train_dolar['Fechamento']\n",
    "\n",
    "# Test Dataset\n",
    "X_test_dolar = dolar[dolar.Data >= test_period]\n",
    "y_test_dolar = X_test_dolar['Fechamento']\n"
   ]
  },
  {
   "cell_type": "markdown",
   "id": "165022c4",
   "metadata": {},
   "source": [
    "### Linear Regression"
   ]
  },
  {
   "cell_type": "code",
   "execution_count": 42,
   "id": "a2fcba18",
   "metadata": {},
   "outputs": [
    {
     "name": "stdout",
     "output_type": "stream",
     "text": [
      "\n",
      "Kfold Number: 10\n",
      "\n",
      "Kfold Number: 9\n",
      "\n",
      "Kfold Number: 8\n",
      "\n",
      "Kfold Number: 7\n",
      "\n",
      "Kfold Number: 6\n",
      "\n",
      "Kfold Number: 5\n",
      "\n",
      "Kfold Number: 4\n",
      "\n",
      "Kfold Number: 3\n",
      "\n",
      "Kfold Number: 2\n",
      "\n",
      "Kfold Number: 1\n"
     ]
    },
    {
     "data": {
      "text/html": [
       "<div>\n",
       "<style scoped>\n",
       "    .dataframe tbody tr th:only-of-type {\n",
       "        vertical-align: middle;\n",
       "    }\n",
       "\n",
       "    .dataframe tbody tr th {\n",
       "        vertical-align: top;\n",
       "    }\n",
       "\n",
       "    .dataframe thead th {\n",
       "        text-align: right;\n",
       "    }\n",
       "</style>\n",
       "<table border=\"1\" class=\"dataframe\">\n",
       "  <thead>\n",
       "    <tr style=\"text-align: right;\">\n",
       "      <th></th>\n",
       "      <th>Model</th>\n",
       "      <th>MAE cv</th>\n",
       "      <th>MAPE cv</th>\n",
       "      <th>RMSE cv</th>\n",
       "    </tr>\n",
       "  </thead>\n",
       "  <tbody>\n",
       "    <tr>\n",
       "      <th>0</th>\n",
       "      <td>Linear Regression</td>\n",
       "      <td>0.0+/-0.0</td>\n",
       "      <td>0.0+/-0.0</td>\n",
       "      <td>0.01+/-0.01</td>\n",
       "    </tr>\n",
       "  </tbody>\n",
       "</table>\n",
       "</div>"
      ],
      "text/plain": [
       "               Model     MAE cv    MAPE cv      RMSE cv\n",
       "0  Linear Regression  0.0+/-0.0  0.0+/-0.0  0.01+/-0.01"
      ]
     },
     "execution_count": 42,
     "metadata": {},
     "output_type": "execute_result"
    }
   ],
   "source": [
    "# Model Definition\n",
    "lr_dolar = LinearRegression()\n",
    "\n",
    "dolar_lr = cross_validation(X_train_dolar, 10, 'Linear Regression', lr_dolar, verbose=True)\n",
    "dolar_lr"
   ]
  },
  {
   "cell_type": "code",
   "execution_count": 44,
   "id": "765742a6",
   "metadata": {
    "scrolled": true
   },
   "outputs": [
    {
     "data": {
      "text/html": [
       "<div>\n",
       "<style scoped>\n",
       "    .dataframe tbody tr th:only-of-type {\n",
       "        vertical-align: middle;\n",
       "    }\n",
       "\n",
       "    .dataframe tbody tr th {\n",
       "        vertical-align: top;\n",
       "    }\n",
       "\n",
       "    .dataframe thead th {\n",
       "        text-align: right;\n",
       "    }\n",
       "</style>\n",
       "<table border=\"1\" class=\"dataframe\">\n",
       "  <thead>\n",
       "    <tr style=\"text-align: right;\">\n",
       "      <th></th>\n",
       "      <th>Model Name</th>\n",
       "      <th>MAE</th>\n",
       "      <th>MAPE</th>\n",
       "      <th>RMSE</th>\n",
       "    </tr>\n",
       "  </thead>\n",
       "  <tbody>\n",
       "    <tr>\n",
       "      <th>0</th>\n",
       "      <td>Linear Regression</td>\n",
       "      <td>2.649388e-14</td>\n",
       "      <td>4.979210e-15</td>\n",
       "      <td>2.652897e-14</td>\n",
       "    </tr>\n",
       "  </tbody>\n",
       "</table>\n",
       "</div>"
      ],
      "text/plain": [
       "          Model Name           MAE          MAPE          RMSE\n",
       "0  Linear Regression  2.649388e-14  4.979210e-15  2.652897e-14"
      ]
     },
     "execution_count": 44,
     "metadata": {},
     "output_type": "execute_result"
    }
   ],
   "source": [
    "# Train Dataset\n",
    "X_train_dolar = dolar[dolar.Data < test_period].drop(['Data','Ativo'], axis=1)\n",
    "y_train_dolar = X_train_dolar['Fechamento']\n",
    "\n",
    "# Test Dataset\n",
    "X_test_dolar = dolar[dolar.Data >= test_period].drop(['Data','Ativo'], axis=1)\n",
    "y_test_dolar = X_test_dolar['Fechamento']\n",
    "\n",
    "# Model Training\n",
    "lr_dolar.fit(X_train_dolar, y_train_dolar)\n",
    "\n",
    "# Model prediction\n",
    "yhat_lr_dolar = lr_dolar.predict(X_test_dolar)\n",
    "\n",
    "# Model Performance\n",
    "lr_result_dolar = ml_error('Linear Regression', y_test_dolar, yhat_lr_dolar)\n",
    "lr_result_dolar"
   ]
  },
  {
   "cell_type": "code",
   "execution_count": 45,
   "id": "4dbe2f10",
   "metadata": {
    "scrolled": true
   },
   "outputs": [],
   "source": [
    "# verbose =True\n",
    "# x_training  = X_train_dolar\n",
    "# kfold = 11\n",
    "# model_name = 'Linear Regression'\n",
    "# model = lr_dolar\n",
    "# for k in reversed(range(1,kfold+1)):\n",
    "#     if verbose:\n",
    "#         print('\\nKfold Number: {}'.format(k))\n",
    "#     # start and end date for validation\n",
    "#     validation_start_date = x_training['Data'].max() - datetime.timedelta(days=k*90)\n",
    "#     validation_end_date = x_training['Data'].max() - datetime.timedelta(days=(k-1)*90)\n",
    "\n",
    "#     # filtering dataset\n",
    "#     training = x_training[x_training['Data']< validation_start_date]\n",
    "#     validation = x_training[(x_training['Data'] >= validation_start_date) & (x_training['Data'] <= validation_end_date)]\n",
    "\n",
    "\n",
    "#     # training and validation dataset\n",
    "#     xtraining = training.drop(['Fechamento','Data', 'Ativo'], axis=1)\n",
    "#     ytraining = training['Fechamento']\n",
    "\n",
    "#     xvalidation = validation.drop(['Fechamento','Data','Ativo'], axis=1)\n",
    "#     yvalidation = validation['Fechamento']\n",
    "# #     print('training - min', training.Data.min())\n",
    "# #     print('training - max', training.Data.max())\n",
    "# #     print('validation - min', validation.Data.min())\n",
    "# #     print('validation - max', validation.Data.max())\n",
    "\n",
    "#     print('xtraining', xtraining.shape)\n",
    "#     print('ytraining', ytraining.shape)\n",
    "#     print('xvalidation', xvalidation.shape)\n",
    "#     print('yvalidation', yvalidation.shape)"
   ]
  },
  {
   "cell_type": "code",
   "execution_count": 46,
   "id": "e3edd596",
   "metadata": {
    "scrolled": false
   },
   "outputs": [
    {
     "data": {
      "image/png": "[encoded data removed]",
      "text/plain": [
       "<Figure size 432x288 with 1 Axes>"
      ]
     },
     "metadata": {
      "needs_background": "light"
     },
     "output_type": "display_data"
    }
   ],
   "source": [
    "yhat_lr_dolar = pd.Series(yhat_lr_dolar)\n",
    "plt.plot(yhat_lr_dolar, label='Predicted')\n",
    "plt.plot(y_test_dolar, label='Real')\n",
    "plt.legend();"
   ]
  },
  {
   "cell_type": "markdown",
   "id": "0739eb79",
   "metadata": {},
   "source": [
    "## 7.2 BOVA11"
   ]
  },
  {
   "cell_type": "code",
   "execution_count": 47,
   "id": "e7f9f74d",
   "metadata": {},
   "outputs": [],
   "source": [
    "# Train Dataset\n",
    "X_train_bova11 = bova11[bova11.Data < test_period]\n",
    "y_train_bova11 = bova11[bova11.Data < test_period]['Fechamento']\n",
    "\n",
    "# Test Dataset\n",
    "X_test_bova11 = bova11[bova11.Data >= test_period]\n",
    "y_test_bova11 = bova11[bova11.Data >= test_period]['Fechamento']"
   ]
  },
  {
   "cell_type": "markdown",
   "id": "423e88ca",
   "metadata": {},
   "source": [
    "### Linear Regression"
   ]
  },
  {
   "cell_type": "code",
   "execution_count": 48,
   "id": "2f892298",
   "metadata": {
    "scrolled": true
   },
   "outputs": [
    {
     "name": "stdout",
     "output_type": "stream",
     "text": [
      "\n",
      "Kfold Number: 5\n",
      "\n",
      "Kfold Number: 4\n",
      "\n",
      "Kfold Number: 3\n",
      "\n",
      "Kfold Number: 2\n",
      "\n",
      "Kfold Number: 1\n"
     ]
    },
    {
     "data": {
      "text/html": [
       "<div>\n",
       "<style scoped>\n",
       "    .dataframe tbody tr th:only-of-type {\n",
       "        vertical-align: middle;\n",
       "    }\n",
       "\n",
       "    .dataframe tbody tr th {\n",
       "        vertical-align: top;\n",
       "    }\n",
       "\n",
       "    .dataframe thead th {\n",
       "        text-align: right;\n",
       "    }\n",
       "</style>\n",
       "<table border=\"1\" class=\"dataframe\">\n",
       "  <thead>\n",
       "    <tr style=\"text-align: right;\">\n",
       "      <th></th>\n",
       "      <th>Model</th>\n",
       "      <th>MAE cv</th>\n",
       "      <th>MAPE cv</th>\n",
       "      <th>RMSE cv</th>\n",
       "    </tr>\n",
       "  </thead>\n",
       "  <tbody>\n",
       "    <tr>\n",
       "      <th>0</th>\n",
       "      <td>Linear Regression</td>\n",
       "      <td>0.31+/-0.11</td>\n",
       "      <td>0.0+/-0.0</td>\n",
       "      <td>0.42+/-0.16</td>\n",
       "    </tr>\n",
       "  </tbody>\n",
       "</table>\n",
       "</div>"
      ],
      "text/plain": [
       "               Model       MAE cv    MAPE cv      RMSE cv\n",
       "0  Linear Regression  0.31+/-0.11  0.0+/-0.0  0.42+/-0.16"
      ]
     },
     "execution_count": 48,
     "metadata": {},
     "output_type": "execute_result"
    }
   ],
   "source": [
    "# Model Definition\n",
    "lr_bova11 = LinearRegression()\n",
    "\n",
    "lr_cv_bova11 = cross_validation(X_train_bova11, 5, 'Linear Regression', lr_bova11, verbose=True)\n",
    "lr_cv_bova11"
   ]
  },
  {
   "cell_type": "code",
   "execution_count": 49,
   "id": "01cc6f86",
   "metadata": {},
   "outputs": [
    {
     "data": {
      "text/html": [
       "<div>\n",
       "<style scoped>\n",
       "    .dataframe tbody tr th:only-of-type {\n",
       "        vertical-align: middle;\n",
       "    }\n",
       "\n",
       "    .dataframe tbody tr th {\n",
       "        vertical-align: top;\n",
       "    }\n",
       "\n",
       "    .dataframe thead th {\n",
       "        text-align: right;\n",
       "    }\n",
       "</style>\n",
       "<table border=\"1\" class=\"dataframe\">\n",
       "  <thead>\n",
       "    <tr style=\"text-align: right;\">\n",
       "      <th></th>\n",
       "      <th>Model Name</th>\n",
       "      <th>MAE</th>\n",
       "      <th>MAPE</th>\n",
       "      <th>RMSE</th>\n",
       "    </tr>\n",
       "  </thead>\n",
       "  <tbody>\n",
       "    <tr>\n",
       "      <th>0</th>\n",
       "      <td>Linear Regression</td>\n",
       "      <td>0.33648</td>\n",
       "      <td>0.002975</td>\n",
       "      <td>0.443267</td>\n",
       "    </tr>\n",
       "  </tbody>\n",
       "</table>\n",
       "</div>"
      ],
      "text/plain": [
       "          Model Name      MAE      MAPE      RMSE\n",
       "0  Linear Regression  0.33648  0.002975  0.443267"
      ]
     },
     "execution_count": 49,
     "metadata": {},
     "output_type": "execute_result"
    }
   ],
   "source": [
    "# Train Dataset\n",
    "X_train_bova11 = bova11[bova11.Data < test_period].drop(['Data', 'Fechamento', 'Ativo'], axis=1)\n",
    "y_train_bova11 = bova11[bova11.Data < test_period]['Fechamento']\n",
    "\n",
    "# Test Dataset\n",
    "X_test_bova11 = bova11[bova11.Data >= test_period].drop(['Data', 'Fechamento', 'Ativo'], axis=1)\n",
    "y_test_bova11 = bova11[bova11.Data >= test_period]['Fechamento']\n",
    "\n",
    "# Model training\n",
    "lr_bova11.fit(X_train_bova11, y_train_bova11)\n",
    "\n",
    "# Model Prediction\n",
    "yhat_lr_bova11 = lr_bova11.predict(X_test_bova11)\n",
    "\n",
    "# Model Performance\n",
    "lr_result_bova11 = ml_error('Linear Regression', y_test_bova11, yhat_lr_bova11)\n",
    "lr_result_bova11"
   ]
  },
  {
   "cell_type": "code",
   "execution_count": 50,
   "id": "5d52ba06",
   "metadata": {
    "scrolled": true
   },
   "outputs": [
    {
     "data": {
      "image/png": "[encoded data removed]",
      "text/plain": [
       "<Figure size 432x288 with 1 Axes>"
      ]
     },
     "metadata": {
      "needs_background": "light"
     },
     "output_type": "display_data"
    }
   ],
   "source": [
    "yhat_lr_dolar = pd.Series(yhat_lr_bova11)\n",
    "plt.plot(yhat_lr_bova11, label='Predicted')\n",
    "plt.plot(y_test_bova11, label='Real')\n",
    "plt.legend();"
   ]
  },
  {
   "cell_type": "markdown",
   "id": "20efead2",
   "metadata": {},
   "source": [
    "## 7.3 SMAL11"
   ]
  },
  {
   "cell_type": "code",
   "execution_count": 51,
   "id": "672670ab",
   "metadata": {},
   "outputs": [],
   "source": [
    "# Train Dataset\n",
    "X_train_smal11 = smal11[smal11.Data < test_period]\n",
    "y_train_smal11 = X_train_smal11['Fechamento']\n",
    "\n",
    "# Test Dataset\n",
    "X_test_smal11 = smal11[smal11.Data >= test_period]\n",
    "y_test_smal11 = X_test_smal11['Fechamento']"
   ]
  },
  {
   "cell_type": "markdown",
   "id": "c5fdbef7",
   "metadata": {},
   "source": [
    "### Linear Regression"
   ]
  },
  {
   "cell_type": "code",
   "execution_count": 52,
   "id": "e7b466fd",
   "metadata": {},
   "outputs": [
    {
     "name": "stdout",
     "output_type": "stream",
     "text": [
      "\n",
      "Kfold Number: 5\n",
      "\n",
      "Kfold Number: 4\n",
      "\n",
      "Kfold Number: 3\n",
      "\n",
      "Kfold Number: 2\n",
      "\n",
      "Kfold Number: 1\n"
     ]
    },
    {
     "data": {
      "text/html": [
       "<div>\n",
       "<style scoped>\n",
       "    .dataframe tbody tr th:only-of-type {\n",
       "        vertical-align: middle;\n",
       "    }\n",
       "\n",
       "    .dataframe tbody tr th {\n",
       "        vertical-align: top;\n",
       "    }\n",
       "\n",
       "    .dataframe thead th {\n",
       "        text-align: right;\n",
       "    }\n",
       "</style>\n",
       "<table border=\"1\" class=\"dataframe\">\n",
       "  <thead>\n",
       "    <tr style=\"text-align: right;\">\n",
       "      <th></th>\n",
       "      <th>Model</th>\n",
       "      <th>MAE cv</th>\n",
       "      <th>MAPE cv</th>\n",
       "      <th>RMSE cv</th>\n",
       "    </tr>\n",
       "  </thead>\n",
       "  <tbody>\n",
       "    <tr>\n",
       "      <th>0</th>\n",
       "      <td>Linear Regression</td>\n",
       "      <td>3.39+/-1.62</td>\n",
       "      <td>0.0+/-0.0</td>\n",
       "      <td>5.97+/-2.65</td>\n",
       "    </tr>\n",
       "  </tbody>\n",
       "</table>\n",
       "</div>"
      ],
      "text/plain": [
       "               Model       MAE cv    MAPE cv      RMSE cv\n",
       "0  Linear Regression  3.39+/-1.62  0.0+/-0.0  5.97+/-2.65"
      ]
     },
     "execution_count": 52,
     "metadata": {},
     "output_type": "execute_result"
    }
   ],
   "source": [
    "# Model Definition\n",
    "lr_smal11 = LinearRegression()\n",
    "\n",
    "smal11_lr = cross_validation(X_train_smal11, 5, 'Linear Regression', lr_smal11, verbose=True)\n",
    "smal11_lr"
   ]
  },
  {
   "cell_type": "code",
   "execution_count": 53,
   "id": "86bb0b3f",
   "metadata": {},
   "outputs": [
    {
     "data": {
      "text/html": [
       "<div>\n",
       "<style scoped>\n",
       "    .dataframe tbody tr th:only-of-type {\n",
       "        vertical-align: middle;\n",
       "    }\n",
       "\n",
       "    .dataframe tbody tr th {\n",
       "        vertical-align: top;\n",
       "    }\n",
       "\n",
       "    .dataframe thead th {\n",
       "        text-align: right;\n",
       "    }\n",
       "</style>\n",
       "<table border=\"1\" class=\"dataframe\">\n",
       "  <thead>\n",
       "    <tr style=\"text-align: right;\">\n",
       "      <th></th>\n",
       "      <th>Model Name</th>\n",
       "      <th>MAE</th>\n",
       "      <th>MAPE</th>\n",
       "      <th>RMSE</th>\n",
       "    </tr>\n",
       "  </thead>\n",
       "  <tbody>\n",
       "    <tr>\n",
       "      <th>0</th>\n",
       "      <td>Linear Regression</td>\n",
       "      <td>9.569527</td>\n",
       "      <td>0.003404</td>\n",
       "      <td>12.278894</td>\n",
       "    </tr>\n",
       "  </tbody>\n",
       "</table>\n",
       "</div>"
      ],
      "text/plain": [
       "          Model Name       MAE      MAPE       RMSE\n",
       "0  Linear Regression  9.569527  0.003404  12.278894"
      ]
     },
     "execution_count": 53,
     "metadata": {},
     "output_type": "execute_result"
    }
   ],
   "source": [
    "# Train Dataset\n",
    "X_train_smal11 = smal11[smal11.Data < test_period].drop(['Data', 'Fechamento', 'Ativo'], axis=1)\n",
    "y_train_smal11 = smal11[smal11.Data < test_period]['Fechamento']\n",
    "\n",
    "# Test Dataset\n",
    "X_test_smal11 = smal11[smal11.Data >= test_period].drop(['Data', 'Fechamento', 'Ativo'], axis=1)\n",
    "y_test_smal11 = smal11[smal11.Data >= test_period]['Fechamento']\n",
    "\n",
    "# Model training\n",
    "lr_smal11.fit(X_train_smal11, y_train_smal11)\n",
    "\n",
    "# Model Prediction\n",
    "yhat_lr_smal11 = lr_bova11.predict(X_test_smal11)\n",
    "\n",
    "# Model Performance\n",
    "lr_result_smal11 = ml_error('Linear Regression', y_test_smal11, yhat_lr_smal11)\n",
    "lr_result_smal11"
   ]
  },
  {
   "cell_type": "code",
   "execution_count": 54,
   "id": "ae8f45a2",
   "metadata": {},
   "outputs": [
    {
     "data": {
      "image/png": "[encoded data removed]",
      "text/plain": [
       "<Figure size 432x288 with 1 Axes>"
      ]
     },
     "metadata": {
      "needs_background": "light"
     },
     "output_type": "display_data"
    }
   ],
   "source": [
    "yhat_lr_smal11 = pd.Series(yhat_lr_smal11)\n",
    "plt.plot(yhat_lr_smal11, label='Predicted')\n",
    "plt.plot(y_test_smal11, label='Real')\n",
    "plt.legend();"
   ]
  },
  {
   "cell_type": "markdown",
   "id": "5132cc35",
   "metadata": {},
   "source": [
    "## 7.4 Bitcoin"
   ]
  },
  {
   "cell_type": "code",
   "execution_count": 56,
   "id": "e6174d49",
   "metadata": {},
   "outputs": [],
   "source": [
    "# Train Dataset\n",
    "X_train_bitcoin = bitcoin[bitcoin.Data < test_period]\n",
    "y_train_bitcoin1 = bitcoin[bitcoin.Data < test_period]['Fechamento']\n",
    "\n",
    "# Test Dataset\n",
    "X_test_bitcoin = bitcoin[bitcoin.Data >= test_period]\n",
    "y_test_bitcoin = bitcoin[bitcoin.Data >= test_period]['Fechamento']"
   ]
  },
  {
   "cell_type": "markdown",
   "id": "efd30931",
   "metadata": {},
   "source": [
    "### Linear Regression"
   ]
  },
  {
   "cell_type": "code",
   "execution_count": 57,
   "id": "731bb18d",
   "metadata": {
    "scrolled": true
   },
   "outputs": [
    {
     "name": "stdout",
     "output_type": "stream",
     "text": [
      "\n",
      "Kfold Number: 5\n",
      "\n",
      "Kfold Number: 4\n",
      "\n",
      "Kfold Number: 3\n",
      "\n",
      "Kfold Number: 2\n",
      "\n",
      "Kfold Number: 1\n"
     ]
    },
    {
     "data": {
      "text/html": [
       "<div>\n",
       "<style scoped>\n",
       "    .dataframe tbody tr th:only-of-type {\n",
       "        vertical-align: middle;\n",
       "    }\n",
       "\n",
       "    .dataframe tbody tr th {\n",
       "        vertical-align: top;\n",
       "    }\n",
       "\n",
       "    .dataframe thead th {\n",
       "        text-align: right;\n",
       "    }\n",
       "</style>\n",
       "<table border=\"1\" class=\"dataframe\">\n",
       "  <thead>\n",
       "    <tr style=\"text-align: right;\">\n",
       "      <th></th>\n",
       "      <th>Model</th>\n",
       "      <th>MAE cv</th>\n",
       "      <th>MAPE cv</th>\n",
       "      <th>RMSE cv</th>\n",
       "    </tr>\n",
       "  </thead>\n",
       "  <tbody>\n",
       "    <tr>\n",
       "      <th>0</th>\n",
       "      <td>Linear Regression</td>\n",
       "      <td>136.79+/-221.42</td>\n",
       "      <td>0.02+/-0.03</td>\n",
       "      <td>761.84+/-1397.63</td>\n",
       "    </tr>\n",
       "  </tbody>\n",
       "</table>\n",
       "</div>"
      ],
      "text/plain": [
       "               Model           MAE cv      MAPE cv           RMSE cv\n",
       "0  Linear Regression  136.79+/-221.42  0.02+/-0.03  761.84+/-1397.63"
      ]
     },
     "execution_count": 57,
     "metadata": {},
     "output_type": "execute_result"
    }
   ],
   "source": [
    "# Model Definition\n",
    "lr_bit = LinearRegression()\n",
    "\n",
    "lr_cv_bit = cross_validation(X_train_bitcoin, 5, 'Linear Regression', lr_bit, verbose=True )\n",
    "lr_cv_bit"
   ]
  },
  {
   "cell_type": "code",
   "execution_count": 59,
   "id": "930a1bdb",
   "metadata": {
    "scrolled": true
   },
   "outputs": [
    {
     "data": {
      "text/html": [
       "<div>\n",
       "<style scoped>\n",
       "    .dataframe tbody tr th:only-of-type {\n",
       "        vertical-align: middle;\n",
       "    }\n",
       "\n",
       "    .dataframe tbody tr th {\n",
       "        vertical-align: top;\n",
       "    }\n",
       "\n",
       "    .dataframe thead th {\n",
       "        text-align: right;\n",
       "    }\n",
       "</style>\n",
       "<table border=\"1\" class=\"dataframe\">\n",
       "  <thead>\n",
       "    <tr style=\"text-align: right;\">\n",
       "      <th></th>\n",
       "      <th>Model Name</th>\n",
       "      <th>MAE</th>\n",
       "      <th>MAPE</th>\n",
       "      <th>RMSE</th>\n",
       "    </tr>\n",
       "  </thead>\n",
       "  <tbody>\n",
       "    <tr>\n",
       "      <th>0</th>\n",
       "      <td>Linear Regression</td>\n",
       "      <td>459.428583</td>\n",
       "      <td>0.011547</td>\n",
       "      <td>649.364951</td>\n",
       "    </tr>\n",
       "  </tbody>\n",
       "</table>\n",
       "</div>"
      ],
      "text/plain": [
       "          Model Name         MAE      MAPE        RMSE\n",
       "0  Linear Regression  459.428583  0.011547  649.364951"
      ]
     },
     "execution_count": 59,
     "metadata": {},
     "output_type": "execute_result"
    }
   ],
   "source": [
    "# Train Dataset\n",
    "X_train_bitcoin = bitcoin[bitcoin.Data < test_period].drop(['Data', 'Fechamento', 'Ativo'], axis=1)\n",
    "y_train_bitcoin = bitcoin[bitcoin.Data < test_period]['Fechamento']\n",
    "\n",
    "# Test Dataset\n",
    "X_test_bitcoin = bitcoin[bitcoin.Data >= test_period].drop(['Data', 'Fechamento', 'Ativo'], axis=1)\n",
    "y_test_bitcoin = bitcoin[bitcoin.Data >= test_period]['Fechamento']\n",
    "\n",
    "# Model training\n",
    "lr_bit.fit(X_train_bitcoin, y_train_bitcoin)\n",
    "\n",
    "# Model Prediction\n",
    "yhat_lr_bitcoin = lr_bova11.predict(X_test_bitcoin)\n",
    "\n",
    "# Model Performance\n",
    "lr_result_bitcoin = ml_error('Linear Regression', y_test_bitcoin, yhat_lr_bitcoin)\n",
    "lr_result_bitcoin"
   ]
  },
  {
   "cell_type": "code",
   "execution_count": 60,
   "id": "0875d47c",
   "metadata": {
    "scrolled": true
   },
   "outputs": [
    {
     "data": {
      "image/png": "[encoded data removed]",
      "text/plain": [
       "<Figure size 432x288 with 1 Axes>"
      ]
     },
     "metadata": {
      "needs_background": "light"
     },
     "output_type": "display_data"
    }
   ],
   "source": [
    "yhat_lr_bitcoin = pd.Series(yhat_lr_bitcoin)\n",
    "plt.plot(yhat_lr_bitcoin, label='Predicted')\n",
    "plt.plot(y_test_bitcoin, label='Real')\n",
    "plt.legend();"
   ]
  },
  {
   "cell_type": "markdown",
   "id": "e86fc3fe",
   "metadata": {},
   "source": [
    "## 7.5 Ether"
   ]
  },
  {
   "cell_type": "code",
   "execution_count": 61,
   "id": "a28b5b30",
   "metadata": {},
   "outputs": [],
   "source": [
    "# Train Dataset\n",
    "X_train_ether = ether[ether.Data < test_period]\n",
    "y_train_ether = ether[ether.Data < test_period]['Fechamento']\n",
    "\n",
    "# Test Dataset\n",
    "X_test_ether = ether[ether.Data >= test_period]\n",
    "y_test_ether = ether[ether.Data >= test_period]['Fechamento']"
   ]
  },
  {
   "cell_type": "markdown",
   "id": "d4f913c1",
   "metadata": {},
   "source": [
    "### Linear Regression"
   ]
  },
  {
   "cell_type": "code",
   "execution_count": 62,
   "id": "00b68740",
   "metadata": {
    "scrolled": true
   },
   "outputs": [
    {
     "name": "stdout",
     "output_type": "stream",
     "text": [
      "\n",
      "Kfold Number: 5\n",
      "\n",
      "Kfold Number: 4\n",
      "\n",
      "Kfold Number: 3\n",
      "\n",
      "Kfold Number: 2\n",
      "\n",
      "Kfold Number: 1\n"
     ]
    },
    {
     "data": {
      "text/html": [
       "<div>\n",
       "<style scoped>\n",
       "    .dataframe tbody tr th:only-of-type {\n",
       "        vertical-align: middle;\n",
       "    }\n",
       "\n",
       "    .dataframe tbody tr th {\n",
       "        vertical-align: top;\n",
       "    }\n",
       "\n",
       "    .dataframe thead th {\n",
       "        text-align: right;\n",
       "    }\n",
       "</style>\n",
       "<table border=\"1\" class=\"dataframe\">\n",
       "  <thead>\n",
       "    <tr style=\"text-align: right;\">\n",
       "      <th></th>\n",
       "      <th>Model</th>\n",
       "      <th>MAE cv</th>\n",
       "      <th>MAPE cv</th>\n",
       "      <th>RMSE cv</th>\n",
       "    </tr>\n",
       "  </thead>\n",
       "  <tbody>\n",
       "    <tr>\n",
       "      <th>0</th>\n",
       "      <td>Linear Regression</td>\n",
       "      <td>1.45+/-0.24</td>\n",
       "      <td>0.01+/-0.0</td>\n",
       "      <td>5.93+/-3.01</td>\n",
       "    </tr>\n",
       "  </tbody>\n",
       "</table>\n",
       "</div>"
      ],
      "text/plain": [
       "               Model       MAE cv     MAPE cv      RMSE cv\n",
       "0  Linear Regression  1.45+/-0.24  0.01+/-0.0  5.93+/-3.01"
      ]
     },
     "execution_count": 62,
     "metadata": {},
     "output_type": "execute_result"
    }
   ],
   "source": [
    "lr_ether = LinearRegression()\n",
    "\n",
    "lr_cv_ether = cross_validation(X_train_ether, 5, 'Linear Regression', lr_ether, verbose=True)\n",
    "lr_cv_ether"
   ]
  },
  {
   "cell_type": "code",
   "execution_count": 63,
   "id": "40a41ee7",
   "metadata": {},
   "outputs": [
    {
     "data": {
      "text/html": [
       "<div>\n",
       "<style scoped>\n",
       "    .dataframe tbody tr th:only-of-type {\n",
       "        vertical-align: middle;\n",
       "    }\n",
       "\n",
       "    .dataframe tbody tr th {\n",
       "        vertical-align: top;\n",
       "    }\n",
       "\n",
       "    .dataframe thead th {\n",
       "        text-align: right;\n",
       "    }\n",
       "</style>\n",
       "<table border=\"1\" class=\"dataframe\">\n",
       "  <thead>\n",
       "    <tr style=\"text-align: right;\">\n",
       "      <th></th>\n",
       "      <th>Model Name</th>\n",
       "      <th>MAE</th>\n",
       "      <th>MAPE</th>\n",
       "      <th>RMSE</th>\n",
       "    </tr>\n",
       "  </thead>\n",
       "  <tbody>\n",
       "    <tr>\n",
       "      <th>0</th>\n",
       "      <td>Linear Regression</td>\n",
       "      <td>12.891069</td>\n",
       "      <td>0.00885</td>\n",
       "      <td>27.264595</td>\n",
       "    </tr>\n",
       "  </tbody>\n",
       "</table>\n",
       "</div>"
      ],
      "text/plain": [
       "          Model Name        MAE     MAPE       RMSE\n",
       "0  Linear Regression  12.891069  0.00885  27.264595"
      ]
     },
     "execution_count": 63,
     "metadata": {},
     "output_type": "execute_result"
    }
   ],
   "source": [
    "# Train Dataset\n",
    "\n",
    "X_train_ether = ether[ether.Data < test_period].drop(['Data', 'Fechamento', 'Ativo'], axis=1)\n",
    "y_train_ether = ether[ether.Data < test_period]['Fechamento']\n",
    "\n",
    "# Test Dataset\n",
    "X_test_ether = ether[ether.Data >= test_period].drop(['Data', 'Fechamento', 'Ativo'], axis=1)\n",
    "y_test_ether = ether[ether.Data >= test_period]['Fechamento']\n",
    "\n",
    "# Model training\n",
    "lr_ether.fit(X_train_ether, y_train_ether)\n",
    "\n",
    "# Model Prediction\n",
    "yhat_lr_ether = lr_ether.predict(X_test_ether)\n",
    "\n",
    "# Model Performance\n",
    "lr_result_ether = ml_error('Linear Regression', y_test_ether, yhat_lr_ether)\n",
    "lr_result_ether"
   ]
  },
  {
   "cell_type": "code",
   "execution_count": 64,
   "id": "686bf4c5",
   "metadata": {},
   "outputs": [
    {
     "data": {
      "image/png": "[encoded data removed]",
      "text/plain": [
       "<Figure size 432x288 with 1 Axes>"
      ]
     },
     "metadata": {
      "needs_background": "light"
     },
     "output_type": "display_data"
    }
   ],
   "source": [
    "yhat_lr_ether = pd.Series(yhat_lr_ether)\n",
    "plt.plot(yhat_lr_ether, label='Predicted')\n",
    "plt.plot(y_test_ether, label='Real')\n",
    "plt.legend();"
   ]
  },
  {
   "cell_type": "markdown",
   "id": "710dbb78",
   "metadata": {},
   "source": [
    "# 8.0 Hyperparameter Fine-Tunning"
   ]
  },
  {
   "cell_type": "markdown",
   "id": "db9ddc3e",
   "metadata": {},
   "source": [
    "# 9.0 Business Report"
   ]
  },
  {
   "cell_type": "code",
   "execution_count": null,
   "id": "ee3b4179",
   "metadata": {},
   "outputs": [],
   "source": []
  },
  {
   "cell_type": "markdown",
   "id": "29bd6a40",
   "metadata": {},
   "source": [
    "# 10.0 Deploy"
   ]
  },
  {
   "cell_type": "code",
   "execution_count": null,
   "id": "9945a251",
   "metadata": {},
   "outputs": [],
   "source": []
  }
 ],
 "metadata": {
  "kernelspec": {
   "display_name": "Python 3 (ipykernel)",
   "language": "python",
   "name": "python3"
  },
  "language_info": {
   "codemirror_mode": {
    "name": "ipython",
    "version": 3
   },
   "file_extension": ".py",
   "mimetype": "text/x-python",
   "name": "python",
   "nbconvert_exporter": "python",
   "pygments_lexer": "ipython3",
   "version": "3.7.6"
  }
 },
 "nbformat": 4,
 "nbformat_minor": 5
}
